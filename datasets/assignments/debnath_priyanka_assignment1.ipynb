{
  "nbformat": 4,
  "nbformat_minor": 0,
  "metadata": {
    "colab": {
      "name": "debnath_priyanka_assignment1.ipynb",
      "provenance": [],
      "collapsed_sections": []
    },
    "kernelspec": {
      "name": "python3",
      "display_name": "Python 3"
    },
    "accelerator": "GPU"
  },
  "cells": [
    {
      "cell_type": "markdown",
      "metadata": {
        "id": "5fEh5-_yeBGC",
        "colab_type": "text"
      },
      "source": [
        "#Exploring the MovieLens 1M Dataset"
      ]
    },
    {
      "cell_type": "markdown",
      "metadata": {
        "id": "80g6PrPofUUS",
        "colab_type": "text"
      },
      "source": [
        "#### Extrated (and slightly modified) from *Python for Data Analysis (Wes McKinney)*"
      ]
    },
    {
      "cell_type": "markdown",
      "metadata": {
        "id": "D-ckglFhfaFf",
        "colab_type": "text"
      },
      "source": [
        "This dataset contains 1 million ratings collected from 6000 users on 4000 movies, and it is organized into three tables:\n",
        "\n",
        "\n",
        "*   Ratings\n",
        "*   Users\n",
        "*   Movie information\n",
        "\n",
        "Each table is available as a separate file, each containing a series of rows where columns are separated by *::*\n",
        "\n",
        "\n",
        "[Download the dataset here](http://files.grouplens.org/datasets/movielens/ml-1m.zip)\n",
        "\n",
        "This example illustrates a series of interesting things that we can learn from this dataset. Most operations will be performed using the pandas library. For more details, please refer to *Python for Data Analysis - page 26*."
      ]
    },
    {
      "cell_type": "markdown",
      "metadata": {
        "id": "2PzeTVsCgG_S",
        "colab_type": "text"
      },
      "source": [
        "### **Setup**"
      ]
    },
    {
      "cell_type": "markdown",
      "metadata": {
        "colab_type": "text",
        "id": "cG3U6tckgjyC"
      },
      "source": [
        "Let's import the dataset by cloning a local repository which has the copy of the above dataset. This helps in easy access throughout the notebook"
      ]
    },
    {
      "cell_type": "code",
      "metadata": {
        "id": "0rMmxGu3gJ-r",
        "colab_type": "code",
        "outputId": "2ce933a3-9c93-44ec-d464-a3d2fbcf214d",
        "colab": {
          "base_uri": "https://localhost:8080/",
          "height": 119
        }
      },
      "source": [
        "!git clone https://github.com/priyanka-debnath/cs6220-sp20.git"
      ],
      "execution_count": 0,
      "outputs": [
        {
          "output_type": "stream",
          "text": [
            "Cloning into 'cs6220-sp20'...\n",
            "remote: Enumerating objects: 9, done.\u001b[K\n",
            "remote: Counting objects: 100% (9/9), done.\u001b[K\n",
            "remote: Compressing objects: 100% (7/7), done.\u001b[K\n",
            "remote: Total 9 (delta 0), reused 9 (delta 0), pack-reused 0\u001b[K\n",
            "Unpacking objects: 100% (9/9), done.\n"
          ],
          "name": "stdout"
        }
      ]
    },
    {
      "cell_type": "markdown",
      "metadata": {
        "id": "HuetNPh6g1eQ",
        "colab_type": "text"
      },
      "source": [
        "We now move to the right folder for quick access."
      ]
    },
    {
      "cell_type": "code",
      "metadata": {
        "id": "bu_ouvP3g6xl",
        "colab_type": "code",
        "outputId": "67809ac4-0030-4bb7-ee77-0eebb0b4dc32",
        "colab": {
          "base_uri": "https://localhost:8080/",
          "height": 34
        }
      },
      "source": [
        "cd cs6220-sp20/datasets/movie-lens/"
      ],
      "execution_count": 0,
      "outputs": [
        {
          "output_type": "stream",
          "text": [
            "/content/cs6220-sp20/datasets/movie-lens\n"
          ],
          "name": "stdout"
        }
      ]
    },
    {
      "cell_type": "markdown",
      "metadata": {
        "id": "vocX0dqVfk-X",
        "colab_type": "text"
      },
      "source": [
        "### **Code**"
      ]
    },
    {
      "cell_type": "markdown",
      "metadata": {
        "id": "ekFF7cTKfmUw",
        "colab_type": "text"
      },
      "source": [
        "Let's begin by importing pandas. It is conventional to use *pd* to denote pandas and set its max results as 1000 so as to see a good number of results."
      ]
    },
    {
      "cell_type": "code",
      "metadata": {
        "id": "Uyrf7TllfzFl",
        "colab_type": "code",
        "colab": {}
      },
      "source": [
        "import pandas as pd\n",
        "pd.set_option('display.max_rows', 1000)"
      ],
      "execution_count": 0,
      "outputs": []
    },
    {
      "cell_type": "markdown",
      "metadata": {
        "id": "B7mK3db_f-6J",
        "colab_type": "text"
      },
      "source": [
        "Next we will import each of the three tables from the dataset and assign names to each of the columns:"
      ]
    },
    {
      "cell_type": "code",
      "metadata": {
        "id": "O6j7dKAhBBwd",
        "colab_type": "code",
        "colab": {}
      },
      "source": [
        "unames = ['user_id', 'gender', 'age', 'occupation', 'zip']\n",
        "users = pd.read_table('users.dat', sep='::', header=None, names=unames, engine='python')\n",
        "\n",
        "rnames = ['user_id', 'movie_id', 'rating', 'timestamp']\n",
        "ratings = pd.read_table('ratings.dat', sep='::', header=None, names=rnames, engine='python')\n",
        "\n",
        "mnames = ['movie_id', 'title', 'genres']\n",
        "movies = pd.read_table('movies.dat', sep='::', header=None, names=mnames, engine='python')"
      ],
      "execution_count": 0,
      "outputs": []
    },
    {
      "cell_type": "markdown",
      "metadata": {
        "id": "Bfedw1sihFN9",
        "colab_type": "text"
      },
      "source": [
        "Let us take a look at the sample data that we just imported."
      ]
    },
    {
      "cell_type": "code",
      "metadata": {
        "id": "yScmLcJqhLBb",
        "colab_type": "code",
        "outputId": "2f3f457a-3162-4ed5-ae82-d505112cfc85",
        "colab": {
          "base_uri": "https://localhost:8080/",
          "height": 359
        }
      },
      "source": [
        "users[:10]"
      ],
      "execution_count": 0,
      "outputs": [
        {
          "output_type": "execute_result",
          "data": {
            "text/html": [
              "<div>\n",
              "<style scoped>\n",
              "    .dataframe tbody tr th:only-of-type {\n",
              "        vertical-align: middle;\n",
              "    }\n",
              "\n",
              "    .dataframe tbody tr th {\n",
              "        vertical-align: top;\n",
              "    }\n",
              "\n",
              "    .dataframe thead th {\n",
              "        text-align: right;\n",
              "    }\n",
              "</style>\n",
              "<table border=\"1\" class=\"dataframe\">\n",
              "  <thead>\n",
              "    <tr style=\"text-align: right;\">\n",
              "      <th></th>\n",
              "      <th>user_id</th>\n",
              "      <th>gender</th>\n",
              "      <th>age</th>\n",
              "      <th>occupation</th>\n",
              "      <th>zip</th>\n",
              "    </tr>\n",
              "  </thead>\n",
              "  <tbody>\n",
              "    <tr>\n",
              "      <th>0</th>\n",
              "      <td>1</td>\n",
              "      <td>F</td>\n",
              "      <td>1</td>\n",
              "      <td>10</td>\n",
              "      <td>48067</td>\n",
              "    </tr>\n",
              "    <tr>\n",
              "      <th>1</th>\n",
              "      <td>2</td>\n",
              "      <td>M</td>\n",
              "      <td>56</td>\n",
              "      <td>16</td>\n",
              "      <td>70072</td>\n",
              "    </tr>\n",
              "    <tr>\n",
              "      <th>2</th>\n",
              "      <td>3</td>\n",
              "      <td>M</td>\n",
              "      <td>25</td>\n",
              "      <td>15</td>\n",
              "      <td>55117</td>\n",
              "    </tr>\n",
              "    <tr>\n",
              "      <th>3</th>\n",
              "      <td>4</td>\n",
              "      <td>M</td>\n",
              "      <td>45</td>\n",
              "      <td>7</td>\n",
              "      <td>02460</td>\n",
              "    </tr>\n",
              "    <tr>\n",
              "      <th>4</th>\n",
              "      <td>5</td>\n",
              "      <td>M</td>\n",
              "      <td>25</td>\n",
              "      <td>20</td>\n",
              "      <td>55455</td>\n",
              "    </tr>\n",
              "    <tr>\n",
              "      <th>5</th>\n",
              "      <td>6</td>\n",
              "      <td>F</td>\n",
              "      <td>50</td>\n",
              "      <td>9</td>\n",
              "      <td>55117</td>\n",
              "    </tr>\n",
              "    <tr>\n",
              "      <th>6</th>\n",
              "      <td>7</td>\n",
              "      <td>M</td>\n",
              "      <td>35</td>\n",
              "      <td>1</td>\n",
              "      <td>06810</td>\n",
              "    </tr>\n",
              "    <tr>\n",
              "      <th>7</th>\n",
              "      <td>8</td>\n",
              "      <td>M</td>\n",
              "      <td>25</td>\n",
              "      <td>12</td>\n",
              "      <td>11413</td>\n",
              "    </tr>\n",
              "    <tr>\n",
              "      <th>8</th>\n",
              "      <td>9</td>\n",
              "      <td>M</td>\n",
              "      <td>25</td>\n",
              "      <td>17</td>\n",
              "      <td>61614</td>\n",
              "    </tr>\n",
              "    <tr>\n",
              "      <th>9</th>\n",
              "      <td>10</td>\n",
              "      <td>F</td>\n",
              "      <td>35</td>\n",
              "      <td>1</td>\n",
              "      <td>95370</td>\n",
              "    </tr>\n",
              "  </tbody>\n",
              "</table>\n",
              "</div>"
            ],
            "text/plain": [
              "   user_id gender  age  occupation    zip\n",
              "0        1      F    1          10  48067\n",
              "1        2      M   56          16  70072\n",
              "2        3      M   25          15  55117\n",
              "3        4      M   45           7  02460\n",
              "4        5      M   25          20  55455\n",
              "5        6      F   50           9  55117\n",
              "6        7      M   35           1  06810\n",
              "7        8      M   25          12  11413\n",
              "8        9      M   25          17  61614\n",
              "9       10      F   35           1  95370"
            ]
          },
          "metadata": {
            "tags": []
          },
          "execution_count": 12
        }
      ]
    },
    {
      "cell_type": "code",
      "metadata": {
        "id": "1_fZASeZho3H",
        "colab_type": "code",
        "outputId": "873852b3-058b-482f-f87d-181424e59a22",
        "colab": {
          "base_uri": "https://localhost:8080/",
          "height": 359
        }
      },
      "source": [
        "movies[:10]"
      ],
      "execution_count": 0,
      "outputs": [
        {
          "output_type": "execute_result",
          "data": {
            "text/html": [
              "<div>\n",
              "<style scoped>\n",
              "    .dataframe tbody tr th:only-of-type {\n",
              "        vertical-align: middle;\n",
              "    }\n",
              "\n",
              "    .dataframe tbody tr th {\n",
              "        vertical-align: top;\n",
              "    }\n",
              "\n",
              "    .dataframe thead th {\n",
              "        text-align: right;\n",
              "    }\n",
              "</style>\n",
              "<table border=\"1\" class=\"dataframe\">\n",
              "  <thead>\n",
              "    <tr style=\"text-align: right;\">\n",
              "      <th></th>\n",
              "      <th>movie_id</th>\n",
              "      <th>title</th>\n",
              "      <th>genres</th>\n",
              "    </tr>\n",
              "  </thead>\n",
              "  <tbody>\n",
              "    <tr>\n",
              "      <th>0</th>\n",
              "      <td>1</td>\n",
              "      <td>Toy Story (1995)</td>\n",
              "      <td>Animation|Children's|Comedy</td>\n",
              "    </tr>\n",
              "    <tr>\n",
              "      <th>1</th>\n",
              "      <td>2</td>\n",
              "      <td>Jumanji (1995)</td>\n",
              "      <td>Adventure|Children's|Fantasy</td>\n",
              "    </tr>\n",
              "    <tr>\n",
              "      <th>2</th>\n",
              "      <td>3</td>\n",
              "      <td>Grumpier Old Men (1995)</td>\n",
              "      <td>Comedy|Romance</td>\n",
              "    </tr>\n",
              "    <tr>\n",
              "      <th>3</th>\n",
              "      <td>4</td>\n",
              "      <td>Waiting to Exhale (1995)</td>\n",
              "      <td>Comedy|Drama</td>\n",
              "    </tr>\n",
              "    <tr>\n",
              "      <th>4</th>\n",
              "      <td>5</td>\n",
              "      <td>Father of the Bride Part II (1995)</td>\n",
              "      <td>Comedy</td>\n",
              "    </tr>\n",
              "    <tr>\n",
              "      <th>5</th>\n",
              "      <td>6</td>\n",
              "      <td>Heat (1995)</td>\n",
              "      <td>Action|Crime|Thriller</td>\n",
              "    </tr>\n",
              "    <tr>\n",
              "      <th>6</th>\n",
              "      <td>7</td>\n",
              "      <td>Sabrina (1995)</td>\n",
              "      <td>Comedy|Romance</td>\n",
              "    </tr>\n",
              "    <tr>\n",
              "      <th>7</th>\n",
              "      <td>8</td>\n",
              "      <td>Tom and Huck (1995)</td>\n",
              "      <td>Adventure|Children's</td>\n",
              "    </tr>\n",
              "    <tr>\n",
              "      <th>8</th>\n",
              "      <td>9</td>\n",
              "      <td>Sudden Death (1995)</td>\n",
              "      <td>Action</td>\n",
              "    </tr>\n",
              "    <tr>\n",
              "      <th>9</th>\n",
              "      <td>10</td>\n",
              "      <td>GoldenEye (1995)</td>\n",
              "      <td>Action|Adventure|Thriller</td>\n",
              "    </tr>\n",
              "  </tbody>\n",
              "</table>\n",
              "</div>"
            ],
            "text/plain": [
              "   movie_id                               title                        genres\n",
              "0         1                    Toy Story (1995)   Animation|Children's|Comedy\n",
              "1         2                      Jumanji (1995)  Adventure|Children's|Fantasy\n",
              "2         3             Grumpier Old Men (1995)                Comedy|Romance\n",
              "3         4            Waiting to Exhale (1995)                  Comedy|Drama\n",
              "4         5  Father of the Bride Part II (1995)                        Comedy\n",
              "5         6                         Heat (1995)         Action|Crime|Thriller\n",
              "6         7                      Sabrina (1995)                Comedy|Romance\n",
              "7         8                 Tom and Huck (1995)          Adventure|Children's\n",
              "8         9                 Sudden Death (1995)                        Action\n",
              "9        10                    GoldenEye (1995)     Action|Adventure|Thriller"
            ]
          },
          "metadata": {
            "tags": []
          },
          "execution_count": 13
        }
      ]
    },
    {
      "cell_type": "code",
      "metadata": {
        "id": "KKG73tlghslx",
        "colab_type": "code",
        "outputId": "5a07d0f5-6b86-4b5a-d734-4bfc6de11950",
        "colab": {
          "base_uri": "https://localhost:8080/",
          "height": 359
        }
      },
      "source": [
        "ratings[:10]"
      ],
      "execution_count": 0,
      "outputs": [
        {
          "output_type": "execute_result",
          "data": {
            "text/html": [
              "<div>\n",
              "<style scoped>\n",
              "    .dataframe tbody tr th:only-of-type {\n",
              "        vertical-align: middle;\n",
              "    }\n",
              "\n",
              "    .dataframe tbody tr th {\n",
              "        vertical-align: top;\n",
              "    }\n",
              "\n",
              "    .dataframe thead th {\n",
              "        text-align: right;\n",
              "    }\n",
              "</style>\n",
              "<table border=\"1\" class=\"dataframe\">\n",
              "  <thead>\n",
              "    <tr style=\"text-align: right;\">\n",
              "      <th></th>\n",
              "      <th>user_id</th>\n",
              "      <th>movie_id</th>\n",
              "      <th>rating</th>\n",
              "      <th>timestamp</th>\n",
              "    </tr>\n",
              "  </thead>\n",
              "  <tbody>\n",
              "    <tr>\n",
              "      <th>0</th>\n",
              "      <td>1</td>\n",
              "      <td>1193</td>\n",
              "      <td>5</td>\n",
              "      <td>978300760</td>\n",
              "    </tr>\n",
              "    <tr>\n",
              "      <th>1</th>\n",
              "      <td>1</td>\n",
              "      <td>661</td>\n",
              "      <td>3</td>\n",
              "      <td>978302109</td>\n",
              "    </tr>\n",
              "    <tr>\n",
              "      <th>2</th>\n",
              "      <td>1</td>\n",
              "      <td>914</td>\n",
              "      <td>3</td>\n",
              "      <td>978301968</td>\n",
              "    </tr>\n",
              "    <tr>\n",
              "      <th>3</th>\n",
              "      <td>1</td>\n",
              "      <td>3408</td>\n",
              "      <td>4</td>\n",
              "      <td>978300275</td>\n",
              "    </tr>\n",
              "    <tr>\n",
              "      <th>4</th>\n",
              "      <td>1</td>\n",
              "      <td>2355</td>\n",
              "      <td>5</td>\n",
              "      <td>978824291</td>\n",
              "    </tr>\n",
              "    <tr>\n",
              "      <th>5</th>\n",
              "      <td>1</td>\n",
              "      <td>1197</td>\n",
              "      <td>3</td>\n",
              "      <td>978302268</td>\n",
              "    </tr>\n",
              "    <tr>\n",
              "      <th>6</th>\n",
              "      <td>1</td>\n",
              "      <td>1287</td>\n",
              "      <td>5</td>\n",
              "      <td>978302039</td>\n",
              "    </tr>\n",
              "    <tr>\n",
              "      <th>7</th>\n",
              "      <td>1</td>\n",
              "      <td>2804</td>\n",
              "      <td>5</td>\n",
              "      <td>978300719</td>\n",
              "    </tr>\n",
              "    <tr>\n",
              "      <th>8</th>\n",
              "      <td>1</td>\n",
              "      <td>594</td>\n",
              "      <td>4</td>\n",
              "      <td>978302268</td>\n",
              "    </tr>\n",
              "    <tr>\n",
              "      <th>9</th>\n",
              "      <td>1</td>\n",
              "      <td>919</td>\n",
              "      <td>4</td>\n",
              "      <td>978301368</td>\n",
              "    </tr>\n",
              "  </tbody>\n",
              "</table>\n",
              "</div>"
            ],
            "text/plain": [
              "   user_id  movie_id  rating  timestamp\n",
              "0        1      1193       5  978300760\n",
              "1        1       661       3  978302109\n",
              "2        1       914       3  978301968\n",
              "3        1      3408       4  978300275\n",
              "4        1      2355       5  978824291\n",
              "5        1      1197       3  978302268\n",
              "6        1      1287       5  978302039\n",
              "7        1      2804       5  978300719\n",
              "8        1       594       4  978302268\n",
              "9        1       919       4  978301368"
            ]
          },
          "metadata": {
            "tags": []
          },
          "execution_count": 14
        }
      ]
    },
    {
      "cell_type": "markdown",
      "metadata": {
        "id": "WC6hXINUh8IJ",
        "colab_type": "text"
      },
      "source": [
        "Having all information spread across different tables makes it much more dificult to analyse the data. Using pandas's merge function, we first merge ratings with users then we merge that result with the movies data. pandas infers which columns to use as the merge (or join) keys based on overlapping names:"
      ]
    },
    {
      "cell_type": "code",
      "metadata": {
        "id": "qiaadXo4B5Lv",
        "colab_type": "code",
        "outputId": "63d63990-fa4e-47ad-94ee-b4e45629977c",
        "colab": {
          "base_uri": "https://localhost:8080/",
          "height": 419
        }
      },
      "source": [
        "data = pd.merge(pd.merge(ratings, users), movies)\n",
        "data"
      ],
      "execution_count": 0,
      "outputs": [
        {
          "output_type": "execute_result",
          "data": {
            "text/html": [
              "<div>\n",
              "<style scoped>\n",
              "    .dataframe tbody tr th:only-of-type {\n",
              "        vertical-align: middle;\n",
              "    }\n",
              "\n",
              "    .dataframe tbody tr th {\n",
              "        vertical-align: top;\n",
              "    }\n",
              "\n",
              "    .dataframe thead th {\n",
              "        text-align: right;\n",
              "    }\n",
              "</style>\n",
              "<table border=\"1\" class=\"dataframe\">\n",
              "  <thead>\n",
              "    <tr style=\"text-align: right;\">\n",
              "      <th></th>\n",
              "      <th>user_id</th>\n",
              "      <th>movie_id</th>\n",
              "      <th>rating</th>\n",
              "      <th>timestamp</th>\n",
              "      <th>gender</th>\n",
              "      <th>age</th>\n",
              "      <th>occupation</th>\n",
              "      <th>zip</th>\n",
              "      <th>title</th>\n",
              "      <th>genres</th>\n",
              "    </tr>\n",
              "  </thead>\n",
              "  <tbody>\n",
              "    <tr>\n",
              "      <th>0</th>\n",
              "      <td>1</td>\n",
              "      <td>1193</td>\n",
              "      <td>5</td>\n",
              "      <td>978300760</td>\n",
              "      <td>F</td>\n",
              "      <td>1</td>\n",
              "      <td>10</td>\n",
              "      <td>48067</td>\n",
              "      <td>One Flew Over the Cuckoo's Nest (1975)</td>\n",
              "      <td>Drama</td>\n",
              "    </tr>\n",
              "    <tr>\n",
              "      <th>1</th>\n",
              "      <td>2</td>\n",
              "      <td>1193</td>\n",
              "      <td>5</td>\n",
              "      <td>978298413</td>\n",
              "      <td>M</td>\n",
              "      <td>56</td>\n",
              "      <td>16</td>\n",
              "      <td>70072</td>\n",
              "      <td>One Flew Over the Cuckoo's Nest (1975)</td>\n",
              "      <td>Drama</td>\n",
              "    </tr>\n",
              "    <tr>\n",
              "      <th>2</th>\n",
              "      <td>12</td>\n",
              "      <td>1193</td>\n",
              "      <td>4</td>\n",
              "      <td>978220179</td>\n",
              "      <td>M</td>\n",
              "      <td>25</td>\n",
              "      <td>12</td>\n",
              "      <td>32793</td>\n",
              "      <td>One Flew Over the Cuckoo's Nest (1975)</td>\n",
              "      <td>Drama</td>\n",
              "    </tr>\n",
              "    <tr>\n",
              "      <th>3</th>\n",
              "      <td>15</td>\n",
              "      <td>1193</td>\n",
              "      <td>4</td>\n",
              "      <td>978199279</td>\n",
              "      <td>M</td>\n",
              "      <td>25</td>\n",
              "      <td>7</td>\n",
              "      <td>22903</td>\n",
              "      <td>One Flew Over the Cuckoo's Nest (1975)</td>\n",
              "      <td>Drama</td>\n",
              "    </tr>\n",
              "    <tr>\n",
              "      <th>4</th>\n",
              "      <td>17</td>\n",
              "      <td>1193</td>\n",
              "      <td>5</td>\n",
              "      <td>978158471</td>\n",
              "      <td>M</td>\n",
              "      <td>50</td>\n",
              "      <td>1</td>\n",
              "      <td>95350</td>\n",
              "      <td>One Flew Over the Cuckoo's Nest (1975)</td>\n",
              "      <td>Drama</td>\n",
              "    </tr>\n",
              "    <tr>\n",
              "      <th>...</th>\n",
              "      <td>...</td>\n",
              "      <td>...</td>\n",
              "      <td>...</td>\n",
              "      <td>...</td>\n",
              "      <td>...</td>\n",
              "      <td>...</td>\n",
              "      <td>...</td>\n",
              "      <td>...</td>\n",
              "      <td>...</td>\n",
              "      <td>...</td>\n",
              "    </tr>\n",
              "    <tr>\n",
              "      <th>1000204</th>\n",
              "      <td>5949</td>\n",
              "      <td>2198</td>\n",
              "      <td>5</td>\n",
              "      <td>958846401</td>\n",
              "      <td>M</td>\n",
              "      <td>18</td>\n",
              "      <td>17</td>\n",
              "      <td>47901</td>\n",
              "      <td>Modulations (1998)</td>\n",
              "      <td>Documentary</td>\n",
              "    </tr>\n",
              "    <tr>\n",
              "      <th>1000205</th>\n",
              "      <td>5675</td>\n",
              "      <td>2703</td>\n",
              "      <td>3</td>\n",
              "      <td>976029116</td>\n",
              "      <td>M</td>\n",
              "      <td>35</td>\n",
              "      <td>14</td>\n",
              "      <td>30030</td>\n",
              "      <td>Broken Vessels (1998)</td>\n",
              "      <td>Drama</td>\n",
              "    </tr>\n",
              "    <tr>\n",
              "      <th>1000206</th>\n",
              "      <td>5780</td>\n",
              "      <td>2845</td>\n",
              "      <td>1</td>\n",
              "      <td>958153068</td>\n",
              "      <td>M</td>\n",
              "      <td>18</td>\n",
              "      <td>17</td>\n",
              "      <td>92886</td>\n",
              "      <td>White Boys (1999)</td>\n",
              "      <td>Drama</td>\n",
              "    </tr>\n",
              "    <tr>\n",
              "      <th>1000207</th>\n",
              "      <td>5851</td>\n",
              "      <td>3607</td>\n",
              "      <td>5</td>\n",
              "      <td>957756608</td>\n",
              "      <td>F</td>\n",
              "      <td>18</td>\n",
              "      <td>20</td>\n",
              "      <td>55410</td>\n",
              "      <td>One Little Indian (1973)</td>\n",
              "      <td>Comedy|Drama|Western</td>\n",
              "    </tr>\n",
              "    <tr>\n",
              "      <th>1000208</th>\n",
              "      <td>5938</td>\n",
              "      <td>2909</td>\n",
              "      <td>4</td>\n",
              "      <td>957273353</td>\n",
              "      <td>M</td>\n",
              "      <td>25</td>\n",
              "      <td>1</td>\n",
              "      <td>35401</td>\n",
              "      <td>Five Wives, Three Secretaries and Me (1998)</td>\n",
              "      <td>Documentary</td>\n",
              "    </tr>\n",
              "  </tbody>\n",
              "</table>\n",
              "<p>1000209 rows × 10 columns</p>\n",
              "</div>"
            ],
            "text/plain": [
              "         user_id  ...                genres\n",
              "0              1  ...                 Drama\n",
              "1              2  ...                 Drama\n",
              "2             12  ...                 Drama\n",
              "3             15  ...                 Drama\n",
              "4             17  ...                 Drama\n",
              "...          ...  ...                   ...\n",
              "1000204     5949  ...           Documentary\n",
              "1000205     5675  ...                 Drama\n",
              "1000206     5780  ...                 Drama\n",
              "1000207     5851  ...  Comedy|Drama|Western\n",
              "1000208     5938  ...           Documentary\n",
              "\n",
              "[1000209 rows x 10 columns]"
            ]
          },
          "metadata": {
            "tags": []
          },
          "execution_count": 15
        }
      ]
    },
    {
      "cell_type": "markdown",
      "metadata": {
        "id": "Q5MyQFUFj5K_",
        "colab_type": "text"
      },
      "source": [
        "In this form, aggregating the ratings grouped by one or more user or movie characteristics is straightforward once you build some familiarity with pandas. To get mean movie ratings for each film grouped by gender, we can use the pivot_table method:"
      ]
    },
    {
      "cell_type": "code",
      "metadata": {
        "id": "g5VzeRUSj6Do",
        "colab_type": "code",
        "outputId": "9957d23e-8956-4fda-e8bc-fa7793f19aa4",
        "colab": {
          "base_uri": "https://localhost:8080/",
          "height": 235
        }
      },
      "source": [
        "mean_ratings = data.pivot_table('rating', index='title', columns='gender', aggfunc='mean')\n",
        "mean_ratings[:5]"
      ],
      "execution_count": 0,
      "outputs": [
        {
          "output_type": "execute_result",
          "data": {
            "text/html": [
              "<div>\n",
              "<style scoped>\n",
              "    .dataframe tbody tr th:only-of-type {\n",
              "        vertical-align: middle;\n",
              "    }\n",
              "\n",
              "    .dataframe tbody tr th {\n",
              "        vertical-align: top;\n",
              "    }\n",
              "\n",
              "    .dataframe thead th {\n",
              "        text-align: right;\n",
              "    }\n",
              "</style>\n",
              "<table border=\"1\" class=\"dataframe\">\n",
              "  <thead>\n",
              "    <tr style=\"text-align: right;\">\n",
              "      <th>gender</th>\n",
              "      <th>F</th>\n",
              "      <th>M</th>\n",
              "    </tr>\n",
              "    <tr>\n",
              "      <th>title</th>\n",
              "      <th></th>\n",
              "      <th></th>\n",
              "    </tr>\n",
              "  </thead>\n",
              "  <tbody>\n",
              "    <tr>\n",
              "      <th>$1,000,000 Duck (1971)</th>\n",
              "      <td>3.375000</td>\n",
              "      <td>2.761905</td>\n",
              "    </tr>\n",
              "    <tr>\n",
              "      <th>'Night Mother (1986)</th>\n",
              "      <td>3.388889</td>\n",
              "      <td>3.352941</td>\n",
              "    </tr>\n",
              "    <tr>\n",
              "      <th>'Til There Was You (1997)</th>\n",
              "      <td>2.675676</td>\n",
              "      <td>2.733333</td>\n",
              "    </tr>\n",
              "    <tr>\n",
              "      <th>'burbs, The (1989)</th>\n",
              "      <td>2.793478</td>\n",
              "      <td>2.962085</td>\n",
              "    </tr>\n",
              "    <tr>\n",
              "      <th>...And Justice for All (1979)</th>\n",
              "      <td>3.828571</td>\n",
              "      <td>3.689024</td>\n",
              "    </tr>\n",
              "  </tbody>\n",
              "</table>\n",
              "</div>"
            ],
            "text/plain": [
              "gender                                F         M\n",
              "title                                            \n",
              "$1,000,000 Duck (1971)         3.375000  2.761905\n",
              "'Night Mother (1986)           3.388889  3.352941\n",
              "'Til There Was You (1997)      2.675676  2.733333\n",
              "'burbs, The (1989)             2.793478  2.962085\n",
              "...And Justice for All (1979)  3.828571  3.689024"
            ]
          },
          "metadata": {
            "tags": []
          },
          "execution_count": 16
        }
      ]
    },
    {
      "cell_type": "markdown",
      "metadata": {
        "id": "4Ehc7rvpkHKx",
        "colab_type": "text"
      },
      "source": [
        "If we wish to only look at movies that received more than a certain number of ratings, we can group them as follows (here using 250 ratings):\n"
      ]
    },
    {
      "cell_type": "code",
      "metadata": {
        "id": "7lDJtUX8kI-t",
        "colab_type": "code",
        "outputId": "e230b912-00c2-4c09-b9c1-bdf3649e4687",
        "colab": {
          "base_uri": "https://localhost:8080/",
          "height": 136
        }
      },
      "source": [
        "ratings_by_title = data.groupby('title').size()\n",
        "ratings_by_title[:5]"
      ],
      "execution_count": 0,
      "outputs": [
        {
          "output_type": "execute_result",
          "data": {
            "text/plain": [
              "title\n",
              "$1,000,000 Duck (1971)            37\n",
              "'Night Mother (1986)              70\n",
              "'Til There Was You (1997)         52\n",
              "'burbs, The (1989)               303\n",
              "...And Justice for All (1979)    199\n",
              "dtype: int64"
            ]
          },
          "metadata": {
            "tags": []
          },
          "execution_count": 17
        }
      ]
    },
    {
      "cell_type": "markdown",
      "metadata": {
        "id": "z-fws5c8kiPj",
        "colab_type": "text"
      },
      "source": [
        "Let's now grab the titles of movies that were rated more than 250 times:"
      ]
    },
    {
      "cell_type": "code",
      "metadata": {
        "id": "CzRqWontkl8Y",
        "colab_type": "code",
        "outputId": "0de6fed1-514f-429b-817f-4e4eebc93738",
        "colab": {
          "base_uri": "https://localhost:8080/",
          "height": 85
        }
      },
      "source": [
        "active_titles = ratings_by_title.index[ratings_by_title >= 250]\n",
        "active_titles[:5]"
      ],
      "execution_count": 0,
      "outputs": [
        {
          "output_type": "execute_result",
          "data": {
            "text/plain": [
              "Index([''burbs, The (1989)', '10 Things I Hate About You (1999)',\n",
              "       '101 Dalmatians (1961)', '101 Dalmatians (1996)',\n",
              "       '12 Angry Men (1957)'],\n",
              "      dtype='object', name='title')"
            ]
          },
          "metadata": {
            "tags": []
          },
          "execution_count": 18
        }
      ]
    },
    {
      "cell_type": "markdown",
      "metadata": {
        "id": "NThj0Qa-kr5C",
        "colab_type": "text"
      },
      "source": [
        "The index of titles receiving at least 250 ratings can then be used to select rows from mean_ratings above:"
      ]
    },
    {
      "cell_type": "code",
      "metadata": {
        "id": "Tfls41LDktDi",
        "colab_type": "code",
        "outputId": "bcf15a7b-a708-4d27-8f97-a089843f67e8",
        "colab": {
          "base_uri": "https://localhost:8080/",
          "height": 371
        }
      },
      "source": [
        "mean_ratings = mean_ratings.ix[active_titles]\n",
        "mean_ratings[:5]"
      ],
      "execution_count": 0,
      "outputs": [
        {
          "output_type": "stream",
          "text": [
            "/usr/local/lib/python3.6/dist-packages/ipykernel_launcher.py:1: FutureWarning: \n",
            ".ix is deprecated. Please use\n",
            ".loc for label based indexing or\n",
            ".iloc for positional indexing\n",
            "\n",
            "See the documentation here:\n",
            "http://pandas.pydata.org/pandas-docs/stable/user_guide/indexing.html#ix-indexer-is-deprecated\n",
            "  \"\"\"Entry point for launching an IPython kernel.\n"
          ],
          "name": "stderr"
        },
        {
          "output_type": "execute_result",
          "data": {
            "text/html": [
              "<div>\n",
              "<style scoped>\n",
              "    .dataframe tbody tr th:only-of-type {\n",
              "        vertical-align: middle;\n",
              "    }\n",
              "\n",
              "    .dataframe tbody tr th {\n",
              "        vertical-align: top;\n",
              "    }\n",
              "\n",
              "    .dataframe thead th {\n",
              "        text-align: right;\n",
              "    }\n",
              "</style>\n",
              "<table border=\"1\" class=\"dataframe\">\n",
              "  <thead>\n",
              "    <tr style=\"text-align: right;\">\n",
              "      <th>gender</th>\n",
              "      <th>F</th>\n",
              "      <th>M</th>\n",
              "    </tr>\n",
              "    <tr>\n",
              "      <th>title</th>\n",
              "      <th></th>\n",
              "      <th></th>\n",
              "    </tr>\n",
              "  </thead>\n",
              "  <tbody>\n",
              "    <tr>\n",
              "      <th>'burbs, The (1989)</th>\n",
              "      <td>2.793478</td>\n",
              "      <td>2.962085</td>\n",
              "    </tr>\n",
              "    <tr>\n",
              "      <th>10 Things I Hate About You (1999)</th>\n",
              "      <td>3.646552</td>\n",
              "      <td>3.311966</td>\n",
              "    </tr>\n",
              "    <tr>\n",
              "      <th>101 Dalmatians (1961)</th>\n",
              "      <td>3.791444</td>\n",
              "      <td>3.500000</td>\n",
              "    </tr>\n",
              "    <tr>\n",
              "      <th>101 Dalmatians (1996)</th>\n",
              "      <td>3.240000</td>\n",
              "      <td>2.911215</td>\n",
              "    </tr>\n",
              "    <tr>\n",
              "      <th>12 Angry Men (1957)</th>\n",
              "      <td>4.184397</td>\n",
              "      <td>4.328421</td>\n",
              "    </tr>\n",
              "  </tbody>\n",
              "</table>\n",
              "</div>"
            ],
            "text/plain": [
              "gender                                    F         M\n",
              "title                                                \n",
              "'burbs, The (1989)                 2.793478  2.962085\n",
              "10 Things I Hate About You (1999)  3.646552  3.311966\n",
              "101 Dalmatians (1961)              3.791444  3.500000\n",
              "101 Dalmatians (1996)              3.240000  2.911215\n",
              "12 Angry Men (1957)                4.184397  4.328421"
            ]
          },
          "metadata": {
            "tags": []
          },
          "execution_count": 19
        }
      ]
    },
    {
      "cell_type": "markdown",
      "metadata": {
        "id": "gcgFgy61k23h",
        "colab_type": "text"
      },
      "source": [
        "To see the top films among female viewers, we can sort by the F column in descending order:"
      ]
    },
    {
      "cell_type": "code",
      "metadata": {
        "id": "1U0FhOMNk3iY",
        "colab_type": "code",
        "outputId": "22328d7a-2541-43c1-a486-9221a7af3174",
        "colab": {
          "base_uri": "https://localhost:8080/",
          "height": 235
        }
      },
      "source": [
        "top_female_ratings = mean_ratings.sort_values(by='F', ascending=False)\n",
        "top_female_ratings[:5]"
      ],
      "execution_count": 0,
      "outputs": [
        {
          "output_type": "execute_result",
          "data": {
            "text/html": [
              "<div>\n",
              "<style scoped>\n",
              "    .dataframe tbody tr th:only-of-type {\n",
              "        vertical-align: middle;\n",
              "    }\n",
              "\n",
              "    .dataframe tbody tr th {\n",
              "        vertical-align: top;\n",
              "    }\n",
              "\n",
              "    .dataframe thead th {\n",
              "        text-align: right;\n",
              "    }\n",
              "</style>\n",
              "<table border=\"1\" class=\"dataframe\">\n",
              "  <thead>\n",
              "    <tr style=\"text-align: right;\">\n",
              "      <th>gender</th>\n",
              "      <th>F</th>\n",
              "      <th>M</th>\n",
              "    </tr>\n",
              "    <tr>\n",
              "      <th>title</th>\n",
              "      <th></th>\n",
              "      <th></th>\n",
              "    </tr>\n",
              "  </thead>\n",
              "  <tbody>\n",
              "    <tr>\n",
              "      <th>Close Shave, A (1995)</th>\n",
              "      <td>4.644444</td>\n",
              "      <td>4.473795</td>\n",
              "    </tr>\n",
              "    <tr>\n",
              "      <th>Wrong Trousers, The (1993)</th>\n",
              "      <td>4.588235</td>\n",
              "      <td>4.478261</td>\n",
              "    </tr>\n",
              "    <tr>\n",
              "      <th>Sunset Blvd. (a.k.a. Sunset Boulevard) (1950)</th>\n",
              "      <td>4.572650</td>\n",
              "      <td>4.464589</td>\n",
              "    </tr>\n",
              "    <tr>\n",
              "      <th>Wallace &amp; Gromit: The Best of Aardman Animation (1996)</th>\n",
              "      <td>4.563107</td>\n",
              "      <td>4.385075</td>\n",
              "    </tr>\n",
              "    <tr>\n",
              "      <th>Schindler's List (1993)</th>\n",
              "      <td>4.562602</td>\n",
              "      <td>4.491415</td>\n",
              "    </tr>\n",
              "  </tbody>\n",
              "</table>\n",
              "</div>"
            ],
            "text/plain": [
              "gender                                                     F         M\n",
              "title                                                                 \n",
              "Close Shave, A (1995)                               4.644444  4.473795\n",
              "Wrong Trousers, The (1993)                          4.588235  4.478261\n",
              "Sunset Blvd. (a.k.a. Sunset Boulevard) (1950)       4.572650  4.464589\n",
              "Wallace & Gromit: The Best of Aardman Animation...  4.563107  4.385075\n",
              "Schindler's List (1993)                             4.562602  4.491415"
            ]
          },
          "metadata": {
            "tags": []
          },
          "execution_count": 20
        }
      ]
    },
    {
      "cell_type": "markdown",
      "metadata": {
        "id": "yyxaML-Hk-yc",
        "colab_type": "text"
      },
      "source": [
        "Likewise, for males:"
      ]
    },
    {
      "cell_type": "code",
      "metadata": {
        "id": "9nzuN34wlBEm",
        "colab_type": "code",
        "outputId": "a3b1d0e6-123c-4539-b108-ed8bfea8c46e",
        "colab": {
          "base_uri": "https://localhost:8080/",
          "height": 235
        }
      },
      "source": [
        "top_male_ratings = mean_ratings.sort_values(by='M', ascending=False)\n",
        "top_male_ratings[:5]"
      ],
      "execution_count": 0,
      "outputs": [
        {
          "output_type": "execute_result",
          "data": {
            "text/html": [
              "<div>\n",
              "<style scoped>\n",
              "    .dataframe tbody tr th:only-of-type {\n",
              "        vertical-align: middle;\n",
              "    }\n",
              "\n",
              "    .dataframe tbody tr th {\n",
              "        vertical-align: top;\n",
              "    }\n",
              "\n",
              "    .dataframe thead th {\n",
              "        text-align: right;\n",
              "    }\n",
              "</style>\n",
              "<table border=\"1\" class=\"dataframe\">\n",
              "  <thead>\n",
              "    <tr style=\"text-align: right;\">\n",
              "      <th>gender</th>\n",
              "      <th>F</th>\n",
              "      <th>M</th>\n",
              "    </tr>\n",
              "    <tr>\n",
              "      <th>title</th>\n",
              "      <th></th>\n",
              "      <th></th>\n",
              "    </tr>\n",
              "  </thead>\n",
              "  <tbody>\n",
              "    <tr>\n",
              "      <th>Godfather, The (1972)</th>\n",
              "      <td>4.314700</td>\n",
              "      <td>4.583333</td>\n",
              "    </tr>\n",
              "    <tr>\n",
              "      <th>Seven Samurai (The Magnificent Seven) (Shichinin no samurai) (1954)</th>\n",
              "      <td>4.481132</td>\n",
              "      <td>4.576628</td>\n",
              "    </tr>\n",
              "    <tr>\n",
              "      <th>Shawshank Redemption, The (1994)</th>\n",
              "      <td>4.539075</td>\n",
              "      <td>4.560625</td>\n",
              "    </tr>\n",
              "    <tr>\n",
              "      <th>Raiders of the Lost Ark (1981)</th>\n",
              "      <td>4.332168</td>\n",
              "      <td>4.520597</td>\n",
              "    </tr>\n",
              "    <tr>\n",
              "      <th>Usual Suspects, The (1995)</th>\n",
              "      <td>4.513317</td>\n",
              "      <td>4.518248</td>\n",
              "    </tr>\n",
              "  </tbody>\n",
              "</table>\n",
              "</div>"
            ],
            "text/plain": [
              "gender                                                     F         M\n",
              "title                                                                 \n",
              "Godfather, The (1972)                               4.314700  4.583333\n",
              "Seven Samurai (The Magnificent Seven) (Shichini...  4.481132  4.576628\n",
              "Shawshank Redemption, The (1994)                    4.539075  4.560625\n",
              "Raiders of the Lost Ark (1981)                      4.332168  4.520597\n",
              "Usual Suspects, The (1995)                          4.513317  4.518248"
            ]
          },
          "metadata": {
            "tags": []
          },
          "execution_count": 21
        }
      ]
    },
    {
      "cell_type": "markdown",
      "metadata": {
        "id": "2ECIS5jklPGq",
        "colab_type": "text"
      },
      "source": [
        "Suppose you wanted to find the movies that are most divisive between male and female viewers. One way is to add a column to *mean_ratings* containing the difference in means, then sort by that:"
      ]
    },
    {
      "cell_type": "code",
      "metadata": {
        "id": "r5GeFOZwlP7Q",
        "colab_type": "code",
        "colab": {}
      },
      "source": [
        "mean_ratings['diff'] = mean_ratings['M'] - mean_ratings['F']"
      ],
      "execution_count": 0,
      "outputs": []
    },
    {
      "cell_type": "markdown",
      "metadata": {
        "id": "TOaZ4msulU7k",
        "colab_type": "text"
      },
      "source": [
        "Sorting by 'diff' gives us the movies with the greatest rating difference and which were preferred by women:"
      ]
    },
    {
      "cell_type": "code",
      "metadata": {
        "id": "l7Bf3TaylVyX",
        "colab_type": "code",
        "outputId": "0ae7bda9-81db-4b73-84a4-d811fda1835a",
        "colab": {
          "base_uri": "https://localhost:8080/",
          "height": 390
        }
      },
      "source": [
        "sorted_by_diff = mean_ratings.sort_values(by='diff')\n",
        "sorted_by_diff[:10]"
      ],
      "execution_count": 0,
      "outputs": [
        {
          "output_type": "execute_result",
          "data": {
            "text/html": [
              "<div>\n",
              "<style scoped>\n",
              "    .dataframe tbody tr th:only-of-type {\n",
              "        vertical-align: middle;\n",
              "    }\n",
              "\n",
              "    .dataframe tbody tr th {\n",
              "        vertical-align: top;\n",
              "    }\n",
              "\n",
              "    .dataframe thead th {\n",
              "        text-align: right;\n",
              "    }\n",
              "</style>\n",
              "<table border=\"1\" class=\"dataframe\">\n",
              "  <thead>\n",
              "    <tr style=\"text-align: right;\">\n",
              "      <th>gender</th>\n",
              "      <th>F</th>\n",
              "      <th>M</th>\n",
              "      <th>diff</th>\n",
              "    </tr>\n",
              "    <tr>\n",
              "      <th>title</th>\n",
              "      <th></th>\n",
              "      <th></th>\n",
              "      <th></th>\n",
              "    </tr>\n",
              "  </thead>\n",
              "  <tbody>\n",
              "    <tr>\n",
              "      <th>Dirty Dancing (1987)</th>\n",
              "      <td>3.790378</td>\n",
              "      <td>2.959596</td>\n",
              "      <td>-0.830782</td>\n",
              "    </tr>\n",
              "    <tr>\n",
              "      <th>Jumpin' Jack Flash (1986)</th>\n",
              "      <td>3.254717</td>\n",
              "      <td>2.578358</td>\n",
              "      <td>-0.676359</td>\n",
              "    </tr>\n",
              "    <tr>\n",
              "      <th>Grease (1978)</th>\n",
              "      <td>3.975265</td>\n",
              "      <td>3.367041</td>\n",
              "      <td>-0.608224</td>\n",
              "    </tr>\n",
              "    <tr>\n",
              "      <th>Little Women (1994)</th>\n",
              "      <td>3.870588</td>\n",
              "      <td>3.321739</td>\n",
              "      <td>-0.548849</td>\n",
              "    </tr>\n",
              "    <tr>\n",
              "      <th>Steel Magnolias (1989)</th>\n",
              "      <td>3.901734</td>\n",
              "      <td>3.365957</td>\n",
              "      <td>-0.535777</td>\n",
              "    </tr>\n",
              "    <tr>\n",
              "      <th>Anastasia (1997)</th>\n",
              "      <td>3.800000</td>\n",
              "      <td>3.281609</td>\n",
              "      <td>-0.518391</td>\n",
              "    </tr>\n",
              "    <tr>\n",
              "      <th>Rocky Horror Picture Show, The (1975)</th>\n",
              "      <td>3.673016</td>\n",
              "      <td>3.160131</td>\n",
              "      <td>-0.512885</td>\n",
              "    </tr>\n",
              "    <tr>\n",
              "      <th>Color Purple, The (1985)</th>\n",
              "      <td>4.158192</td>\n",
              "      <td>3.659341</td>\n",
              "      <td>-0.498851</td>\n",
              "    </tr>\n",
              "    <tr>\n",
              "      <th>Age of Innocence, The (1993)</th>\n",
              "      <td>3.827068</td>\n",
              "      <td>3.339506</td>\n",
              "      <td>-0.487561</td>\n",
              "    </tr>\n",
              "    <tr>\n",
              "      <th>Free Willy (1993)</th>\n",
              "      <td>2.921348</td>\n",
              "      <td>2.438776</td>\n",
              "      <td>-0.482573</td>\n",
              "    </tr>\n",
              "  </tbody>\n",
              "</table>\n",
              "</div>"
            ],
            "text/plain": [
              "gender                                        F         M      diff\n",
              "title                                                              \n",
              "Dirty Dancing (1987)                   3.790378  2.959596 -0.830782\n",
              "Jumpin' Jack Flash (1986)              3.254717  2.578358 -0.676359\n",
              "Grease (1978)                          3.975265  3.367041 -0.608224\n",
              "Little Women (1994)                    3.870588  3.321739 -0.548849\n",
              "Steel Magnolias (1989)                 3.901734  3.365957 -0.535777\n",
              "Anastasia (1997)                       3.800000  3.281609 -0.518391\n",
              "Rocky Horror Picture Show, The (1975)  3.673016  3.160131 -0.512885\n",
              "Color Purple, The (1985)               4.158192  3.659341 -0.498851\n",
              "Age of Innocence, The (1993)           3.827068  3.339506 -0.487561\n",
              "Free Willy (1993)                      2.921348  2.438776 -0.482573"
            ]
          },
          "metadata": {
            "tags": []
          },
          "execution_count": 23
        }
      ]
    },
    {
      "cell_type": "markdown",
      "metadata": {
        "id": "sF5r-TpoliIl",
        "colab_type": "text"
      },
      "source": [
        "Reversing the order of the rows and again slicing off the top 10 rows, we get the movies preferred by men that women didn’t rate highly:"
      ]
    },
    {
      "cell_type": "code",
      "metadata": {
        "id": "VtzBez4Mli3X",
        "colab_type": "code",
        "outputId": "eff8ea43-7595-4cb9-c7d6-a39ef49e1654",
        "colab": {
          "base_uri": "https://localhost:8080/",
          "height": 390
        }
      },
      "source": [
        "sorted_by_diff[::-1][:10]"
      ],
      "execution_count": 0,
      "outputs": [
        {
          "output_type": "execute_result",
          "data": {
            "text/html": [
              "<div>\n",
              "<style scoped>\n",
              "    .dataframe tbody tr th:only-of-type {\n",
              "        vertical-align: middle;\n",
              "    }\n",
              "\n",
              "    .dataframe tbody tr th {\n",
              "        vertical-align: top;\n",
              "    }\n",
              "\n",
              "    .dataframe thead th {\n",
              "        text-align: right;\n",
              "    }\n",
              "</style>\n",
              "<table border=\"1\" class=\"dataframe\">\n",
              "  <thead>\n",
              "    <tr style=\"text-align: right;\">\n",
              "      <th>gender</th>\n",
              "      <th>F</th>\n",
              "      <th>M</th>\n",
              "      <th>diff</th>\n",
              "    </tr>\n",
              "    <tr>\n",
              "      <th>title</th>\n",
              "      <th></th>\n",
              "      <th></th>\n",
              "      <th></th>\n",
              "    </tr>\n",
              "  </thead>\n",
              "  <tbody>\n",
              "    <tr>\n",
              "      <th>Good, The Bad and The Ugly, The (1966)</th>\n",
              "      <td>3.494949</td>\n",
              "      <td>4.221300</td>\n",
              "      <td>0.726351</td>\n",
              "    </tr>\n",
              "    <tr>\n",
              "      <th>Kentucky Fried Movie, The (1977)</th>\n",
              "      <td>2.878788</td>\n",
              "      <td>3.555147</td>\n",
              "      <td>0.676359</td>\n",
              "    </tr>\n",
              "    <tr>\n",
              "      <th>Dumb &amp; Dumber (1994)</th>\n",
              "      <td>2.697987</td>\n",
              "      <td>3.336595</td>\n",
              "      <td>0.638608</td>\n",
              "    </tr>\n",
              "    <tr>\n",
              "      <th>Longest Day, The (1962)</th>\n",
              "      <td>3.411765</td>\n",
              "      <td>4.031447</td>\n",
              "      <td>0.619682</td>\n",
              "    </tr>\n",
              "    <tr>\n",
              "      <th>Cable Guy, The (1996)</th>\n",
              "      <td>2.250000</td>\n",
              "      <td>2.863787</td>\n",
              "      <td>0.613787</td>\n",
              "    </tr>\n",
              "    <tr>\n",
              "      <th>Evil Dead II (Dead By Dawn) (1987)</th>\n",
              "      <td>3.297297</td>\n",
              "      <td>3.909283</td>\n",
              "      <td>0.611985</td>\n",
              "    </tr>\n",
              "    <tr>\n",
              "      <th>Hidden, The (1987)</th>\n",
              "      <td>3.137931</td>\n",
              "      <td>3.745098</td>\n",
              "      <td>0.607167</td>\n",
              "    </tr>\n",
              "    <tr>\n",
              "      <th>Rocky III (1982)</th>\n",
              "      <td>2.361702</td>\n",
              "      <td>2.943503</td>\n",
              "      <td>0.581801</td>\n",
              "    </tr>\n",
              "    <tr>\n",
              "      <th>Caddyshack (1980)</th>\n",
              "      <td>3.396135</td>\n",
              "      <td>3.969737</td>\n",
              "      <td>0.573602</td>\n",
              "    </tr>\n",
              "    <tr>\n",
              "      <th>For a Few Dollars More (1965)</th>\n",
              "      <td>3.409091</td>\n",
              "      <td>3.953795</td>\n",
              "      <td>0.544704</td>\n",
              "    </tr>\n",
              "  </tbody>\n",
              "</table>\n",
              "</div>"
            ],
            "text/plain": [
              "gender                                         F         M      diff\n",
              "title                                                               \n",
              "Good, The Bad and The Ugly, The (1966)  3.494949  4.221300  0.726351\n",
              "Kentucky Fried Movie, The (1977)        2.878788  3.555147  0.676359\n",
              "Dumb & Dumber (1994)                    2.697987  3.336595  0.638608\n",
              "Longest Day, The (1962)                 3.411765  4.031447  0.619682\n",
              "Cable Guy, The (1996)                   2.250000  2.863787  0.613787\n",
              "Evil Dead II (Dead By Dawn) (1987)      3.297297  3.909283  0.611985\n",
              "Hidden, The (1987)                      3.137931  3.745098  0.607167\n",
              "Rocky III (1982)                        2.361702  2.943503  0.581801\n",
              "Caddyshack (1980)                       3.396135  3.969737  0.573602\n",
              "For a Few Dollars More (1965)           3.409091  3.953795  0.544704"
            ]
          },
          "metadata": {
            "tags": []
          },
          "execution_count": 24
        }
      ]
    },
    {
      "cell_type": "markdown",
      "metadata": {
        "id": "bk3RldjXlqtk",
        "colab_type": "text"
      },
      "source": [
        "## Assignment 1\n",
        "\n",
        "###  • [10 pts] An aggregate of the movie ratings for each particular genre, e.g., Action, Adven- ture, Drama, Science Fiction, ..."
      ]
    },
    {
      "cell_type": "markdown",
      "metadata": {
        "id": "6Ql7lV_tiUtG",
        "colab_type": "text"
      },
      "source": [
        "We also saw how some movies belong to more than one genre and have the pipe separator in the same row to denote the movie belongs to all the genres included. Since it is always better to analyse flattened data, so let us split it:"
      ]
    },
    {
      "cell_type": "code",
      "metadata": {
        "id": "6YstNkKVig-u",
        "colab_type": "code",
        "outputId": "6021af2f-ce32-48bb-dfc6-61cf2fd01323",
        "colab": {
          "base_uri": "https://localhost:8080/",
          "height": 419
        }
      },
      "source": [
        "data = data.set_index(data.columns.drop('genres',1).tolist()).genres.str.split('|', expand=True).stack().reset_index().rename(columns={0:'genres'}).loc[:, data.columns]\n",
        "data"
      ],
      "execution_count": 0,
      "outputs": [
        {
          "output_type": "execute_result",
          "data": {
            "text/html": [
              "<div>\n",
              "<style scoped>\n",
              "    .dataframe tbody tr th:only-of-type {\n",
              "        vertical-align: middle;\n",
              "    }\n",
              "\n",
              "    .dataframe tbody tr th {\n",
              "        vertical-align: top;\n",
              "    }\n",
              "\n",
              "    .dataframe thead th {\n",
              "        text-align: right;\n",
              "    }\n",
              "</style>\n",
              "<table border=\"1\" class=\"dataframe\">\n",
              "  <thead>\n",
              "    <tr style=\"text-align: right;\">\n",
              "      <th></th>\n",
              "      <th>user_id</th>\n",
              "      <th>movie_id</th>\n",
              "      <th>rating</th>\n",
              "      <th>timestamp</th>\n",
              "      <th>gender</th>\n",
              "      <th>age</th>\n",
              "      <th>occupation</th>\n",
              "      <th>zip</th>\n",
              "      <th>title</th>\n",
              "      <th>genres</th>\n",
              "    </tr>\n",
              "  </thead>\n",
              "  <tbody>\n",
              "    <tr>\n",
              "      <th>0</th>\n",
              "      <td>1</td>\n",
              "      <td>1193</td>\n",
              "      <td>5</td>\n",
              "      <td>978300760</td>\n",
              "      <td>F</td>\n",
              "      <td>1</td>\n",
              "      <td>10</td>\n",
              "      <td>48067</td>\n",
              "      <td>One Flew Over the Cuckoo's Nest (1975)</td>\n",
              "      <td>Drama</td>\n",
              "    </tr>\n",
              "    <tr>\n",
              "      <th>1</th>\n",
              "      <td>2</td>\n",
              "      <td>1193</td>\n",
              "      <td>5</td>\n",
              "      <td>978298413</td>\n",
              "      <td>M</td>\n",
              "      <td>56</td>\n",
              "      <td>16</td>\n",
              "      <td>70072</td>\n",
              "      <td>One Flew Over the Cuckoo's Nest (1975)</td>\n",
              "      <td>Drama</td>\n",
              "    </tr>\n",
              "    <tr>\n",
              "      <th>2</th>\n",
              "      <td>12</td>\n",
              "      <td>1193</td>\n",
              "      <td>4</td>\n",
              "      <td>978220179</td>\n",
              "      <td>M</td>\n",
              "      <td>25</td>\n",
              "      <td>12</td>\n",
              "      <td>32793</td>\n",
              "      <td>One Flew Over the Cuckoo's Nest (1975)</td>\n",
              "      <td>Drama</td>\n",
              "    </tr>\n",
              "    <tr>\n",
              "      <th>3</th>\n",
              "      <td>15</td>\n",
              "      <td>1193</td>\n",
              "      <td>4</td>\n",
              "      <td>978199279</td>\n",
              "      <td>M</td>\n",
              "      <td>25</td>\n",
              "      <td>7</td>\n",
              "      <td>22903</td>\n",
              "      <td>One Flew Over the Cuckoo's Nest (1975)</td>\n",
              "      <td>Drama</td>\n",
              "    </tr>\n",
              "    <tr>\n",
              "      <th>4</th>\n",
              "      <td>17</td>\n",
              "      <td>1193</td>\n",
              "      <td>5</td>\n",
              "      <td>978158471</td>\n",
              "      <td>M</td>\n",
              "      <td>50</td>\n",
              "      <td>1</td>\n",
              "      <td>95350</td>\n",
              "      <td>One Flew Over the Cuckoo's Nest (1975)</td>\n",
              "      <td>Drama</td>\n",
              "    </tr>\n",
              "    <tr>\n",
              "      <th>...</th>\n",
              "      <td>...</td>\n",
              "      <td>...</td>\n",
              "      <td>...</td>\n",
              "      <td>...</td>\n",
              "      <td>...</td>\n",
              "      <td>...</td>\n",
              "      <td>...</td>\n",
              "      <td>...</td>\n",
              "      <td>...</td>\n",
              "      <td>...</td>\n",
              "    </tr>\n",
              "    <tr>\n",
              "      <th>2101810</th>\n",
              "      <td>5780</td>\n",
              "      <td>2845</td>\n",
              "      <td>1</td>\n",
              "      <td>958153068</td>\n",
              "      <td>M</td>\n",
              "      <td>18</td>\n",
              "      <td>17</td>\n",
              "      <td>92886</td>\n",
              "      <td>White Boys (1999)</td>\n",
              "      <td>Drama</td>\n",
              "    </tr>\n",
              "    <tr>\n",
              "      <th>2101811</th>\n",
              "      <td>5851</td>\n",
              "      <td>3607</td>\n",
              "      <td>5</td>\n",
              "      <td>957756608</td>\n",
              "      <td>F</td>\n",
              "      <td>18</td>\n",
              "      <td>20</td>\n",
              "      <td>55410</td>\n",
              "      <td>One Little Indian (1973)</td>\n",
              "      <td>Comedy</td>\n",
              "    </tr>\n",
              "    <tr>\n",
              "      <th>2101812</th>\n",
              "      <td>5851</td>\n",
              "      <td>3607</td>\n",
              "      <td>5</td>\n",
              "      <td>957756608</td>\n",
              "      <td>F</td>\n",
              "      <td>18</td>\n",
              "      <td>20</td>\n",
              "      <td>55410</td>\n",
              "      <td>One Little Indian (1973)</td>\n",
              "      <td>Drama</td>\n",
              "    </tr>\n",
              "    <tr>\n",
              "      <th>2101813</th>\n",
              "      <td>5851</td>\n",
              "      <td>3607</td>\n",
              "      <td>5</td>\n",
              "      <td>957756608</td>\n",
              "      <td>F</td>\n",
              "      <td>18</td>\n",
              "      <td>20</td>\n",
              "      <td>55410</td>\n",
              "      <td>One Little Indian (1973)</td>\n",
              "      <td>Western</td>\n",
              "    </tr>\n",
              "    <tr>\n",
              "      <th>2101814</th>\n",
              "      <td>5938</td>\n",
              "      <td>2909</td>\n",
              "      <td>4</td>\n",
              "      <td>957273353</td>\n",
              "      <td>M</td>\n",
              "      <td>25</td>\n",
              "      <td>1</td>\n",
              "      <td>35401</td>\n",
              "      <td>Five Wives, Three Secretaries and Me (1998)</td>\n",
              "      <td>Documentary</td>\n",
              "    </tr>\n",
              "  </tbody>\n",
              "</table>\n",
              "<p>2101815 rows × 10 columns</p>\n",
              "</div>"
            ],
            "text/plain": [
              "         user_id  ...       genres\n",
              "0              1  ...        Drama\n",
              "1              2  ...        Drama\n",
              "2             12  ...        Drama\n",
              "3             15  ...        Drama\n",
              "4             17  ...        Drama\n",
              "...          ...  ...          ...\n",
              "2101810     5780  ...        Drama\n",
              "2101811     5851  ...       Comedy\n",
              "2101812     5851  ...        Drama\n",
              "2101813     5851  ...      Western\n",
              "2101814     5938  ...  Documentary\n",
              "\n",
              "[2101815 rows x 10 columns]"
            ]
          },
          "metadata": {
            "tags": []
          },
          "execution_count": 25
        }
      ]
    },
    {
      "cell_type": "markdown",
      "metadata": {
        "id": "lO2pfZ2vjnJ_",
        "colab_type": "text"
      },
      "source": [
        "We can use the NumPy library for calculating the various numerical functions."
      ]
    },
    {
      "cell_type": "code",
      "metadata": {
        "id": "2mnfdfnCCOvC",
        "colab_type": "code",
        "outputId": "ea199a97-34c6-41c5-c02c-3ee24e99f17f",
        "colab": {
          "base_uri": "https://localhost:8080/",
          "height": 669
        }
      },
      "source": [
        "import numpy as np\n",
        "\n",
        "agg_ratings = data.groupby('genres').agg({'rating': [np.mean]})\n",
        "agg_ratings"
      ],
      "execution_count": 0,
      "outputs": [
        {
          "output_type": "execute_result",
          "data": {
            "text/html": [
              "<div>\n",
              "<style scoped>\n",
              "    .dataframe tbody tr th:only-of-type {\n",
              "        vertical-align: middle;\n",
              "    }\n",
              "\n",
              "    .dataframe tbody tr th {\n",
              "        vertical-align: top;\n",
              "    }\n",
              "\n",
              "    .dataframe thead tr th {\n",
              "        text-align: left;\n",
              "    }\n",
              "\n",
              "    .dataframe thead tr:last-of-type th {\n",
              "        text-align: right;\n",
              "    }\n",
              "</style>\n",
              "<table border=\"1\" class=\"dataframe\">\n",
              "  <thead>\n",
              "    <tr>\n",
              "      <th></th>\n",
              "      <th>rating</th>\n",
              "    </tr>\n",
              "    <tr>\n",
              "      <th></th>\n",
              "      <th>mean</th>\n",
              "    </tr>\n",
              "    <tr>\n",
              "      <th>genres</th>\n",
              "      <th></th>\n",
              "    </tr>\n",
              "  </thead>\n",
              "  <tbody>\n",
              "    <tr>\n",
              "      <th>Action</th>\n",
              "      <td>3.491185</td>\n",
              "    </tr>\n",
              "    <tr>\n",
              "      <th>Adventure</th>\n",
              "      <td>3.477257</td>\n",
              "    </tr>\n",
              "    <tr>\n",
              "      <th>Animation</th>\n",
              "      <td>3.684868</td>\n",
              "    </tr>\n",
              "    <tr>\n",
              "      <th>Children's</th>\n",
              "      <td>3.422035</td>\n",
              "    </tr>\n",
              "    <tr>\n",
              "      <th>Comedy</th>\n",
              "      <td>3.522099</td>\n",
              "    </tr>\n",
              "    <tr>\n",
              "      <th>Crime</th>\n",
              "      <td>3.708679</td>\n",
              "    </tr>\n",
              "    <tr>\n",
              "      <th>Documentary</th>\n",
              "      <td>3.933123</td>\n",
              "    </tr>\n",
              "    <tr>\n",
              "      <th>Drama</th>\n",
              "      <td>3.766332</td>\n",
              "    </tr>\n",
              "    <tr>\n",
              "      <th>Fantasy</th>\n",
              "      <td>3.447371</td>\n",
              "    </tr>\n",
              "    <tr>\n",
              "      <th>Film-Noir</th>\n",
              "      <td>4.075188</td>\n",
              "    </tr>\n",
              "    <tr>\n",
              "      <th>Horror</th>\n",
              "      <td>3.215013</td>\n",
              "    </tr>\n",
              "    <tr>\n",
              "      <th>Musical</th>\n",
              "      <td>3.665519</td>\n",
              "    </tr>\n",
              "    <tr>\n",
              "      <th>Mystery</th>\n",
              "      <td>3.668102</td>\n",
              "    </tr>\n",
              "    <tr>\n",
              "      <th>Romance</th>\n",
              "      <td>3.607465</td>\n",
              "    </tr>\n",
              "    <tr>\n",
              "      <th>Sci-Fi</th>\n",
              "      <td>3.466521</td>\n",
              "    </tr>\n",
              "    <tr>\n",
              "      <th>Thriller</th>\n",
              "      <td>3.570466</td>\n",
              "    </tr>\n",
              "    <tr>\n",
              "      <th>War</th>\n",
              "      <td>3.893327</td>\n",
              "    </tr>\n",
              "    <tr>\n",
              "      <th>Western</th>\n",
              "      <td>3.637770</td>\n",
              "    </tr>\n",
              "  </tbody>\n",
              "</table>\n",
              "</div>"
            ],
            "text/plain": [
              "               rating\n",
              "                 mean\n",
              "genres               \n",
              "Action       3.491185\n",
              "Adventure    3.477257\n",
              "Animation    3.684868\n",
              "Children's   3.422035\n",
              "Comedy       3.522099\n",
              "Crime        3.708679\n",
              "Documentary  3.933123\n",
              "Drama        3.766332\n",
              "Fantasy      3.447371\n",
              "Film-Noir    4.075188\n",
              "Horror       3.215013\n",
              "Musical      3.665519\n",
              "Mystery      3.668102\n",
              "Romance      3.607465\n",
              "Sci-Fi       3.466521\n",
              "Thriller     3.570466\n",
              "War          3.893327\n",
              "Western      3.637770"
            ]
          },
          "metadata": {
            "tags": []
          },
          "execution_count": 26
        }
      ]
    },
    {
      "cell_type": "markdown",
      "metadata": {
        "id": "syDxEDnlmMIj",
        "colab_type": "text"
      },
      "source": [
        "\n",
        "### • [10 pts] The top 5 highest ranked genre by women."
      ]
    },
    {
      "cell_type": "markdown",
      "metadata": {
        "id": "8pEXVIfjmbb1",
        "colab_type": "text"
      },
      "source": [
        "We sort the genres with the highest mean rating by females:"
      ]
    },
    {
      "cell_type": "code",
      "metadata": {
        "id": "vxs96GwZDJpq",
        "colab_type": "code",
        "outputId": "8ae9517c-458c-406b-fbbc-5543de7ca6a9",
        "colab": {
          "base_uri": "https://localhost:8080/",
          "height": 357
        }
      },
      "source": [
        "mean_genre_ratings = data.pivot_table('rating', index='genres', columns='gender', aggfunc='mean')\n",
        "mean_female_genre_ratings = mean_genre_ratings['F'].sort_values(ascending=False)\n",
        "mean_female_genre_ratings"
      ],
      "execution_count": 0,
      "outputs": [
        {
          "output_type": "execute_result",
          "data": {
            "text/plain": [
              "genres\n",
              "Film-Noir      4.018087\n",
              "Documentary    3.946392\n",
              "War            3.893138\n",
              "Musical        3.809108\n",
              "Drama          3.765662\n",
              "Animation      3.744702\n",
              "Crime          3.689332\n",
              "Mystery        3.686548\n",
              "Romance        3.673579\n",
              "Thriller       3.573360\n",
              "Children's     3.572548\n",
              "Comedy         3.571938\n",
              "Western        3.551913\n",
              "Fantasy        3.513076\n",
              "Adventure      3.512879\n",
              "Action         3.490252\n",
              "Sci-Fi         3.450255\n",
              "Horror         3.202870\n",
              "Name: F, dtype: float64"
            ]
          },
          "metadata": {
            "tags": []
          },
          "execution_count": 27
        }
      ]
    },
    {
      "cell_type": "markdown",
      "metadata": {
        "id": "6K34DFGxmQLe",
        "colab_type": "text"
      },
      "source": [
        "Now to get just the top 5 Genres, we print the indices."
      ]
    },
    {
      "cell_type": "code",
      "metadata": {
        "id": "qWvI9eKPmqYU",
        "colab_type": "code",
        "outputId": "bc22460b-3de5-472a-ad08-d405feedc3a9",
        "colab": {
          "base_uri": "https://localhost:8080/",
          "height": 34
        }
      },
      "source": [
        "top_female_genres = mean_female_genre_ratings.index.tolist()\n",
        "top_female_genres[:5]"
      ],
      "execution_count": 0,
      "outputs": [
        {
          "output_type": "execute_result",
          "data": {
            "text/plain": [
              "['Film-Noir', 'Documentary', 'War', 'Musical', 'Drama']"
            ]
          },
          "metadata": {
            "tags": []
          },
          "execution_count": 29
        }
      ]
    },
    {
      "cell_type": "markdown",
      "metadata": {
        "id": "qMbiSCmanEPQ",
        "colab_type": "text"
      },
      "source": [
        "\n",
        "### • [10 pts] The top 5 highest ranked genre by men."
      ]
    },
    {
      "cell_type": "markdown",
      "metadata": {
        "id": "qal6MlTOnIiZ",
        "colab_type": "text"
      },
      "source": [
        "We sort the genres with the highest mean rating by males:"
      ]
    },
    {
      "cell_type": "code",
      "metadata": {
        "id": "BfVolVzFFQyP",
        "colab_type": "code",
        "outputId": "2eb6d84d-4f6f-40c8-b088-3725db8ee197",
        "colab": {
          "base_uri": "https://localhost:8080/",
          "height": 357
        }
      },
      "source": [
        "mean_genre_ratings = data.pivot_table('rating', index='genres', columns='gender', aggfunc='mean')\n",
        "mean_male_genre_ratings = mean_genre_ratings['M'].sort_values(ascending=False)\n",
        "mean_male_genre_ratings"
      ],
      "execution_count": 0,
      "outputs": [
        {
          "output_type": "execute_result",
          "data": {
            "text/plain": [
              "genres\n",
              "Film-Noir      4.092254\n",
              "Documentary    3.928811\n",
              "War            3.893375\n",
              "Drama          3.766589\n",
              "Crime          3.713720\n",
              "Mystery        3.662009\n",
              "Animation      3.661335\n",
              "Western        3.655120\n",
              "Musical        3.596332\n",
              "Romance        3.573262\n",
              "Thriller       3.569685\n",
              "Comedy         3.503667\n",
              "Action         3.491386\n",
              "Sci-Fi         3.469952\n",
              "Adventure      3.468125\n",
              "Fantasy        3.426603\n",
              "Children's     3.358961\n",
              "Horror         3.217891\n",
              "Name: M, dtype: float64"
            ]
          },
          "metadata": {
            "tags": []
          },
          "execution_count": 30
        }
      ]
    },
    {
      "cell_type": "markdown",
      "metadata": {
        "id": "oAm53oftnWcH",
        "colab_type": "text"
      },
      "source": [
        "Now to get just the top 5 Genres, we print the indices."
      ]
    },
    {
      "cell_type": "code",
      "metadata": {
        "id": "sAdPW2R_nXsY",
        "colab_type": "code",
        "outputId": "2ec4077b-6e3a-4cf1-8d8a-fcfa05884985",
        "colab": {
          "base_uri": "https://localhost:8080/",
          "height": 34
        }
      },
      "source": [
        "top_male_genres = mean_male_genre_ratings.index.tolist()\n",
        "top_male_genres[:5]"
      ],
      "execution_count": 0,
      "outputs": [
        {
          "output_type": "execute_result",
          "data": {
            "text/plain": [
              "['Film-Noir', 'Documentary', 'War', 'Drama', 'Crime']"
            ]
          },
          "metadata": {
            "tags": []
          },
          "execution_count": 31
        }
      ]
    },
    {
      "cell_type": "markdown",
      "metadata": {
        "id": "l_f6m25pnl6Q",
        "colab_type": "text"
      },
      "source": [
        "### • [20 pts] Pick a movie of your choice and provide a breakdown of the movie’s ratings by 3 age ranges (a) under 18 (b) 19 to 45 (c) Above 45."
      ]
    },
    {
      "cell_type": "markdown",
      "metadata": {
        "id": "RMnqaaJNnpaV",
        "colab_type": "text"
      },
      "source": [
        "Let us first look at the range of ages we have in the dataset"
      ]
    },
    {
      "cell_type": "code",
      "metadata": {
        "id": "rdJkUfHDFeZO",
        "colab_type": "code",
        "outputId": "58b503b2-2569-46b0-b42e-92699e95e0d6",
        "colab": {
          "base_uri": "https://localhost:8080/",
          "height": 34
        }
      },
      "source": [
        "age_range = data.age.unique()\n",
        "age_range.sort()\n",
        "age_range"
      ],
      "execution_count": 0,
      "outputs": [
        {
          "output_type": "execute_result",
          "data": {
            "text/plain": [
              "array([ 1, 18, 25, 35, 45, 50, 56])"
            ]
          },
          "metadata": {
            "tags": []
          },
          "execution_count": 32
        }
      ]
    },
    {
      "cell_type": "markdown",
      "metadata": {
        "id": "MDtfdDNznvsF",
        "colab_type": "text"
      },
      "source": [
        "Now we can assign an age group description to every age value out of the three we need for the analysis"
      ]
    },
    {
      "cell_type": "code",
      "metadata": {
        "id": "Coq_heX9GHpx",
        "colab_type": "code",
        "outputId": "6344b558-81b8-4fac-9152-7ad93fa68706",
        "colab": {
          "base_uri": "https://localhost:8080/",
          "height": 359
        }
      },
      "source": [
        "age_desc = {\n",
        "    1: 'Under 18', \n",
        "    18: 'Under 18', \n",
        "    25: '19 to 45', \n",
        "    35: '19 to 45', \n",
        "    45: '19 to 45', \n",
        "    50: 'Above 45',\n",
        "    56: 'Above 45'\n",
        "}\n",
        "\n",
        "data['age_group'] = [age_desc[x] for x in data['age']]\n",
        "data[:10]"
      ],
      "execution_count": 0,
      "outputs": [
        {
          "output_type": "execute_result",
          "data": {
            "text/html": [
              "<div>\n",
              "<style scoped>\n",
              "    .dataframe tbody tr th:only-of-type {\n",
              "        vertical-align: middle;\n",
              "    }\n",
              "\n",
              "    .dataframe tbody tr th {\n",
              "        vertical-align: top;\n",
              "    }\n",
              "\n",
              "    .dataframe thead th {\n",
              "        text-align: right;\n",
              "    }\n",
              "</style>\n",
              "<table border=\"1\" class=\"dataframe\">\n",
              "  <thead>\n",
              "    <tr style=\"text-align: right;\">\n",
              "      <th></th>\n",
              "      <th>user_id</th>\n",
              "      <th>movie_id</th>\n",
              "      <th>rating</th>\n",
              "      <th>timestamp</th>\n",
              "      <th>gender</th>\n",
              "      <th>age</th>\n",
              "      <th>occupation</th>\n",
              "      <th>zip</th>\n",
              "      <th>title</th>\n",
              "      <th>genres</th>\n",
              "      <th>age_group</th>\n",
              "    </tr>\n",
              "  </thead>\n",
              "  <tbody>\n",
              "    <tr>\n",
              "      <th>0</th>\n",
              "      <td>1</td>\n",
              "      <td>1193</td>\n",
              "      <td>5</td>\n",
              "      <td>978300760</td>\n",
              "      <td>F</td>\n",
              "      <td>1</td>\n",
              "      <td>10</td>\n",
              "      <td>48067</td>\n",
              "      <td>One Flew Over the Cuckoo's Nest (1975)</td>\n",
              "      <td>Drama</td>\n",
              "      <td>Under 18</td>\n",
              "    </tr>\n",
              "    <tr>\n",
              "      <th>1</th>\n",
              "      <td>2</td>\n",
              "      <td>1193</td>\n",
              "      <td>5</td>\n",
              "      <td>978298413</td>\n",
              "      <td>M</td>\n",
              "      <td>56</td>\n",
              "      <td>16</td>\n",
              "      <td>70072</td>\n",
              "      <td>One Flew Over the Cuckoo's Nest (1975)</td>\n",
              "      <td>Drama</td>\n",
              "      <td>Above 45</td>\n",
              "    </tr>\n",
              "    <tr>\n",
              "      <th>2</th>\n",
              "      <td>12</td>\n",
              "      <td>1193</td>\n",
              "      <td>4</td>\n",
              "      <td>978220179</td>\n",
              "      <td>M</td>\n",
              "      <td>25</td>\n",
              "      <td>12</td>\n",
              "      <td>32793</td>\n",
              "      <td>One Flew Over the Cuckoo's Nest (1975)</td>\n",
              "      <td>Drama</td>\n",
              "      <td>19 to 45</td>\n",
              "    </tr>\n",
              "    <tr>\n",
              "      <th>3</th>\n",
              "      <td>15</td>\n",
              "      <td>1193</td>\n",
              "      <td>4</td>\n",
              "      <td>978199279</td>\n",
              "      <td>M</td>\n",
              "      <td>25</td>\n",
              "      <td>7</td>\n",
              "      <td>22903</td>\n",
              "      <td>One Flew Over the Cuckoo's Nest (1975)</td>\n",
              "      <td>Drama</td>\n",
              "      <td>19 to 45</td>\n",
              "    </tr>\n",
              "    <tr>\n",
              "      <th>4</th>\n",
              "      <td>17</td>\n",
              "      <td>1193</td>\n",
              "      <td>5</td>\n",
              "      <td>978158471</td>\n",
              "      <td>M</td>\n",
              "      <td>50</td>\n",
              "      <td>1</td>\n",
              "      <td>95350</td>\n",
              "      <td>One Flew Over the Cuckoo's Nest (1975)</td>\n",
              "      <td>Drama</td>\n",
              "      <td>Above 45</td>\n",
              "    </tr>\n",
              "    <tr>\n",
              "      <th>5</th>\n",
              "      <td>18</td>\n",
              "      <td>1193</td>\n",
              "      <td>4</td>\n",
              "      <td>978156168</td>\n",
              "      <td>F</td>\n",
              "      <td>18</td>\n",
              "      <td>3</td>\n",
              "      <td>95825</td>\n",
              "      <td>One Flew Over the Cuckoo's Nest (1975)</td>\n",
              "      <td>Drama</td>\n",
              "      <td>Under 18</td>\n",
              "    </tr>\n",
              "    <tr>\n",
              "      <th>6</th>\n",
              "      <td>19</td>\n",
              "      <td>1193</td>\n",
              "      <td>5</td>\n",
              "      <td>982730936</td>\n",
              "      <td>M</td>\n",
              "      <td>1</td>\n",
              "      <td>10</td>\n",
              "      <td>48073</td>\n",
              "      <td>One Flew Over the Cuckoo's Nest (1975)</td>\n",
              "      <td>Drama</td>\n",
              "      <td>Under 18</td>\n",
              "    </tr>\n",
              "    <tr>\n",
              "      <th>7</th>\n",
              "      <td>24</td>\n",
              "      <td>1193</td>\n",
              "      <td>5</td>\n",
              "      <td>978136709</td>\n",
              "      <td>F</td>\n",
              "      <td>25</td>\n",
              "      <td>7</td>\n",
              "      <td>10023</td>\n",
              "      <td>One Flew Over the Cuckoo's Nest (1975)</td>\n",
              "      <td>Drama</td>\n",
              "      <td>19 to 45</td>\n",
              "    </tr>\n",
              "    <tr>\n",
              "      <th>8</th>\n",
              "      <td>28</td>\n",
              "      <td>1193</td>\n",
              "      <td>3</td>\n",
              "      <td>978125194</td>\n",
              "      <td>F</td>\n",
              "      <td>25</td>\n",
              "      <td>1</td>\n",
              "      <td>14607</td>\n",
              "      <td>One Flew Over the Cuckoo's Nest (1975)</td>\n",
              "      <td>Drama</td>\n",
              "      <td>19 to 45</td>\n",
              "    </tr>\n",
              "    <tr>\n",
              "      <th>9</th>\n",
              "      <td>33</td>\n",
              "      <td>1193</td>\n",
              "      <td>5</td>\n",
              "      <td>978557765</td>\n",
              "      <td>M</td>\n",
              "      <td>45</td>\n",
              "      <td>3</td>\n",
              "      <td>55421</td>\n",
              "      <td>One Flew Over the Cuckoo's Nest (1975)</td>\n",
              "      <td>Drama</td>\n",
              "      <td>19 to 45</td>\n",
              "    </tr>\n",
              "  </tbody>\n",
              "</table>\n",
              "</div>"
            ],
            "text/plain": [
              "   user_id  movie_id  ...  genres  age_group\n",
              "0        1      1193  ...   Drama   Under 18\n",
              "1        2      1193  ...   Drama   Above 45\n",
              "2       12      1193  ...   Drama   19 to 45\n",
              "3       15      1193  ...   Drama   19 to 45\n",
              "4       17      1193  ...   Drama   Above 45\n",
              "5       18      1193  ...   Drama   Under 18\n",
              "6       19      1193  ...   Drama   Under 18\n",
              "7       24      1193  ...   Drama   19 to 45\n",
              "8       28      1193  ...   Drama   19 to 45\n",
              "9       33      1193  ...   Drama   19 to 45\n",
              "\n",
              "[10 rows x 11 columns]"
            ]
          },
          "metadata": {
            "tags": []
          },
          "execution_count": 33
        }
      ]
    },
    {
      "cell_type": "markdown",
      "metadata": {
        "id": "7nxS6K10o5o2",
        "colab_type": "text"
      },
      "source": [
        "Now lets try to get a breakdown for the movie **Fargo (1996)** for each of the three groups"
      ]
    },
    {
      "cell_type": "code",
      "metadata": {
        "id": "CLNaeyV7IDb6",
        "colab_type": "code",
        "outputId": "3c18ffa0-ccc7-4964-d89d-375dc3b46a4b",
        "colab": {
          "base_uri": "https://localhost:8080/",
          "height": 306
        }
      },
      "source": [
        "agewise_ratings = data[data['title']=='Fargo (1996)'].groupby(['title','age_group'])\n",
        "agewise_ratings.rating.agg({'rating': [np.size, np.mean, min, max, np.median]})\n"
      ],
      "execution_count": 0,
      "outputs": [
        {
          "output_type": "stream",
          "text": [
            "/usr/local/lib/python3.6/dist-packages/ipykernel_launcher.py:2: FutureWarning: using a dict on a Series for aggregation\n",
            "is deprecated and will be removed in a future version. Use                 named aggregation instead.\n",
            "\n",
            "    >>> grouper.agg(name_1=func_1, name_2=func_2)\n",
            "\n",
            "  \n"
          ],
          "name": "stderr"
        },
        {
          "output_type": "execute_result",
          "data": {
            "text/html": [
              "<div>\n",
              "<style scoped>\n",
              "    .dataframe tbody tr th:only-of-type {\n",
              "        vertical-align: middle;\n",
              "    }\n",
              "\n",
              "    .dataframe tbody tr th {\n",
              "        vertical-align: top;\n",
              "    }\n",
              "\n",
              "    .dataframe thead tr th {\n",
              "        text-align: left;\n",
              "    }\n",
              "\n",
              "    .dataframe thead tr:last-of-type th {\n",
              "        text-align: right;\n",
              "    }\n",
              "</style>\n",
              "<table border=\"1\" class=\"dataframe\">\n",
              "  <thead>\n",
              "    <tr>\n",
              "      <th></th>\n",
              "      <th></th>\n",
              "      <th colspan=\"5\" halign=\"left\">rating</th>\n",
              "    </tr>\n",
              "    <tr>\n",
              "      <th></th>\n",
              "      <th></th>\n",
              "      <th>size</th>\n",
              "      <th>mean</th>\n",
              "      <th>min</th>\n",
              "      <th>max</th>\n",
              "      <th>median</th>\n",
              "    </tr>\n",
              "    <tr>\n",
              "      <th>title</th>\n",
              "      <th>age_group</th>\n",
              "      <th></th>\n",
              "      <th></th>\n",
              "      <th></th>\n",
              "      <th></th>\n",
              "      <th></th>\n",
              "    </tr>\n",
              "  </thead>\n",
              "  <tbody>\n",
              "    <tr>\n",
              "      <th rowspan=\"3\" valign=\"top\">Fargo (1996)</th>\n",
              "      <th>19 to 45</th>\n",
              "      <td>5076</td>\n",
              "      <td>4.245272</td>\n",
              "      <td>1</td>\n",
              "      <td>5</td>\n",
              "      <td>5</td>\n",
              "    </tr>\n",
              "    <tr>\n",
              "      <th>Above 45</th>\n",
              "      <td>951</td>\n",
              "      <td>4.413249</td>\n",
              "      <td>1</td>\n",
              "      <td>5</td>\n",
              "      <td>5</td>\n",
              "    </tr>\n",
              "    <tr>\n",
              "      <th>Under 18</th>\n",
              "      <td>1512</td>\n",
              "      <td>4.186508</td>\n",
              "      <td>1</td>\n",
              "      <td>5</td>\n",
              "      <td>4</td>\n",
              "    </tr>\n",
              "  </tbody>\n",
              "</table>\n",
              "</div>"
            ],
            "text/plain": [
              "                       rating                         \n",
              "                         size      mean min max median\n",
              "title        age_group                                \n",
              "Fargo (1996) 19 to 45    5076  4.245272   1   5      5\n",
              "             Above 45     951  4.413249   1   5      5\n",
              "             Under 18    1512  4.186508   1   5      4"
            ]
          },
          "metadata": {
            "tags": []
          },
          "execution_count": 34
        }
      ]
    },
    {
      "cell_type": "markdown",
      "metadata": {
        "id": "lU1Fk-IWpPbE",
        "colab_type": "text"
      },
      "source": [
        "### • [30 pts] A function that given a user id and movie id , returns a list of user ids for other users that rated the movie identified by the provided movie id with the same score.\n"
      ]
    },
    {
      "cell_type": "markdown",
      "metadata": {
        "id": "VKoGyqCLpriE",
        "colab_type": "text"
      },
      "source": [
        "The function below takes 2 inputs user_id and movie_id."
      ]
    },
    {
      "cell_type": "code",
      "metadata": {
        "id": "W-ir573pYoXt",
        "colab_type": "code",
        "colab": {}
      },
      "source": [
        "def rated_similarly(user_id, movie_id):\n",
        "    user_data =  data[(data['user_id']==user_id)]\n",
        "    user_movie_data =  user_data[(user_data['movie_id']==movie_id)]\n",
        "    user_rating = user_movie_data.loc[user_movie_data.index[0],'rating']\n",
        "    movie_data = data[(data['movie_id']==movie_id)]\n",
        "    same_rating_users = movie_data[(movie_data.rating == user_rating)]\n",
        "    return (same_rating_users.user_id.tolist())"
      ],
      "execution_count": 0,
      "outputs": []
    },
    {
      "cell_type": "markdown",
      "metadata": {
        "id": "Aeh5q2Irp4xb",
        "colab_type": "text"
      },
      "source": [
        "And now we call the function to see the other user ids who voted for the same movie with the same rating as the given user."
      ]
    },
    {
      "cell_type": "code",
      "metadata": {
        "id": "eqUULiLCZexm",
        "colab_type": "code",
        "outputId": "fc59fde6-556e-4775-91dd-c0bcebfdc618",
        "colab": {
          "base_uri": "https://localhost:8080/",
          "height": 88
        }
      },
      "source": [
        "print(\"\\nOther users who rated the movie similarly have User Ids:\\n\", rated_similarly(1,608))"
      ],
      "execution_count": 0,
      "outputs": [
        {
          "output_type": "stream",
          "text": [
            "\n",
            "Other users who rated the movie similarly have User Ids:\n",
            " [1, 1, 1, 5, 5, 5, 9, 9, 9, 23, 23, 23, 28, 28, 28, 32, 32, 32, 33, 33, 33, 35, 35, 35, 48, 48, 48, 59, 59, 59, 62, 62, 62, 82, 82, 82, 96, 96, 96, 131, 131, 131, 136, 136, 136, 137, 137, 137, 138, 138, 138, 157, 157, 157, 180, 180, 180, 190, 190, 190, 192, 192, 192, 195, 195, 195, 199, 199, 199, 201, 201, 201, 204, 204, 204, 216, 216, 216, 231, 231, 231, 236, 236, 236, 238, 238, 238, 240, 240, 240, 253, 253, 253, 255, 255, 255, 265, 265, 265, 293, 293, 293, 297, 297, 297, 300, 300, 300, 302, 302, 302, 303, 303, 303, 312, 312, 312, 327, 327, 327, 330, 330, 330, 332, 332, 332, 339, 339, 339, 340, 340, 340, 350, 350, 350, 371, 371, 371, 375, 375, 375, 376, 376, 376, 377, 377, 377, 392, 392, 392, 398, 398, 398, 402, 402, 402, 418, 418, 418, 431, 431, 431, 439, 439, 439, 443, 443, 443, 456, 456, 456, 478, 478, 478, 509, 509, 509, 537, 537, 537, 538, 538, 538, 541, 541, 541, 547, 547, 547, 566, 566, 566, 571, 571, 571, 584, 584, 584, 591, 591, 591, 593, 593, 593, 601, 601, 601, 610, 610, 610, 620, 620, 620, 622, 622, 622, 625, 625, 625, 642, 642, 642, 645, 645, 645, 651, 651, 651, 702, 702, 702, 705, 705, 705, 715, 715, 715, 718, 718, 718, 722, 722, 722, 724, 724, 724, 728, 728, 728, 735, 735, 735, 748, 748, 748, 756, 756, 756, 757, 757, 757, 774, 774, 774, 780, 780, 780, 796, 796, 796, 801, 801, 801, 804, 804, 804, 818, 818, 818, 845, 845, 845, 850, 850, 850, 854, 854, 854, 855, 855, 855, 861, 861, 861, 873, 873, 873, 876, 876, 876, 877, 877, 877, 884, 884, 884, 887, 887, 887, 889, 889, 889, 893, 893, 893, 899, 899, 899, 905, 905, 905, 911, 911, 911, 918, 918, 918, 919, 919, 919, 921, 921, 921, 922, 922, 922, 934, 934, 934, 945, 945, 945, 962, 962, 962, 965, 965, 965, 966, 966, 966, 969, 969, 969, 970, 970, 970, 971, 971, 971, 975, 975, 975, 981, 981, 981, 984, 984, 984, 996, 996, 996, 998, 998, 998, 1016, 1016, 1016, 1063, 1063, 1063, 1064, 1064, 1064, 1088, 1088, 1088, 1089, 1089, 1089, 1090, 1090, 1090, 1096, 1096, 1096, 1097, 1097, 1097, 1113, 1113, 1113, 1115, 1115, 1115, 1119, 1119, 1119, 1124, 1124, 1124, 1125, 1125, 1125, 1128, 1128, 1128, 1130, 1130, 1130, 1133, 1133, 1133, 1142, 1142, 1142, 1162, 1162, 1162, 1176, 1176, 1176, 1179, 1179, 1179, 1198, 1198, 1198, 1222, 1222, 1222, 1227, 1227, 1227, 1235, 1235, 1235, 1246, 1246, 1246, 1260, 1260, 1260, 1263, 1263, 1263, 1267, 1267, 1267, 1293, 1293, 1293, 1298, 1298, 1298, 1299, 1299, 1299, 1304, 1304, 1304, 1322, 1322, 1322, 1324, 1324, 1324, 1325, 1325, 1325, 1326, 1326, 1326, 1335, 1335, 1335, 1336, 1336, 1336, 1344, 1344, 1344, 1350, 1350, 1350, 1352, 1352, 1352, 1360, 1360, 1360, 1362, 1362, 1362, 1390, 1390, 1390, 1395, 1395, 1395, 1401, 1401, 1401, 1402, 1402, 1402, 1405, 1405, 1405, 1409, 1409, 1409, 1422, 1422, 1422, 1427, 1427, 1427, 1430, 1430, 1430, 1442, 1442, 1442, 1448, 1448, 1448, 1466, 1466, 1466, 1481, 1481, 1481, 1489, 1489, 1489, 1505, 1505, 1505, 1521, 1521, 1521, 1534, 1534, 1534, 1542, 1542, 1542, 1546, 1546, 1546, 1550, 1550, 1550, 1556, 1556, 1556, 1561, 1561, 1561, 1567, 1567, 1567, 1571, 1571, 1571, 1579, 1579, 1579, 1592, 1592, 1592, 1609, 1609, 1609, 1618, 1618, 1618, 1620, 1620, 1620, 1631, 1631, 1631, 1632, 1632, 1632, 1649, 1649, 1649, 1655, 1655, 1655, 1658, 1658, 1658, 1663, 1663, 1663, 1666, 1666, 1666, 1668, 1668, 1668, 1694, 1694, 1694, 1697, 1697, 1697, 1716, 1716, 1716, 1717, 1717, 1717, 1724, 1724, 1724, 1737, 1737, 1737, 1740, 1740, 1740, 1748, 1748, 1748, 1749, 1749, 1749, 1775, 1775, 1775, 1790, 1790, 1790, 1792, 1792, 1792, 1793, 1793, 1793, 1806, 1806, 1806, 1812, 1812, 1812, 1829, 1829, 1829, 1831, 1831, 1831, 1841, 1841, 1841, 1851, 1851, 1851, 1854, 1854, 1854, 1855, 1855, 1855, 1861, 1861, 1861, 1866, 1866, 1866, 1874, 1874, 1874, 1880, 1880, 1880, 1887, 1887, 1887, 1889, 1889, 1889, 1901, 1901, 1901, 1909, 1909, 1909, 1917, 1917, 1917, 1928, 1928, 1928, 1929, 1929, 1929, 1932, 1932, 1932, 1941, 1941, 1941, 1943, 1943, 1943, 1944, 1944, 1944, 1954, 1954, 1954, 1957, 1957, 1957, 1958, 1958, 1958, 1962, 1962, 1962, 1968, 1968, 1968, 1982, 1982, 1982, 1984, 1984, 1984, 1988, 1988, 1988, 2010, 2010, 2010, 2025, 2025, 2025, 2041, 2041, 2041, 2042, 2042, 2042, 2050, 2050, 2050, 2062, 2062, 2062, 2080, 2080, 2080, 2089, 2089, 2089, 2098, 2098, 2098, 2100, 2100, 2100, 2106, 2106, 2106, 2109, 2109, 2109, 2119, 2119, 2119, 2140, 2140, 2140, 2157, 2157, 2157, 2164, 2164, 2164, 2174, 2174, 2174, 2177, 2177, 2177, 2190, 2190, 2190, 2227, 2227, 2227, 2231, 2231, 2231, 2246, 2246, 2246, 2288, 2288, 2288, 2292, 2292, 2292, 2296, 2296, 2296, 2310, 2310, 2310, 2316, 2316, 2316, 2317, 2317, 2317, 2323, 2323, 2323, 2334, 2334, 2334, 2341, 2341, 2341, 2345, 2345, 2345, 2369, 2369, 2369, 2372, 2372, 2372, 2380, 2380, 2380, 2385, 2385, 2385, 2387, 2387, 2387, 2389, 2389, 2389, 2393, 2393, 2393, 2399, 2399, 2399, 2402, 2402, 2402, 2407, 2407, 2407, 2409, 2409, 2409, 2414, 2414, 2414, 2419, 2419, 2419, 2448, 2448, 2448, 2464, 2464, 2464, 2472, 2472, 2472, 2474, 2474, 2474, 2478, 2478, 2478, 2490, 2490, 2490, 2504, 2504, 2504, 2506, 2506, 2506, 2535, 2535, 2535, 2537, 2537, 2537, 2538, 2538, 2538, 2555, 2555, 2555, 2564, 2564, 2564, 2567, 2567, 2567, 2576, 2576, 2576, 2581, 2581, 2581, 2585, 2585, 2585, 2592, 2592, 2592, 2593, 2593, 2593, 2602, 2602, 2602, 2605, 2605, 2605, 2612, 2612, 2612, 2617, 2617, 2617, 2641, 2641, 2641, 2644, 2644, 2644, 2653, 2653, 2653, 2664, 2664, 2664, 2668, 2668, 2668, 2670, 2670, 2670, 2671, 2671, 2671, 2676, 2676, 2676, 2680, 2680, 2680, 2683, 2683, 2683, 2703, 2703, 2703, 2731, 2731, 2731, 2752, 2752, 2752, 2765, 2765, 2765, 2769, 2769, 2769, 2776, 2776, 2776, 2779, 2779, 2779, 2791, 2791, 2791, 2802, 2802, 2802, 2809, 2809, 2809, 2810, 2810, 2810, 2812, 2812, 2812, 2817, 2817, 2817, 2824, 2824, 2824, 2826, 2826, 2826, 2831, 2831, 2831, 2837, 2837, 2837, 2848, 2848, 2848, 2853, 2853, 2853, 2856, 2856, 2856, 2857, 2857, 2857, 2860, 2860, 2860, 2863, 2863, 2863, 2876, 2876, 2876, 2878, 2878, 2878, 2896, 2896, 2896, 2903, 2903, 2903, 2915, 2915, 2915, 2926, 2926, 2926, 2928, 2928, 2928, 2936, 2936, 2936, 2946, 2946, 2946, 2947, 2947, 2947, 2952, 2952, 2952, 2963, 2963, 2963, 2967, 2967, 2967, 2971, 2971, 2971, 2974, 2974, 2974, 2986, 2986, 2986, 2987, 2987, 2987, 3001, 3001, 3001, 3004, 3004, 3004, 3024, 3024, 3024, 3030, 3030, 3030, 3031, 3031, 3031, 3032, 3032, 3032, 3047, 3047, 3047, 3053, 3053, 3053, 3055, 3055, 3055, 3090, 3090, 3090, 3091, 3091, 3091, 3098, 3098, 3098, 3100, 3100, 3100, 3110, 3110, 3110, 3117, 3117, 3117, 3118, 3118, 3118, 3124, 3124, 3124, 3125, 3125, 3125, 3126, 3126, 3126, 3130, 3130, 3130, 3131, 3131, 3131, 3140, 3140, 3140, 3143, 3143, 3143, 3146, 3146, 3146, 3170, 3170, 3170, 3178, 3178, 3178, 3188, 3188, 3188, 3191, 3191, 3191, 3192, 3192, 3192, 3198, 3198, 3198, 3200, 3200, 3200, 3205, 3205, 3205, 3208, 3208, 3208, 3211, 3211, 3211, 3216, 3216, 3216, 3220, 3220, 3220, 3230, 3230, 3230, 3241, 3241, 3241, 3248, 3248, 3248, 3250, 3250, 3250, 3253, 3253, 3253, 3259, 3259, 3259, 3262, 3262, 3262, 3269, 3269, 3269, 3271, 3271, 3271, 3272, 3272, 3272, 3284, 3284, 3284, 3293, 3293, 3293, 3301, 3301, 3301, 3308, 3308, 3308, 3309, 3309, 3309, 3311, 3311, 3311, 3313, 3313, 3313, 3314, 3314, 3314, 3320, 3320, 3320, 3321, 3321, 3321, 3329, 3329, 3329, 3331, 3331, 3331, 3334, 3334, 3334, 3340, 3340, 3340, 3346, 3346, 3346, 3357, 3357, 3357, 3359, 3359, 3359, 3381, 3381, 3381, 3387, 3387, 3387, 3390, 3390, 3390, 3399, 3399, 3399, 3402, 3402, 3402, 3411, 3411, 3411, 3414, 3414, 3414, 3417, 3417, 3417, 3419, 3419, 3419, 3420, 3420, 3420, 3427, 3427, 3427, 3433, 3433, 3433, 3440, 3440, 3440, 3451, 3451, 3451, 3452, 3452, 3452, 3453, 3453, 3453, 3457, 3457, 3457, 3467, 3467, 3467, 3468, 3468, 3468, 3474, 3474, 3474, 3481, 3481, 3481, 3482, 3482, 3482, 3491, 3491, 3491, 3493, 3493, 3493, 3498, 3498, 3498, 3501, 3501, 3501, 3504, 3504, 3504, 3518, 3518, 3518, 3519, 3519, 3519, 3520, 3520, 3520, 3523, 3523, 3523, 3524, 3524, 3524, 3525, 3525, 3525, 3531, 3531, 3531, 3538, 3538, 3538, 3543, 3543, 3543, 3546, 3546, 3546, 3550, 3550, 3550, 3551, 3551, 3551, 3562, 3562, 3562, 3564, 3564, 3564, 3569, 3569, 3569, 3574, 3574, 3574, 3576, 3576, 3576, 3584, 3584, 3584, 3585, 3585, 3585, 3586, 3586, 3586, 3589, 3589, 3589, 3599, 3599, 3599, 3612, 3612, 3612, 3613, 3613, 3613, 3615, 3615, 3615, 3618, 3618, 3618, 3620, 3620, 3620, 3622, 3622, 3622, 3640, 3640, 3640, 3643, 3643, 3643, 3654, 3654, 3654, 3658, 3658, 3658, 3665, 3665, 3665, 3669, 3669, 3669, 3670, 3670, 3670, 3679, 3679, 3679, 3683, 3683, 3683, 3691, 3691, 3691, 3693, 3693, 3693, 3694, 3694, 3694, 3700, 3700, 3700, 3703, 3703, 3703, 3717, 3717, 3717, 3718, 3718, 3718, 3720, 3720, 3720, 3721, 3721, 3721, 3724, 3724, 3724, 3725, 3725, 3725, 3729, 3729, 3729, 3732, 3732, 3732, 3733, 3733, 3733, 3758, 3758, 3758, 3762, 3762, 3762, 3768, 3768, 3768, 3777, 3777, 3777, 3792, 3792, 3792, 3813, 3813, 3813, 3826, 3826, 3826, 3829, 3829, 3829, 3831, 3831, 3831, 3832, 3832, 3832, 3833, 3833, 3833, 3837, 3837, 3837, 3862, 3862, 3862, 3876, 3876, 3876, 3880, 3880, 3880, 3885, 3885, 3885, 3886, 3886, 3886, 3890, 3890, 3890, 3892, 3892, 3892, 3894, 3894, 3894, 3898, 3898, 3898, 3900, 3900, 3900, 3910, 3910, 3910, 3929, 3929, 3929, 3945, 3945, 3945, 3957, 3957, 3957, 3974, 3974, 3974, 3985, 3985, 3985, 3988, 3988, 3988, 4007, 4007, 4007, 4016, 4016, 4016, 4022, 4022, 4022, 4023, 4023, 4023, 4026, 4026, 4026, 4030, 4030, 4030, 4033, 4033, 4033, 4041, 4041, 4041, 4042, 4042, 4042, 4043, 4043, 4043, 4053, 4053, 4053, 4060, 4060, 4060, 4070, 4070, 4070, 4072, 4072, 4072, 4075, 4075, 4075, 4083, 4083, 4083, 4084, 4084, 4084, 4085, 4085, 4085, 4099, 4099, 4099, 4103, 4103, 4103, 4104, 4104, 4104, 4116, 4116, 4116, 4118, 4118, 4118, 4123, 4123, 4123, 4134, 4134, 4134, 4159, 4159, 4159, 4162, 4162, 4162, 4171, 4171, 4171, 4186, 4186, 4186, 4193, 4193, 4193, 4195, 4195, 4195, 4223, 4223, 4223, 4248, 4248, 4248, 4249, 4249, 4249, 4271, 4271, 4271, 4280, 4280, 4280, 4290, 4290, 4290, 4303, 4303, 4303, 4308, 4308, 4308, 4310, 4310, 4310, 4312, 4312, 4312, 4322, 4322, 4322, 4350, 4350, 4350, 4375, 4375, 4375, 4382, 4382, 4382, 4403, 4403, 4403, 4423, 4423, 4423, 4425, 4425, 4425, 4463, 4463, 4463, 4473, 4473, 4473, 4478, 4478, 4478, 4490, 4490, 4490, 4508, 4508, 4508, 4509, 4509, 4509, 4514, 4514, 4514, 4526, 4526, 4526, 4532, 4532, 4532, 4546, 4546, 4546, 4562, 4562, 4562, 4563, 4563, 4563, 4573, 4573, 4573, 4574, 4574, 4574, 4579, 4579, 4579, 4590, 4590, 4590, 4591, 4591, 4591, 4593, 4593, 4593, 4596, 4596, 4596, 4601, 4601, 4601, 4605, 4605, 4605, 4611, 4611, 4611, 4626, 4626, 4626, 4641, 4641, 4641, 4644, 4644, 4644, 4652, 4652, 4652, 4657, 4657, 4657, 4658, 4658, 4658, 4661, 4661, 4661, 4724, 4724, 4724, 4726, 4726, 4726, 4729, 4729, 4729, 4735, 4735, 4735, 4738, 4738, 4738, 4747, 4747, 4747, 4765, 4765, 4765, 4768, 4768, 4768, 4771, 4771, 4771, 4772, 4772, 4772, 4784, 4784, 4784, 4790, 4790, 4790, 4791, 4791, 4791, 4795, 4795, 4795, 4812, 4812, 4812, 4816, 4816, 4816, 4821, 4821, 4821, 4823, 4823, 4823, 4824, 4824, 4824, 4826, 4826, 4826, 4832, 4832, 4832, 4845, 4845, 4845, 4857, 4857, 4857, 4865, 4865, 4865, 4869, 4869, 4869, 4884, 4884, 4884, 4890, 4890, 4890, 4913, 4913, 4913, 4915, 4915, 4915, 4919, 4919, 4919, 4927, 4927, 4927, 4928, 4928, 4928, 4933, 4933, 4933, 4945, 4945, 4945, 4947, 4947, 4947, 4953, 4953, 4953, 4957, 4957, 4957, 4979, 4979, 4979, 4980, 4980, 4980, 4984, 4984, 4984, 4988, 4988, 4988, 4989, 4989, 4989, 5000, 5000, 5000, 5002, 5002, 5002, 5005, 5005, 5005, 5019, 5019, 5019, 5032, 5032, 5032, 5034, 5034, 5034, 5042, 5042, 5042, 5053, 5053, 5053, 5082, 5082, 5082, 5085, 5085, 5085, 5087, 5087, 5087, 5090, 5090, 5090, 5091, 5091, 5091, 5108, 5108, 5108, 5124, 5124, 5124, 5131, 5131, 5131, 5132, 5132, 5132, 5143, 5143, 5143, 5153, 5153, 5153, 5160, 5160, 5160, 5169, 5169, 5169, 5179, 5179, 5179, 5193, 5193, 5193, 5194, 5194, 5194, 5196, 5196, 5196, 5198, 5198, 5198, 5205, 5205, 5205, 5212, 5212, 5212, 5222, 5222, 5222, 5223, 5223, 5223, 5225, 5225, 5225, 5233, 5233, 5233, 5239, 5239, 5239, 5242, 5242, 5242, 5255, 5255, 5255, 5256, 5256, 5256, 5264, 5264, 5264, 5270, 5270, 5270, 5273, 5273, 5273, 5278, 5278, 5278, 5293, 5293, 5293, 5303, 5303, 5303, 5306, 5306, 5306, 5312, 5312, 5312, 5333, 5333, 5333, 5353, 5353, 5353, 5355, 5355, 5355, 5359, 5359, 5359, 5366, 5366, 5366, 5367, 5367, 5367, 5368, 5368, 5368, 5377, 5377, 5377, 5392, 5392, 5392, 5397, 5397, 5397, 5401, 5401, 5401, 5413, 5413, 5413, 5424, 5424, 5424, 5425, 5425, 5425, 5441, 5441, 5441, 5442, 5442, 5442, 5445, 5445, 5445, 5450, 5450, 5450, 5457, 5457, 5457, 5460, 5460, 5460, 5466, 5466, 5466, 5491, 5491, 5491, 5499, 5499, 5499, 5502, 5502, 5502, 5503, 5503, 5503, 5516, 5516, 5516, 5520, 5520, 5520, 5536, 5536, 5536, 5543, 5543, 5543, 5545, 5545, 5545, 5548, 5548, 5548, 5553, 5553, 5553, 5555, 5555, 5555, 5559, 5559, 5559, 5568, 5568, 5568, 5585, 5585, 5585, 5586, 5586, 5586, 5591, 5591, 5591, 5601, 5601, 5601, 5608, 5608, 5608, 5621, 5621, 5621, 5625, 5625, 5625, 5630, 5630, 5630, 5645, 5645, 5645, 5649, 5649, 5649, 5663, 5663, 5663, 5665, 5665, 5665, 5673, 5673, 5673, 5682, 5682, 5682, 5698, 5698, 5698, 5701, 5701, 5701, 5721, 5721, 5721, 5723, 5723, 5723, 5738, 5738, 5738, 5747, 5747, 5747, 5748, 5748, 5748, 5759, 5759, 5759, 5765, 5765, 5765, 5776, 5776, 5776, 5790, 5790, 5790, 5795, 5795, 5795, 5801, 5801, 5801, 5802, 5802, 5802, 5809, 5809, 5809, 5820, 5820, 5820, 5825, 5825, 5825, 5831, 5831, 5831, 5833, 5833, 5833, 5839, 5839, 5839, 5840, 5840, 5840, 5841, 5841, 5841, 5848, 5848, 5848, 5861, 5861, 5861, 5874, 5874, 5874, 5881, 5881, 5881, 5887, 5887, 5887, 5894, 5894, 5894, 5910, 5910, 5910, 5916, 5916, 5916, 5918, 5918, 5918, 5920, 5920, 5920, 5922, 5922, 5922, 5923, 5923, 5923, 5925, 5925, 5925, 5930, 5930, 5930, 5937, 5937, 5937, 5939, 5939, 5939, 5951, 5951, 5951, 5963, 5963, 5963, 5976, 5976, 5976, 5981, 5981, 5981, 5982, 5982, 5982, 5988, 5988, 5988, 5998, 5998, 5998, 6022, 6022, 6022, 6040, 6040, 6040]\n"
          ],
          "name": "stdout"
        }
      ]
    },
    {
      "cell_type": "markdown",
      "metadata": {
        "id": "IOVFmHMdrdTk",
        "colab_type": "text"
      },
      "source": [
        "### • [20 pts] Some other statistic, figure, aggregate, or plot that you created using this dataset, along with a short description of what interesting observations you derived from it."
      ]
    },
    {
      "cell_type": "markdown",
      "metadata": {
        "id": "wuC4VE8Ouj4f",
        "colab_type": "text"
      },
      "source": [
        "We first import PyPlot from matplotlib to be able to plot data to show trends."
      ]
    },
    {
      "cell_type": "code",
      "metadata": {
        "id": "8WbtBTvZu0tQ",
        "colab_type": "code",
        "colab": {}
      },
      "source": [
        "from matplotlib import pyplot as plt"
      ],
      "execution_count": 0,
      "outputs": []
    },
    {
      "cell_type": "markdown",
      "metadata": {
        "id": "eIUC8Kkzu3xc",
        "colab_type": "text"
      },
      "source": [
        "Now lets take a look at the distribution of the users based on their ratings to understand if users are usually liberal or critical while rating"
      ]
    },
    {
      "cell_type": "code",
      "metadata": {
        "id": "dL1Qjd0du-WL",
        "colab_type": "code",
        "outputId": "f1c3534e-67e2-4503-c048-da52fbb3bbf2",
        "colab": {
          "base_uri": "https://localhost:8080/",
          "height": 295
        }
      },
      "source": [
        "data['rating'].plot.hist(bins=40)\n",
        "plt.title(\"Distribution of users' ratings\")\n",
        "plt.ylabel('count of users')\n",
        "plt.xlabel('rating');"
      ],
      "execution_count": 0,
      "outputs": [
        {
          "output_type": "display_data",
          "data": {
            "image/png": "[encoded data removed]",
            "text/plain": [
              "<Figure size 432x288 with 1 Axes>"
            ]
          },
          "metadata": {
            "tags": []
          }
        }
      ]
    },
    {
      "cell_type": "markdown",
      "metadata": {
        "id": "YPBDIADCvY2P",
        "colab_type": "text"
      },
      "source": [
        "From the above we can see people tend to rate generously more often than not."
      ]
    },
    {
      "cell_type": "markdown",
      "metadata": {
        "id": "gCUx638uviPR",
        "colab_type": "text"
      },
      "source": [
        "Analysis of data by ages is sometimes very enlightening. Let us try to find how many people in the different ages watched the movie **One Flew Over the Cuckoo's Nest (1975)**?"
      ]
    },
    {
      "cell_type": "code",
      "metadata": {
        "id": "15FYMtWLrfUm",
        "colab_type": "code",
        "outputId": "6d97b364-83c8-46d3-9e5a-b23308700e84",
        "colab": {
          "base_uri": "https://localhost:8080/",
          "height": 328
        }
      },
      "source": [
        "by_age = data[data['title']=='One Flew Over the Cuckoo\\'s Nest (1975)'].groupby(['title','age']).agg({'rating': [np.size]})\n",
        "by_age"
      ],
      "execution_count": 0,
      "outputs": [
        {
          "output_type": "execute_result",
          "data": {
            "text/html": [
              "<div>\n",
              "<style scoped>\n",
              "    .dataframe tbody tr th:only-of-type {\n",
              "        vertical-align: middle;\n",
              "    }\n",
              "\n",
              "    .dataframe tbody tr th {\n",
              "        vertical-align: top;\n",
              "    }\n",
              "\n",
              "    .dataframe thead tr th {\n",
              "        text-align: left;\n",
              "    }\n",
              "\n",
              "    .dataframe thead tr:last-of-type th {\n",
              "        text-align: right;\n",
              "    }\n",
              "</style>\n",
              "<table border=\"1\" class=\"dataframe\">\n",
              "  <thead>\n",
              "    <tr>\n",
              "      <th></th>\n",
              "      <th></th>\n",
              "      <th>rating</th>\n",
              "    </tr>\n",
              "    <tr>\n",
              "      <th></th>\n",
              "      <th></th>\n",
              "      <th>size</th>\n",
              "    </tr>\n",
              "    <tr>\n",
              "      <th>title</th>\n",
              "      <th>age</th>\n",
              "      <th></th>\n",
              "    </tr>\n",
              "  </thead>\n",
              "  <tbody>\n",
              "    <tr>\n",
              "      <th rowspan=\"7\" valign=\"top\">One Flew Over the Cuckoo's Nest (1975)</th>\n",
              "      <th>1</th>\n",
              "      <td>36</td>\n",
              "    </tr>\n",
              "    <tr>\n",
              "      <th>18</th>\n",
              "      <td>249</td>\n",
              "    </tr>\n",
              "    <tr>\n",
              "      <th>25</th>\n",
              "      <td>582</td>\n",
              "    </tr>\n",
              "    <tr>\n",
              "      <th>35</th>\n",
              "      <td>403</td>\n",
              "    </tr>\n",
              "    <tr>\n",
              "      <th>45</th>\n",
              "      <td>191</td>\n",
              "    </tr>\n",
              "    <tr>\n",
              "      <th>50</th>\n",
              "      <td>145</td>\n",
              "    </tr>\n",
              "    <tr>\n",
              "      <th>56</th>\n",
              "      <td>119</td>\n",
              "    </tr>\n",
              "  </tbody>\n",
              "</table>\n",
              "</div>"
            ],
            "text/plain": [
              "                                           rating\n",
              "                                             size\n",
              "title                                  age       \n",
              "One Flew Over the Cuckoo's Nest (1975) 1       36\n",
              "                                       18     249\n",
              "                                       25     582\n",
              "                                       35     403\n",
              "                                       45     191\n",
              "                                       50     145\n",
              "                                       56     119"
            ]
          },
          "metadata": {
            "tags": []
          },
          "execution_count": 39
        }
      ]
    },
    {
      "cell_type": "markdown",
      "metadata": {
        "id": "cZCyiAaOwQ1u",
        "colab_type": "text"
      },
      "source": [
        "Now Let's see the trend in how old people rate movies in general."
      ]
    },
    {
      "cell_type": "code",
      "metadata": {
        "id": "oJuMjDuE3J2N",
        "colab_type": "code",
        "outputId": "22151380-038c-4bd0-e308-d53f7006035e",
        "colab": {
          "base_uri": "https://localhost:8080/",
          "height": 481
        }
      },
      "source": [
        "by_old_age = data[data['age_group']=='Above 45'].groupby('title').agg({'rating': [np.mean]})\n",
        "by_old_age"
      ],
      "execution_count": 0,
      "outputs": [
        {
          "output_type": "execute_result",
          "data": {
            "text/html": [
              "<div>\n",
              "<style scoped>\n",
              "    .dataframe tbody tr th:only-of-type {\n",
              "        vertical-align: middle;\n",
              "    }\n",
              "\n",
              "    .dataframe tbody tr th {\n",
              "        vertical-align: top;\n",
              "    }\n",
              "\n",
              "    .dataframe thead tr th {\n",
              "        text-align: left;\n",
              "    }\n",
              "\n",
              "    .dataframe thead tr:last-of-type th {\n",
              "        text-align: right;\n",
              "    }\n",
              "</style>\n",
              "<table border=\"1\" class=\"dataframe\">\n",
              "  <thead>\n",
              "    <tr>\n",
              "      <th></th>\n",
              "      <th>rating</th>\n",
              "    </tr>\n",
              "    <tr>\n",
              "      <th></th>\n",
              "      <th>mean</th>\n",
              "    </tr>\n",
              "    <tr>\n",
              "      <th>title</th>\n",
              "      <th></th>\n",
              "    </tr>\n",
              "  </thead>\n",
              "  <tbody>\n",
              "    <tr>\n",
              "      <th>$1,000,000 Duck (1971)</th>\n",
              "      <td>2.750000</td>\n",
              "    </tr>\n",
              "    <tr>\n",
              "      <th>'Night Mother (1986)</th>\n",
              "      <td>3.750000</td>\n",
              "    </tr>\n",
              "    <tr>\n",
              "      <th>'Til There Was You (1997)</th>\n",
              "      <td>2.600000</td>\n",
              "    </tr>\n",
              "    <tr>\n",
              "      <th>'burbs, The (1989)</th>\n",
              "      <td>3.100000</td>\n",
              "    </tr>\n",
              "    <tr>\n",
              "      <th>...And Justice for All (1979)</th>\n",
              "      <td>3.674419</td>\n",
              "    </tr>\n",
              "    <tr>\n",
              "      <th>...</th>\n",
              "      <td>...</td>\n",
              "    </tr>\n",
              "    <tr>\n",
              "      <th>Your Friends and Neighbors (1998)</th>\n",
              "      <td>3.500000</td>\n",
              "    </tr>\n",
              "    <tr>\n",
              "      <th>Zachariah (1971)</th>\n",
              "      <td>5.000000</td>\n",
              "    </tr>\n",
              "    <tr>\n",
              "      <th>Zed &amp; Two Noughts, A (1985)</th>\n",
              "      <td>3.000000</td>\n",
              "    </tr>\n",
              "    <tr>\n",
              "      <th>Zero Effect (1998)</th>\n",
              "      <td>3.769231</td>\n",
              "    </tr>\n",
              "    <tr>\n",
              "      <th>eXistenZ (1999)</th>\n",
              "      <td>3.103448</td>\n",
              "    </tr>\n",
              "  </tbody>\n",
              "</table>\n",
              "<p>3370 rows × 1 columns</p>\n",
              "</div>"
            ],
            "text/plain": [
              "                                     rating\n",
              "                                       mean\n",
              "title                                      \n",
              "$1,000,000 Duck (1971)             2.750000\n",
              "'Night Mother (1986)               3.750000\n",
              "'Til There Was You (1997)          2.600000\n",
              "'burbs, The (1989)                 3.100000\n",
              "...And Justice for All (1979)      3.674419\n",
              "...                                     ...\n",
              "Your Friends and Neighbors (1998)  3.500000\n",
              "Zachariah (1971)                   5.000000\n",
              "Zed & Two Noughts, A (1985)        3.000000\n",
              "Zero Effect (1998)                 3.769231\n",
              "eXistenZ (1999)                    3.103448\n",
              "\n",
              "[3370 rows x 1 columns]"
            ]
          },
          "metadata": {
            "tags": []
          },
          "execution_count": 71
        }
      ]
    },
    {
      "cell_type": "markdown",
      "metadata": {
        "id": "0JpSWqz45lyK",
        "colab_type": "text"
      },
      "source": [
        "Showing only 50 movies for clarity. The data plotted gives us an idea about which movies old people favour against the ones they do not."
      ]
    },
    {
      "cell_type": "code",
      "metadata": {
        "id": "a-eS-olBwf_9",
        "colab_type": "code",
        "outputId": "21594733-ff41-439c-aa05-e428139ecc5c",
        "colab": {
          "base_uri": "https://localhost:8080/",
          "height": 893
        }
      },
      "source": [
        "top_movies = by_old_age.sort_values(by='title')[:50]\n",
        "top_movies.plot(kind='barh', figsize=[9, 15])\n",
        "plt.title('Average Ratings for Users above 45 years of age')\n",
        "plt.ylabel('Title')\n",
        "plt.xlabel('Mean Rating');"
      ],
      "execution_count": 0,
      "outputs": [
        {
          "output_type": "display_data",
          "data": {
            "image/png": "[encoded data removed]",
            "text/plain": [
              "<Figure size 648x1080 with 1 Axes>"
            ]
          },
          "metadata": {
            "tags": []
          }
        }
      ]
    },
    {
      "cell_type": "markdown",
      "metadata": {
        "id": "1qlBd4yK9LL9",
        "colab_type": "text"
      },
      "source": [
        "Let us see the aggregate trends for younger people."
      ]
    },
    {
      "cell_type": "code",
      "metadata": {
        "id": "4xP5syHm9RTz",
        "colab_type": "code",
        "outputId": "dd1686c5-32f9-4415-edfd-23860cc52eff",
        "colab": {
          "base_uri": "https://localhost:8080/",
          "height": 481
        }
      },
      "source": [
        "young_mean_rating = data[data['age_group']=='Under 18'].groupby('title').agg({'rating': [np.mean]})\n",
        "young_mean_rating"
      ],
      "execution_count": 0,
      "outputs": [
        {
          "output_type": "execute_result",
          "data": {
            "text/html": [
              "<div>\n",
              "<style scoped>\n",
              "    .dataframe tbody tr th:only-of-type {\n",
              "        vertical-align: middle;\n",
              "    }\n",
              "\n",
              "    .dataframe tbody tr th {\n",
              "        vertical-align: top;\n",
              "    }\n",
              "\n",
              "    .dataframe thead tr th {\n",
              "        text-align: left;\n",
              "    }\n",
              "\n",
              "    .dataframe thead tr:last-of-type th {\n",
              "        text-align: right;\n",
              "    }\n",
              "</style>\n",
              "<table border=\"1\" class=\"dataframe\">\n",
              "  <thead>\n",
              "    <tr>\n",
              "      <th></th>\n",
              "      <th>rating</th>\n",
              "    </tr>\n",
              "    <tr>\n",
              "      <th></th>\n",
              "      <th>mean</th>\n",
              "    </tr>\n",
              "    <tr>\n",
              "      <th>title</th>\n",
              "      <th></th>\n",
              "    </tr>\n",
              "  </thead>\n",
              "  <tbody>\n",
              "    <tr>\n",
              "      <th>$1,000,000 Duck (1971)</th>\n",
              "      <td>3.000000</td>\n",
              "    </tr>\n",
              "    <tr>\n",
              "      <th>'Night Mother (1986)</th>\n",
              "      <td>3.600000</td>\n",
              "    </tr>\n",
              "    <tr>\n",
              "      <th>'Til There Was You (1997)</th>\n",
              "      <td>2.700000</td>\n",
              "    </tr>\n",
              "    <tr>\n",
              "      <th>'burbs, The (1989)</th>\n",
              "      <td>3.271739</td>\n",
              "    </tr>\n",
              "    <tr>\n",
              "      <th>...And Justice for All (1979)</th>\n",
              "      <td>3.375000</td>\n",
              "    </tr>\n",
              "    <tr>\n",
              "      <th>...</th>\n",
              "      <td>...</td>\n",
              "    </tr>\n",
              "    <tr>\n",
              "      <th>Your Friends and Neighbors (1998)</th>\n",
              "      <td>3.558824</td>\n",
              "    </tr>\n",
              "    <tr>\n",
              "      <th>Zed &amp; Two Noughts, A (1985)</th>\n",
              "      <td>2.000000</td>\n",
              "    </tr>\n",
              "    <tr>\n",
              "      <th>Zero Effect (1998)</th>\n",
              "      <td>3.911765</td>\n",
              "    </tr>\n",
              "    <tr>\n",
              "      <th>Zeus and Roxanne (1997)</th>\n",
              "      <td>1.900000</td>\n",
              "    </tr>\n",
              "    <tr>\n",
              "      <th>eXistenZ (1999)</th>\n",
              "      <td>3.268041</td>\n",
              "    </tr>\n",
              "  </tbody>\n",
              "</table>\n",
              "<p>3429 rows × 1 columns</p>\n",
              "</div>"
            ],
            "text/plain": [
              "                                     rating\n",
              "                                       mean\n",
              "title                                      \n",
              "$1,000,000 Duck (1971)             3.000000\n",
              "'Night Mother (1986)               3.600000\n",
              "'Til There Was You (1997)          2.700000\n",
              "'burbs, The (1989)                 3.271739\n",
              "...And Justice for All (1979)      3.375000\n",
              "...                                     ...\n",
              "Your Friends and Neighbors (1998)  3.558824\n",
              "Zed & Two Noughts, A (1985)        2.000000\n",
              "Zero Effect (1998)                 3.911765\n",
              "Zeus and Roxanne (1997)            1.900000\n",
              "eXistenZ (1999)                    3.268041\n",
              "\n",
              "[3429 rows x 1 columns]"
            ]
          },
          "metadata": {
            "tags": []
          },
          "execution_count": 70
        }
      ]
    },
    {
      "cell_type": "markdown",
      "metadata": {
        "id": "xJFd5E6h92hJ",
        "colab_type": "text"
      },
      "source": [
        "The graph looks like this for the first 5 movie alphabetically.\n",
        "\n"
      ]
    },
    {
      "cell_type": "code",
      "metadata": {
        "id": "_2Z2rzuh91t3",
        "colab_type": "code",
        "outputId": "658f609f-d736-49c9-f8b6-1d7086ca7534",
        "colab": {
          "base_uri": "https://localhost:8080/",
          "height": 893
        }
      },
      "source": [
        "top_movies = young_mean_rating.sort_values(by='title')[:5]\n",
        "top_movies.plot(kind='line', figsize=[9, 15])\n",
        "plt.title('Average Ratings for Users under years of age')\n",
        "plt.xlabel('Title')\n",
        "plt.ylabel('Mean Rating');"
      ],
      "execution_count": 0,
      "outputs": [
        {
          "output_type": "display_data",
          "data": {
            "image/png": "[encoded data removed]",
            "text/plain": [
              "<Figure size 648x1080 with 1 Axes>"
            ]
          },
          "metadata": {
            "tags": []
          }
        }
      ]
    }
  ]
}