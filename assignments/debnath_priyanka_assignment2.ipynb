{
  "nbformat": 4,
  "nbformat_minor": 0,
  "metadata": {
    "colab": {
      "name": "debnath_priyanka_assignment2.ipynb",
      "provenance": [],
      "collapsed_sections": []
    },
    "kernelspec": {
      "name": "python3",
      "display_name": "Python 3"
    },
    "accelerator": "GPU"
  },
  "cells": [
    {
      "cell_type": "markdown",
      "metadata": {
        "id": "5fEh5-_yeBGC",
        "colab_type": "text"
      },
      "source": [
        "#1. IRIS Dataset"
      ]
    },
    {
      "cell_type": "markdown",
      "metadata": {
        "id": "80g6PrPofUUS",
        "colab_type": "text"
      },
      "source": [
        "#### Using your own module of choice (we recommend pandas), download the Iris flower dataset available HERE (http://archive.ics.uci.edu/ml/machine-learning-databases/iris/iris.data) into a DataFrame. For more details about the dataset and to obtain the feature names, check this link(http://archive.ics.uci.edu/ml/datasets/Iris). It is always recommended that you familiarize yourself with the data you intend to use for data mining purposes. The Iris dataset, in particular, has a rich history, having been introduced in 1936 by Sir Ronald Fisher, often considered one of the fathers of modern statistical theory."
      ]
    },
    {
      "cell_type": "markdown",
      "metadata": {
        "colab_type": "text",
        "id": "cG3U6tckgjyC"
      },
      "source": [
        "Lets load the Iris Dataset:"
      ]
    },
    {
      "cell_type": "code",
      "metadata": {
        "id": "0rMmxGu3gJ-r",
        "colab_type": "code",
        "colab": {}
      },
      "source": [
        "import pandas as pd\n",
        "pd.set_option('display.max_rows', 200)\n",
        "fileURL = \"http://archive.ics.uci.edu/ml/machine-learning-databases/iris/iris.data\"\n",
        "iris_df = pd.read_csv(fileURL, names=[\"Sepal Length\", \"Sepal Width\",\n",
        "\"Petal Length\", \"Petal Width\", \"Name\"], header=None)"
      ],
      "execution_count": 0,
      "outputs": []
    },
    {
      "cell_type": "markdown",
      "metadata": {
        "id": "dPDhvdYON5hH",
        "colab_type": "text"
      },
      "source": [
        "and see how the data looks."
      ]
    },
    {
      "cell_type": "code",
      "metadata": {
        "id": "HxEk0cVqa4La",
        "colab_type": "code",
        "outputId": "d3c9d9db-2e66-4936-b5b6-f352ad08aa8e",
        "colab": {
          "base_uri": "https://localhost:8080/",
          "height": 80
        }
      },
      "source": [
        "iris_df.head(1)"
      ],
      "execution_count": 57,
      "outputs": [
        {
          "output_type": "execute_result",
          "data": {
            "text/html": [
              "<div>\n",
              "<style scoped>\n",
              "    .dataframe tbody tr th:only-of-type {\n",
              "        vertical-align: middle;\n",
              "    }\n",
              "\n",
              "    .dataframe tbody tr th {\n",
              "        vertical-align: top;\n",
              "    }\n",
              "\n",
              "    .dataframe thead th {\n",
              "        text-align: right;\n",
              "    }\n",
              "</style>\n",
              "<table border=\"1\" class=\"dataframe\">\n",
              "  <thead>\n",
              "    <tr style=\"text-align: right;\">\n",
              "      <th></th>\n",
              "      <th>Sepal Length</th>\n",
              "      <th>Sepal Width</th>\n",
              "      <th>Petal Length</th>\n",
              "      <th>Petal Width</th>\n",
              "      <th>Name</th>\n",
              "    </tr>\n",
              "  </thead>\n",
              "  <tbody>\n",
              "    <tr>\n",
              "      <th>0</th>\n",
              "      <td>5.1</td>\n",
              "      <td>3.5</td>\n",
              "      <td>1.4</td>\n",
              "      <td>0.2</td>\n",
              "      <td>Iris-setosa</td>\n",
              "    </tr>\n",
              "  </tbody>\n",
              "</table>\n",
              "</div>"
            ],
            "text/plain": [
              "   Sepal Length  Sepal Width  Petal Length  Petal Width         Name\n",
              "0           5.1          3.5           1.4          0.2  Iris-setosa"
            ]
          },
          "metadata": {
            "tags": []
          },
          "execution_count": 57
        }
      ]
    },
    {
      "cell_type": "markdown",
      "metadata": {
        "id": "9E90jobOOF4Z",
        "colab_type": "text"
      },
      "source": [
        "## 1.1 Summary Statistics"
      ]
    },
    {
      "cell_type": "markdown",
      "metadata": {
        "id": "ClyD8SsEOHXd",
        "colab_type": "text"
      },
      "source": [
        "###Print the first 5 elements of your DataFrame using the command head(). "
      ]
    },
    {
      "cell_type": "code",
      "metadata": {
        "id": "dSOULUozOFZ3",
        "colab_type": "code",
        "outputId": "462ac5a2-38ab-4862-c50c-6b7532c46a4f",
        "colab": {
          "base_uri": "https://localhost:8080/",
          "height": 204
        }
      },
      "source": [
        "iris_df.head(5)"
      ],
      "execution_count": 58,
      "outputs": [
        {
          "output_type": "execute_result",
          "data": {
            "text/html": [
              "<div>\n",
              "<style scoped>\n",
              "    .dataframe tbody tr th:only-of-type {\n",
              "        vertical-align: middle;\n",
              "    }\n",
              "\n",
              "    .dataframe tbody tr th {\n",
              "        vertical-align: top;\n",
              "    }\n",
              "\n",
              "    .dataframe thead th {\n",
              "        text-align: right;\n",
              "    }\n",
              "</style>\n",
              "<table border=\"1\" class=\"dataframe\">\n",
              "  <thead>\n",
              "    <tr style=\"text-align: right;\">\n",
              "      <th></th>\n",
              "      <th>Sepal Length</th>\n",
              "      <th>Sepal Width</th>\n",
              "      <th>Petal Length</th>\n",
              "      <th>Petal Width</th>\n",
              "      <th>Name</th>\n",
              "    </tr>\n",
              "  </thead>\n",
              "  <tbody>\n",
              "    <tr>\n",
              "      <th>0</th>\n",
              "      <td>5.1</td>\n",
              "      <td>3.5</td>\n",
              "      <td>1.4</td>\n",
              "      <td>0.2</td>\n",
              "      <td>Iris-setosa</td>\n",
              "    </tr>\n",
              "    <tr>\n",
              "      <th>1</th>\n",
              "      <td>4.9</td>\n",
              "      <td>3.0</td>\n",
              "      <td>1.4</td>\n",
              "      <td>0.2</td>\n",
              "      <td>Iris-setosa</td>\n",
              "    </tr>\n",
              "    <tr>\n",
              "      <th>2</th>\n",
              "      <td>4.7</td>\n",
              "      <td>3.2</td>\n",
              "      <td>1.3</td>\n",
              "      <td>0.2</td>\n",
              "      <td>Iris-setosa</td>\n",
              "    </tr>\n",
              "    <tr>\n",
              "      <th>3</th>\n",
              "      <td>4.6</td>\n",
              "      <td>3.1</td>\n",
              "      <td>1.5</td>\n",
              "      <td>0.2</td>\n",
              "      <td>Iris-setosa</td>\n",
              "    </tr>\n",
              "    <tr>\n",
              "      <th>4</th>\n",
              "      <td>5.0</td>\n",
              "      <td>3.6</td>\n",
              "      <td>1.4</td>\n",
              "      <td>0.2</td>\n",
              "      <td>Iris-setosa</td>\n",
              "    </tr>\n",
              "  </tbody>\n",
              "</table>\n",
              "</div>"
            ],
            "text/plain": [
              "   Sepal Length  Sepal Width  Petal Length  Petal Width         Name\n",
              "0           5.1          3.5           1.4          0.2  Iris-setosa\n",
              "1           4.9          3.0           1.4          0.2  Iris-setosa\n",
              "2           4.7          3.2           1.3          0.2  Iris-setosa\n",
              "3           4.6          3.1           1.5          0.2  Iris-setosa\n",
              "4           5.0          3.6           1.4          0.2  Iris-setosa"
            ]
          },
          "metadata": {
            "tags": []
          },
          "execution_count": 58
        }
      ]
    },
    {
      "cell_type": "markdown",
      "metadata": {
        "id": "fxZzjL4lO5lO",
        "colab_type": "text"
      },
      "source": [
        "###How many features are there and what are their types (e.g., numeric, nominal)?"
      ]
    },
    {
      "cell_type": "markdown",
      "metadata": {
        "id": "AIHkPiBPPcWP",
        "colab_type": "text"
      },
      "source": [
        "The number of features in the dataframe would be the number of columns."
      ]
    },
    {
      "cell_type": "code",
      "metadata": {
        "id": "6BjVAtMUO4n8",
        "colab_type": "code",
        "outputId": "4282209d-dc0f-4395-9354-70d4901e54a9",
        "colab": {
          "base_uri": "https://localhost:8080/",
          "height": 34
        }
      },
      "source": [
        "len(iris_df.columns)"
      ],
      "execution_count": 59,
      "outputs": [
        {
          "output_type": "execute_result",
          "data": {
            "text/plain": [
              "5"
            ]
          },
          "metadata": {
            "tags": []
          },
          "execution_count": 59
        }
      ]
    },
    {
      "cell_type": "markdown",
      "metadata": {
        "id": "ORM1pl4qPihu",
        "colab_type": "text"
      },
      "source": [
        "And there types would be the datatypes of the columns."
      ]
    },
    {
      "cell_type": "code",
      "metadata": {
        "id": "QsvjQJ8hPmcf",
        "colab_type": "code",
        "outputId": "d0f5a435-2203-4fc9-8c7e-4be05076386f",
        "colab": {
          "base_uri": "https://localhost:8080/",
          "height": 119
        }
      },
      "source": [
        "iris_df.dtypes"
      ],
      "execution_count": 60,
      "outputs": [
        {
          "output_type": "execute_result",
          "data": {
            "text/plain": [
              "Sepal Length    float64\n",
              "Sepal Width     float64\n",
              "Petal Length    float64\n",
              "Petal Width     float64\n",
              "Name             object\n",
              "dtype: object"
            ]
          },
          "metadata": {
            "tags": []
          },
          "execution_count": 60
        }
      ]
    },
    {
      "cell_type": "markdown",
      "metadata": {
        "id": "HuetNPh6g1eQ",
        "colab_type": "text"
      },
      "source": [
        "###Compute and display summary statistics for each feature available in the dataset. These must include the minimum value, maximum value, mean, range, standard deviation, variance, count, and 25:50:75% percentiles."
      ]
    },
    {
      "cell_type": "code",
      "metadata": {
        "id": "7YfPf4JBQWim",
        "colab_type": "code",
        "outputId": "0d337557-3818-4fcf-d04f-b084baa6fa55",
        "colab": {
          "base_uri": "https://localhost:8080/",
          "height": 390
        }
      },
      "source": [
        "iris_df.describe(include = 'all')"
      ],
      "execution_count": 61,
      "outputs": [
        {
          "output_type": "execute_result",
          "data": {
            "text/html": [
              "<div>\n",
              "<style scoped>\n",
              "    .dataframe tbody tr th:only-of-type {\n",
              "        vertical-align: middle;\n",
              "    }\n",
              "\n",
              "    .dataframe tbody tr th {\n",
              "        vertical-align: top;\n",
              "    }\n",
              "\n",
              "    .dataframe thead th {\n",
              "        text-align: right;\n",
              "    }\n",
              "</style>\n",
              "<table border=\"1\" class=\"dataframe\">\n",
              "  <thead>\n",
              "    <tr style=\"text-align: right;\">\n",
              "      <th></th>\n",
              "      <th>Sepal Length</th>\n",
              "      <th>Sepal Width</th>\n",
              "      <th>Petal Length</th>\n",
              "      <th>Petal Width</th>\n",
              "      <th>Name</th>\n",
              "    </tr>\n",
              "  </thead>\n",
              "  <tbody>\n",
              "    <tr>\n",
              "      <th>count</th>\n",
              "      <td>150.000000</td>\n",
              "      <td>150.000000</td>\n",
              "      <td>150.000000</td>\n",
              "      <td>150.000000</td>\n",
              "      <td>150</td>\n",
              "    </tr>\n",
              "    <tr>\n",
              "      <th>unique</th>\n",
              "      <td>NaN</td>\n",
              "      <td>NaN</td>\n",
              "      <td>NaN</td>\n",
              "      <td>NaN</td>\n",
              "      <td>3</td>\n",
              "    </tr>\n",
              "    <tr>\n",
              "      <th>top</th>\n",
              "      <td>NaN</td>\n",
              "      <td>NaN</td>\n",
              "      <td>NaN</td>\n",
              "      <td>NaN</td>\n",
              "      <td>Iris-setosa</td>\n",
              "    </tr>\n",
              "    <tr>\n",
              "      <th>freq</th>\n",
              "      <td>NaN</td>\n",
              "      <td>NaN</td>\n",
              "      <td>NaN</td>\n",
              "      <td>NaN</td>\n",
              "      <td>50</td>\n",
              "    </tr>\n",
              "    <tr>\n",
              "      <th>mean</th>\n",
              "      <td>5.843333</td>\n",
              "      <td>3.054000</td>\n",
              "      <td>3.758667</td>\n",
              "      <td>1.198667</td>\n",
              "      <td>NaN</td>\n",
              "    </tr>\n",
              "    <tr>\n",
              "      <th>std</th>\n",
              "      <td>0.828066</td>\n",
              "      <td>0.433594</td>\n",
              "      <td>1.764420</td>\n",
              "      <td>0.763161</td>\n",
              "      <td>NaN</td>\n",
              "    </tr>\n",
              "    <tr>\n",
              "      <th>min</th>\n",
              "      <td>4.300000</td>\n",
              "      <td>2.000000</td>\n",
              "      <td>1.000000</td>\n",
              "      <td>0.100000</td>\n",
              "      <td>NaN</td>\n",
              "    </tr>\n",
              "    <tr>\n",
              "      <th>25%</th>\n",
              "      <td>5.100000</td>\n",
              "      <td>2.800000</td>\n",
              "      <td>1.600000</td>\n",
              "      <td>0.300000</td>\n",
              "      <td>NaN</td>\n",
              "    </tr>\n",
              "    <tr>\n",
              "      <th>50%</th>\n",
              "      <td>5.800000</td>\n",
              "      <td>3.000000</td>\n",
              "      <td>4.350000</td>\n",
              "      <td>1.300000</td>\n",
              "      <td>NaN</td>\n",
              "    </tr>\n",
              "    <tr>\n",
              "      <th>75%</th>\n",
              "      <td>6.400000</td>\n",
              "      <td>3.300000</td>\n",
              "      <td>5.100000</td>\n",
              "      <td>1.800000</td>\n",
              "      <td>NaN</td>\n",
              "    </tr>\n",
              "    <tr>\n",
              "      <th>max</th>\n",
              "      <td>7.900000</td>\n",
              "      <td>4.400000</td>\n",
              "      <td>6.900000</td>\n",
              "      <td>2.500000</td>\n",
              "      <td>NaN</td>\n",
              "    </tr>\n",
              "  </tbody>\n",
              "</table>\n",
              "</div>"
            ],
            "text/plain": [
              "        Sepal Length  Sepal Width  Petal Length  Petal Width         Name\n",
              "count     150.000000   150.000000    150.000000   150.000000          150\n",
              "unique           NaN          NaN           NaN          NaN            3\n",
              "top              NaN          NaN           NaN          NaN  Iris-setosa\n",
              "freq             NaN          NaN           NaN          NaN           50\n",
              "mean        5.843333     3.054000      3.758667     1.198667          NaN\n",
              "std         0.828066     0.433594      1.764420     0.763161          NaN\n",
              "min         4.300000     2.000000      1.000000     0.100000          NaN\n",
              "25%         5.100000     2.800000      1.600000     0.300000          NaN\n",
              "50%         5.800000     3.000000      4.350000     1.300000          NaN\n",
              "75%         6.400000     3.300000      5.100000     1.800000          NaN\n",
              "max         7.900000     4.400000      6.900000     2.500000          NaN"
            ]
          },
          "metadata": {
            "tags": []
          },
          "execution_count": 61
        }
      ]
    },
    {
      "cell_type": "markdown",
      "metadata": {
        "id": "E3kKDfvPgbVg",
        "colab_type": "text"
      },
      "source": [
        "for variance, we do:"
      ]
    },
    {
      "cell_type": "code",
      "metadata": {
        "id": "K3Kfx3LzgdN3",
        "colab_type": "code",
        "colab": {
          "base_uri": "https://localhost:8080/",
          "height": 102
        },
        "outputId": "178f1473-e781-4f68-9eed-74787c29dd9b"
      },
      "source": [
        "iris_df.var()"
      ],
      "execution_count": 62,
      "outputs": [
        {
          "output_type": "execute_result",
          "data": {
            "text/plain": [
              "Sepal Length    0.685694\n",
              "Sepal Width     0.188004\n",
              "Petal Length    3.113179\n",
              "Petal Width     0.582414\n",
              "dtype: float64"
            ]
          },
          "metadata": {
            "tags": []
          },
          "execution_count": 62
        }
      ]
    },
    {
      "cell_type": "markdown",
      "metadata": {
        "id": "k0jLNGzFV-ca",
        "colab_type": "text"
      },
      "source": [
        "## 1.2 Data Visualization"
      ]
    },
    {
      "cell_type": "markdown",
      "metadata": {
        "id": "zCDLQOZoWK8n",
        "colab_type": "text"
      },
      "source": [
        "###**Histograms**: To illustrate the feature distributions, create a histogram for each feature in the dataset. You may plot each histogram individually or combine them all into a single plot. When generating histograms for this assignment, use the default number of bins. Recall that a histogram provides a graphical representation of the distribution of the data."
      ]
    },
    {
      "cell_type": "code",
      "metadata": {
        "id": "R-cbjY9gWVTF",
        "colab_type": "code",
        "outputId": "69b3ef5d-5223-4b9d-a718-a8b8d994cd48",
        "colab": {
          "base_uri": "https://localhost:8080/",
          "height": 390
        }
      },
      "source": [
        "iris_df_hist = iris_df.hist(color='g',alpha=0.4, figsize=(10,6))"
      ],
      "execution_count": 64,
      "outputs": [
        {
          "output_type": "display_data",
          "data": {
            "image/png": "[encoded data removed]",
            "text/plain": [
              "<Figure size 720x432 with 4 Axes>"
            ]
          },
          "metadata": {
            "tags": []
          }
        }
      ]
    },
    {
      "cell_type": "markdown",
      "metadata": {
        "id": "Q9z3u4WsaUbz",
        "colab_type": "text"
      },
      "source": [
        "###**Box Plots**: To further assess the data, create a boxplot for each feature in the dataset. All of the boxplots will be combined into a single plot. Recall that a boxplot provides a graphical representation of the location and variation of the data through their quartiles; they are especially useful for comparing distributions and identifying outliers."
      ]
    },
    {
      "cell_type": "code",
      "metadata": {
        "id": "iSbWtVfkadA6",
        "colab_type": "code",
        "outputId": "42a9ac76-0114-4670-86dd-99e583c86840",
        "colab": {
          "base_uri": "https://localhost:8080/",
          "height": 265
        }
      },
      "source": [
        "iris_df_box = iris_df.boxplot(grid=False, return_type='both')"
      ],
      "execution_count": 65,
      "outputs": [
        {
          "output_type": "display_data",
          "data": {
            "image/png": "[encoded data removed]",
            "text/plain": [
              "<Figure size 432x288 with 1 Axes>"
            ]
          },
          "metadata": {
            "tags": []
          }
        }
      ]
    },
    {
      "cell_type": "markdown",
      "metadata": {
        "id": "6St9xjO3cjPG",
        "colab_type": "text"
      },
      "source": [
        "#2. Pen-Based Handwritten Digits Dataset"
      ]
    },
    {
      "cell_type": "markdown",
      "metadata": {
        "id": "K4aj9RCwcv_H",
        "colab_type": "text"
      },
      "source": [
        "#### Repeat the same process described in Part 1, but this time load THIS DATASET(http://archive.ics.uci.edu/ml/machinelearning-databases/pendigits/pendigits.tra). Note that the Digits Dataset is much larger than the Iris dataset, both with respect to the number of instances and the number of features. A description of this dataset can be found here(http://archive.ics.uci.edu/ml/datasets/PenBased+Recognition+of+Handwritten+Digits)."
      ]
    },
    {
      "cell_type": "markdown",
      "metadata": {
        "id": "U9-bFg3zc3zd",
        "colab_type": "text"
      },
      "source": [
        "Lets first fetch the data from the dataset:"
      ]
    },
    {
      "cell_type": "code",
      "metadata": {
        "id": "krDZ5C31c84C",
        "colab_type": "code",
        "colab": {}
      },
      "source": [
        "file2URL = \"http://archive.ics.uci.edu/ml/machine-learning-databases/pendigits/pendigits.tra\"\n",
        "cols = [\"1\", \"2\", \"3\", \"4\", \"5\", \"6\", \"7\", \"8\", \"9\", \"10\", \"11\", \"12\", \"13\", \"14\", \"15\", \"16\", \"17\"]\n",
        "pen_df = pd.read_csv(file2URL, names=cols, header=None)"
      ],
      "execution_count": 0,
      "outputs": []
    },
    {
      "cell_type": "markdown",
      "metadata": {
        "id": "Rj2bZpiLfvcN",
        "colab_type": "text"
      },
      "source": [
        "and have a look at the data."
      ]
    },
    {
      "cell_type": "code",
      "metadata": {
        "id": "sSkoOPpNftTx",
        "colab_type": "code",
        "colab": {
          "base_uri": "https://localhost:8080/",
          "height": 80
        },
        "outputId": "9042c145-8fff-4092-f96e-adb83ce8a1d3"
      },
      "source": [
        "pen_df.head(1)"
      ],
      "execution_count": 67,
      "outputs": [
        {
          "output_type": "execute_result",
          "data": {
            "text/html": [
              "<div>\n",
              "<style scoped>\n",
              "    .dataframe tbody tr th:only-of-type {\n",
              "        vertical-align: middle;\n",
              "    }\n",
              "\n",
              "    .dataframe tbody tr th {\n",
              "        vertical-align: top;\n",
              "    }\n",
              "\n",
              "    .dataframe thead th {\n",
              "        text-align: right;\n",
              "    }\n",
              "</style>\n",
              "<table border=\"1\" class=\"dataframe\">\n",
              "  <thead>\n",
              "    <tr style=\"text-align: right;\">\n",
              "      <th></th>\n",
              "      <th>1</th>\n",
              "      <th>2</th>\n",
              "      <th>3</th>\n",
              "      <th>4</th>\n",
              "      <th>5</th>\n",
              "      <th>6</th>\n",
              "      <th>7</th>\n",
              "      <th>8</th>\n",
              "      <th>9</th>\n",
              "      <th>10</th>\n",
              "      <th>11</th>\n",
              "      <th>12</th>\n",
              "      <th>13</th>\n",
              "      <th>14</th>\n",
              "      <th>15</th>\n",
              "      <th>16</th>\n",
              "      <th>17</th>\n",
              "    </tr>\n",
              "  </thead>\n",
              "  <tbody>\n",
              "    <tr>\n",
              "      <th>0</th>\n",
              "      <td>47</td>\n",
              "      <td>100</td>\n",
              "      <td>27</td>\n",
              "      <td>81</td>\n",
              "      <td>57</td>\n",
              "      <td>37</td>\n",
              "      <td>26</td>\n",
              "      <td>0</td>\n",
              "      <td>0</td>\n",
              "      <td>23</td>\n",
              "      <td>56</td>\n",
              "      <td>53</td>\n",
              "      <td>100</td>\n",
              "      <td>90</td>\n",
              "      <td>40</td>\n",
              "      <td>98</td>\n",
              "      <td>8</td>\n",
              "    </tr>\n",
              "  </tbody>\n",
              "</table>\n",
              "</div>"
            ],
            "text/plain": [
              "    1    2   3   4   5   6   7  8  9  10  11  12   13  14  15  16  17\n",
              "0  47  100  27  81  57  37  26  0  0  23  56  53  100  90  40  98   8"
            ]
          },
          "metadata": {
            "tags": []
          },
          "execution_count": 67
        }
      ]
    },
    {
      "cell_type": "markdown",
      "metadata": {
        "colab_type": "text",
        "id": "eiovi3cBg0r6"
      },
      "source": [
        "## 2.1 Summary Statistics"
      ]
    },
    {
      "cell_type": "markdown",
      "metadata": {
        "colab_type": "text",
        "id": "yzSXg8kPg0r_"
      },
      "source": [
        "###Print the first 5 elements of your DataFrame using the command head(). "
      ]
    },
    {
      "cell_type": "code",
      "metadata": {
        "colab_type": "code",
        "outputId": "faa6e993-bcbd-49f2-c1e9-2986eceeacc9",
        "id": "wSRe3Tlug0sA",
        "colab": {
          "base_uri": "https://localhost:8080/",
          "height": 204
        }
      },
      "source": [
        "pen_df.head(5)"
      ],
      "execution_count": 68,
      "outputs": [
        {
          "output_type": "execute_result",
          "data": {
            "text/html": [
              "<div>\n",
              "<style scoped>\n",
              "    .dataframe tbody tr th:only-of-type {\n",
              "        vertical-align: middle;\n",
              "    }\n",
              "\n",
              "    .dataframe tbody tr th {\n",
              "        vertical-align: top;\n",
              "    }\n",
              "\n",
              "    .dataframe thead th {\n",
              "        text-align: right;\n",
              "    }\n",
              "</style>\n",
              "<table border=\"1\" class=\"dataframe\">\n",
              "  <thead>\n",
              "    <tr style=\"text-align: right;\">\n",
              "      <th></th>\n",
              "      <th>1</th>\n",
              "      <th>2</th>\n",
              "      <th>3</th>\n",
              "      <th>4</th>\n",
              "      <th>5</th>\n",
              "      <th>6</th>\n",
              "      <th>7</th>\n",
              "      <th>8</th>\n",
              "      <th>9</th>\n",
              "      <th>10</th>\n",
              "      <th>11</th>\n",
              "      <th>12</th>\n",
              "      <th>13</th>\n",
              "      <th>14</th>\n",
              "      <th>15</th>\n",
              "      <th>16</th>\n",
              "      <th>17</th>\n",
              "    </tr>\n",
              "  </thead>\n",
              "  <tbody>\n",
              "    <tr>\n",
              "      <th>0</th>\n",
              "      <td>47</td>\n",
              "      <td>100</td>\n",
              "      <td>27</td>\n",
              "      <td>81</td>\n",
              "      <td>57</td>\n",
              "      <td>37</td>\n",
              "      <td>26</td>\n",
              "      <td>0</td>\n",
              "      <td>0</td>\n",
              "      <td>23</td>\n",
              "      <td>56</td>\n",
              "      <td>53</td>\n",
              "      <td>100</td>\n",
              "      <td>90</td>\n",
              "      <td>40</td>\n",
              "      <td>98</td>\n",
              "      <td>8</td>\n",
              "    </tr>\n",
              "    <tr>\n",
              "      <th>1</th>\n",
              "      <td>0</td>\n",
              "      <td>89</td>\n",
              "      <td>27</td>\n",
              "      <td>100</td>\n",
              "      <td>42</td>\n",
              "      <td>75</td>\n",
              "      <td>29</td>\n",
              "      <td>45</td>\n",
              "      <td>15</td>\n",
              "      <td>15</td>\n",
              "      <td>37</td>\n",
              "      <td>0</td>\n",
              "      <td>69</td>\n",
              "      <td>2</td>\n",
              "      <td>100</td>\n",
              "      <td>6</td>\n",
              "      <td>2</td>\n",
              "    </tr>\n",
              "    <tr>\n",
              "      <th>2</th>\n",
              "      <td>0</td>\n",
              "      <td>57</td>\n",
              "      <td>31</td>\n",
              "      <td>68</td>\n",
              "      <td>72</td>\n",
              "      <td>90</td>\n",
              "      <td>100</td>\n",
              "      <td>100</td>\n",
              "      <td>76</td>\n",
              "      <td>75</td>\n",
              "      <td>50</td>\n",
              "      <td>51</td>\n",
              "      <td>28</td>\n",
              "      <td>25</td>\n",
              "      <td>16</td>\n",
              "      <td>0</td>\n",
              "      <td>1</td>\n",
              "    </tr>\n",
              "    <tr>\n",
              "      <th>3</th>\n",
              "      <td>0</td>\n",
              "      <td>100</td>\n",
              "      <td>7</td>\n",
              "      <td>92</td>\n",
              "      <td>5</td>\n",
              "      <td>68</td>\n",
              "      <td>19</td>\n",
              "      <td>45</td>\n",
              "      <td>86</td>\n",
              "      <td>34</td>\n",
              "      <td>100</td>\n",
              "      <td>45</td>\n",
              "      <td>74</td>\n",
              "      <td>23</td>\n",
              "      <td>67</td>\n",
              "      <td>0</td>\n",
              "      <td>4</td>\n",
              "    </tr>\n",
              "    <tr>\n",
              "      <th>4</th>\n",
              "      <td>0</td>\n",
              "      <td>67</td>\n",
              "      <td>49</td>\n",
              "      <td>83</td>\n",
              "      <td>100</td>\n",
              "      <td>100</td>\n",
              "      <td>81</td>\n",
              "      <td>80</td>\n",
              "      <td>60</td>\n",
              "      <td>60</td>\n",
              "      <td>40</td>\n",
              "      <td>40</td>\n",
              "      <td>33</td>\n",
              "      <td>20</td>\n",
              "      <td>47</td>\n",
              "      <td>0</td>\n",
              "      <td>1</td>\n",
              "    </tr>\n",
              "  </tbody>\n",
              "</table>\n",
              "</div>"
            ],
            "text/plain": [
              "    1    2   3    4    5    6    7    8   9  10   11  12   13  14   15  16  17\n",
              "0  47  100  27   81   57   37   26    0   0  23   56  53  100  90   40  98   8\n",
              "1   0   89  27  100   42   75   29   45  15  15   37   0   69   2  100   6   2\n",
              "2   0   57  31   68   72   90  100  100  76  75   50  51   28  25   16   0   1\n",
              "3   0  100   7   92    5   68   19   45  86  34  100  45   74  23   67   0   4\n",
              "4   0   67  49   83  100  100   81   80  60  60   40  40   33  20   47   0   1"
            ]
          },
          "metadata": {
            "tags": []
          },
          "execution_count": 68
        }
      ]
    },
    {
      "cell_type": "markdown",
      "metadata": {
        "colab_type": "text",
        "id": "4x_gDGjsg0sE"
      },
      "source": [
        "###How many features are there and what are their types (e.g., numeric, nominal)?"
      ]
    },
    {
      "cell_type": "markdown",
      "metadata": {
        "colab_type": "text",
        "id": "q1450xnAg0sG"
      },
      "source": [
        "The number of features in the dataframe would be the number of columns."
      ]
    },
    {
      "cell_type": "code",
      "metadata": {
        "colab_type": "code",
        "outputId": "c21982bf-5426-48b1-f390-8ee7f549d259",
        "id": "Xnjnnw-ug0sI",
        "colab": {
          "base_uri": "https://localhost:8080/",
          "height": 34
        }
      },
      "source": [
        "len(pen_df.columns)"
      ],
      "execution_count": 69,
      "outputs": [
        {
          "output_type": "execute_result",
          "data": {
            "text/plain": [
              "17"
            ]
          },
          "metadata": {
            "tags": []
          },
          "execution_count": 69
        }
      ]
    },
    {
      "cell_type": "markdown",
      "metadata": {
        "colab_type": "text",
        "id": "kYmJojnSg0sL"
      },
      "source": [
        "And there types would be the datatypes of the columns."
      ]
    },
    {
      "cell_type": "code",
      "metadata": {
        "colab_type": "code",
        "outputId": "7eaddbb7-7bac-473e-8e8d-98cb20884738",
        "id": "fLxC7ZpCg0sM",
        "colab": {
          "base_uri": "https://localhost:8080/",
          "height": 323
        }
      },
      "source": [
        "pen_df.dtypes"
      ],
      "execution_count": 70,
      "outputs": [
        {
          "output_type": "execute_result",
          "data": {
            "text/plain": [
              "1     int64\n",
              "2     int64\n",
              "3     int64\n",
              "4     int64\n",
              "5     int64\n",
              "6     int64\n",
              "7     int64\n",
              "8     int64\n",
              "9     int64\n",
              "10    int64\n",
              "11    int64\n",
              "12    int64\n",
              "13    int64\n",
              "14    int64\n",
              "15    int64\n",
              "16    int64\n",
              "17    int64\n",
              "dtype: object"
            ]
          },
          "metadata": {
            "tags": []
          },
          "execution_count": 70
        }
      ]
    },
    {
      "cell_type": "markdown",
      "metadata": {
        "colab_type": "text",
        "id": "81e6rxDTg0sP"
      },
      "source": [
        "###Compute and display summary statistics for each feature available in the dataset. These must include the minimum value, maximum value, mean, range, standard deviation, variance, count, and 25:50:75% percentiles."
      ]
    },
    {
      "cell_type": "code",
      "metadata": {
        "colab_type": "code",
        "outputId": "c2bd50d0-c158-4033-d91b-6424eae9e089",
        "id": "k4RVSuCIg0sQ",
        "colab": {
          "base_uri": "https://localhost:8080/",
          "height": 317
        }
      },
      "source": [
        "pen_df.describe(include = 'all')"
      ],
      "execution_count": 71,
      "outputs": [
        {
          "output_type": "execute_result",
          "data": {
            "text/html": [
              "<div>\n",
              "<style scoped>\n",
              "    .dataframe tbody tr th:only-of-type {\n",
              "        vertical-align: middle;\n",
              "    }\n",
              "\n",
              "    .dataframe tbody tr th {\n",
              "        vertical-align: top;\n",
              "    }\n",
              "\n",
              "    .dataframe thead th {\n",
              "        text-align: right;\n",
              "    }\n",
              "</style>\n",
              "<table border=\"1\" class=\"dataframe\">\n",
              "  <thead>\n",
              "    <tr style=\"text-align: right;\">\n",
              "      <th></th>\n",
              "      <th>1</th>\n",
              "      <th>2</th>\n",
              "      <th>3</th>\n",
              "      <th>4</th>\n",
              "      <th>5</th>\n",
              "      <th>6</th>\n",
              "      <th>7</th>\n",
              "      <th>8</th>\n",
              "      <th>9</th>\n",
              "      <th>10</th>\n",
              "      <th>11</th>\n",
              "      <th>12</th>\n",
              "      <th>13</th>\n",
              "      <th>14</th>\n",
              "      <th>15</th>\n",
              "      <th>16</th>\n",
              "      <th>17</th>\n",
              "    </tr>\n",
              "  </thead>\n",
              "  <tbody>\n",
              "    <tr>\n",
              "      <th>count</th>\n",
              "      <td>7494.000000</td>\n",
              "      <td>7494.000000</td>\n",
              "      <td>7494.000000</td>\n",
              "      <td>7494.000000</td>\n",
              "      <td>7494.000000</td>\n",
              "      <td>7494.000000</td>\n",
              "      <td>7494.000000</td>\n",
              "      <td>7494.000000</td>\n",
              "      <td>7494.000000</td>\n",
              "      <td>7494.000000</td>\n",
              "      <td>7494.000000</td>\n",
              "      <td>7494.000000</td>\n",
              "      <td>7494.000000</td>\n",
              "      <td>7494.000000</td>\n",
              "      <td>7494.000000</td>\n",
              "      <td>7494.000000</td>\n",
              "      <td>7494.000000</td>\n",
              "    </tr>\n",
              "    <tr>\n",
              "      <th>mean</th>\n",
              "      <td>37.384307</td>\n",
              "      <td>84.679343</td>\n",
              "      <td>40.005604</td>\n",
              "      <td>82.889512</td>\n",
              "      <td>50.878303</td>\n",
              "      <td>65.044436</td>\n",
              "      <td>51.471844</td>\n",
              "      <td>44.599680</td>\n",
              "      <td>57.129971</td>\n",
              "      <td>34.069122</td>\n",
              "      <td>61.417401</td>\n",
              "      <td>35.782092</td>\n",
              "      <td>54.699760</td>\n",
              "      <td>35.800774</td>\n",
              "      <td>46.813718</td>\n",
              "      <td>28.565386</td>\n",
              "      <td>4.430878</td>\n",
              "    </tr>\n",
              "    <tr>\n",
              "      <th>std</th>\n",
              "      <td>33.322024</td>\n",
              "      <td>16.848420</td>\n",
              "      <td>26.256025</td>\n",
              "      <td>19.638582</td>\n",
              "      <td>34.927201</td>\n",
              "      <td>27.377341</td>\n",
              "      <td>30.680075</td>\n",
              "      <td>30.659478</td>\n",
              "      <td>33.680340</td>\n",
              "      <td>27.459989</td>\n",
              "      <td>37.130762</td>\n",
              "      <td>27.495836</td>\n",
              "      <td>22.599781</td>\n",
              "      <td>33.223611</td>\n",
              "      <td>41.531794</td>\n",
              "      <td>35.811094</td>\n",
              "      <td>2.876981</td>\n",
              "    </tr>\n",
              "    <tr>\n",
              "      <th>min</th>\n",
              "      <td>0.000000</td>\n",
              "      <td>0.000000</td>\n",
              "      <td>0.000000</td>\n",
              "      <td>0.000000</td>\n",
              "      <td>0.000000</td>\n",
              "      <td>0.000000</td>\n",
              "      <td>0.000000</td>\n",
              "      <td>0.000000</td>\n",
              "      <td>0.000000</td>\n",
              "      <td>0.000000</td>\n",
              "      <td>0.000000</td>\n",
              "      <td>0.000000</td>\n",
              "      <td>0.000000</td>\n",
              "      <td>0.000000</td>\n",
              "      <td>0.000000</td>\n",
              "      <td>0.000000</td>\n",
              "      <td>0.000000</td>\n",
              "    </tr>\n",
              "    <tr>\n",
              "      <th>25%</th>\n",
              "      <td>5.000000</td>\n",
              "      <td>76.000000</td>\n",
              "      <td>20.000000</td>\n",
              "      <td>70.000000</td>\n",
              "      <td>17.000000</td>\n",
              "      <td>48.000000</td>\n",
              "      <td>28.000000</td>\n",
              "      <td>22.000000</td>\n",
              "      <td>30.000000</td>\n",
              "      <td>7.000000</td>\n",
              "      <td>25.000000</td>\n",
              "      <td>12.000000</td>\n",
              "      <td>41.000000</td>\n",
              "      <td>7.000000</td>\n",
              "      <td>0.000000</td>\n",
              "      <td>0.000000</td>\n",
              "      <td>2.000000</td>\n",
              "    </tr>\n",
              "    <tr>\n",
              "      <th>50%</th>\n",
              "      <td>31.000000</td>\n",
              "      <td>89.000000</td>\n",
              "      <td>39.000000</td>\n",
              "      <td>89.000000</td>\n",
              "      <td>56.000000</td>\n",
              "      <td>71.000000</td>\n",
              "      <td>54.000000</td>\n",
              "      <td>42.000000</td>\n",
              "      <td>60.000000</td>\n",
              "      <td>33.000000</td>\n",
              "      <td>74.000000</td>\n",
              "      <td>32.000000</td>\n",
              "      <td>53.000000</td>\n",
              "      <td>28.000000</td>\n",
              "      <td>39.000000</td>\n",
              "      <td>8.000000</td>\n",
              "      <td>4.000000</td>\n",
              "    </tr>\n",
              "    <tr>\n",
              "      <th>75%</th>\n",
              "      <td>61.000000</td>\n",
              "      <td>100.000000</td>\n",
              "      <td>58.000000</td>\n",
              "      <td>100.000000</td>\n",
              "      <td>81.000000</td>\n",
              "      <td>86.000000</td>\n",
              "      <td>75.000000</td>\n",
              "      <td>65.000000</td>\n",
              "      <td>88.000000</td>\n",
              "      <td>55.000000</td>\n",
              "      <td>98.000000</td>\n",
              "      <td>57.000000</td>\n",
              "      <td>69.000000</td>\n",
              "      <td>48.000000</td>\n",
              "      <td>100.000000</td>\n",
              "      <td>51.000000</td>\n",
              "      <td>7.000000</td>\n",
              "    </tr>\n",
              "    <tr>\n",
              "      <th>max</th>\n",
              "      <td>100.000000</td>\n",
              "      <td>100.000000</td>\n",
              "      <td>100.000000</td>\n",
              "      <td>100.000000</td>\n",
              "      <td>100.000000</td>\n",
              "      <td>100.000000</td>\n",
              "      <td>100.000000</td>\n",
              "      <td>100.000000</td>\n",
              "      <td>100.000000</td>\n",
              "      <td>100.000000</td>\n",
              "      <td>100.000000</td>\n",
              "      <td>100.000000</td>\n",
              "      <td>100.000000</td>\n",
              "      <td>100.000000</td>\n",
              "      <td>100.000000</td>\n",
              "      <td>100.000000</td>\n",
              "      <td>9.000000</td>\n",
              "    </tr>\n",
              "  </tbody>\n",
              "</table>\n",
              "</div>"
            ],
            "text/plain": [
              "                 1            2  ...           16           17\n",
              "count  7494.000000  7494.000000  ...  7494.000000  7494.000000\n",
              "mean     37.384307    84.679343  ...    28.565386     4.430878\n",
              "std      33.322024    16.848420  ...    35.811094     2.876981\n",
              "min       0.000000     0.000000  ...     0.000000     0.000000\n",
              "25%       5.000000    76.000000  ...     0.000000     2.000000\n",
              "50%      31.000000    89.000000  ...     8.000000     4.000000\n",
              "75%      61.000000   100.000000  ...    51.000000     7.000000\n",
              "max     100.000000   100.000000  ...   100.000000     9.000000\n",
              "\n",
              "[8 rows x 17 columns]"
            ]
          },
          "metadata": {
            "tags": []
          },
          "execution_count": 71
        }
      ]
    },
    {
      "cell_type": "markdown",
      "metadata": {
        "colab_type": "text",
        "id": "lT8XxnLMg0sV"
      },
      "source": [
        "for variance, we do:"
      ]
    },
    {
      "cell_type": "code",
      "metadata": {
        "colab_type": "code",
        "outputId": "a4eecdd7-f71e-4958-f56d-0b0d65491708",
        "id": "3qFU15mIg0sW",
        "colab": {
          "base_uri": "https://localhost:8080/",
          "height": 323
        }
      },
      "source": [
        "pen_df.var()"
      ],
      "execution_count": 72,
      "outputs": [
        {
          "output_type": "execute_result",
          "data": {
            "text/plain": [
              "1     1110.357293\n",
              "2      283.869273\n",
              "3      689.378856\n",
              "4      385.673898\n",
              "5     1219.909384\n",
              "6      749.518778\n",
              "7      941.266990\n",
              "8      940.003609\n",
              "9     1134.365329\n",
              "10     754.051007\n",
              "11    1378.693497\n",
              "12     756.020974\n",
              "13     510.750095\n",
              "14    1103.808295\n",
              "15    1724.889891\n",
              "16    1282.434467\n",
              "17       8.277018\n",
              "dtype: float64"
            ]
          },
          "metadata": {
            "tags": []
          },
          "execution_count": 72
        }
      ]
    },
    {
      "cell_type": "markdown",
      "metadata": {
        "colab_type": "text",
        "id": "1fe5X_z6hTOi"
      },
      "source": [
        "## 2.2 Data Visualization"
      ]
    },
    {
      "cell_type": "markdown",
      "metadata": {
        "colab_type": "text",
        "id": "k5pn_gMChTOj"
      },
      "source": [
        "###**Histograms**: To illustrate the feature distributions, create a histogram for each feature in the dataset. You may plot each histogram individually or combine them all into a single plot. When generating histograms for this assignment, use the default number of bins. Recall that a histogram provides a graphical representation of the distribution of the data."
      ]
    },
    {
      "cell_type": "code",
      "metadata": {
        "colab_type": "code",
        "outputId": "a843c7d8-62cc-4fcb-ca69-92c8e279e442",
        "id": "sgHWdzUphTOl",
        "colab": {
          "base_uri": "https://localhost:8080/",
          "height": 716
        }
      },
      "source": [
        "pen_df_hist = pen_df.hist(color='b', alpha=0.3, figsize=(20,12))"
      ],
      "execution_count": 73,
      "outputs": [
        {
          "output_type": "display_data",
          "data": {
            "image/png": "[encoded data removed]",
            "text/plain": [
              "<Figure size 1440x864 with 20 Axes>"
            ]
          },
          "metadata": {
            "tags": []
          }
        }
      ]
    },
    {
      "cell_type": "markdown",
      "metadata": {
        "colab_type": "text",
        "id": "49M5XJmshTOo"
      },
      "source": [
        "###**Box Plots**: To further assess the data, create a boxplot for each feature in the dataset. All of the boxplots will be combined into a single plot. Recall that a boxplot provides a graphical representation of the location and variation of the data through their quartiles; they are especially useful for comparing distributions and identifying outliers."
      ]
    },
    {
      "cell_type": "code",
      "metadata": {
        "colab_type": "code",
        "outputId": "b797d362-cd8e-45ce-d59c-b2b44b948f1c",
        "id": "7AnKeBFYhTOp",
        "colab": {
          "base_uri": "https://localhost:8080/",
          "height": 483
        }
      },
      "source": [
        "pen_df_box = pen_df.boxplot(grid=False, return_type='both', figsize=(10,8))"
      ],
      "execution_count": 74,
      "outputs": [
        {
          "output_type": "display_data",
          "data": {
            "image/png": "[encoded data removed]",
            "text/plain": [
              "<Figure size 720x576 with 1 Axes>"
            ]
          },
          "metadata": {
            "tags": []
          }
        }
      ]
    },
    {
      "cell_type": "markdown",
      "metadata": {
        "id": "umB5V5uEinG7",
        "colab_type": "text"
      },
      "source": [
        "#3. Conceptual Questions"
      ]
    },
    {
      "cell_type": "markdown",
      "metadata": {
        "id": "FWExUr3iiala",
        "colab_type": "text"
      },
      "source": [
        "## 3.1 Consider the histograms you generated for the Iris dataset. How do the shapes of the histograms for petal length and petal width differ from those for sepal length and sepal width?\n",
        "\n",
        "## Now consider just the petal length histogram. Is there a particular value of petal length (which 2 ranges from 1.0 to 6.9) where the distribution of petal lengths (as illustrated by the histogram) could be best segmented into two parts?\n"
      ]
    },
    {
      "cell_type": "markdown",
      "metadata": {
        "id": "5KK8bkznjTCV",
        "colab_type": "text"
      },
      "source": [
        "###1. By comparative study of the histograms for both petals and sepals, we see  the plots for petals seems discontinuous, which implies that the data is segmented. This is clear when the petal length plot breaks for range of value 2-3 and the petal width plot also diminishes between the range of values from 0.5-1. This is not the case with sepal length and width plots as their histograms represent continuous data for all values in the plotted range.\n",
        "###2. We see that the petal length and width plots seems to be skewed right but the trend is not shared by the plots for sepal length and width.\n",
        "\n",
        "### The petal length plot data can be segmented in 2.5 parts at 2. So the 2 ranges of data would be 1 to 2.5 and 2.5 to 6.9\n",
        "\n",
        "\n",
        "\n",
        "\n"
      ]
    },
    {
      "cell_type": "markdown",
      "metadata": {
        "id": "bLJg7Ftapc7v",
        "colab_type": "text"
      },
      "source": [
        "## 3.2 Now consider the boxplots you generated for the Iris dataset. There should be four boxplots, one for each feature. Based upon these boxplots, is there a pair of features that appear to have significantly different medians? Recall that the degree of overlap between variabilities is an important initial indicator of the likelihood that differences in means or medians are meaningful.\n",
        "\n",
        "## Also, based solely upon the box plots, which feature appears to explain the greatest amount of the data?"
      ]
    },
    {
      "cell_type": "markdown",
      "metadata": {
        "id": "z3trWpc2p3Vq",
        "colab_type": "text"
      },
      "source": [
        "###Analysing the boxplots, we can clearly visualize that Sepal length and Petal width is the pair of features shich show significantly different medians where sepal length plot has a median of 5.8 whereas petal width plot has a median of 1.3.\n",
        "\n",
        "###Also, the petal length boxplot seems to have the largest inter-quarantile range and hence it can be said to be the feature which appears to explain the greatest amount of data.\n",
        "\n"
      ]
    },
    {
      "cell_type": "markdown",
      "metadata": {
        "colab_type": "text",
        "id": "fKRBWc52u15d"
      },
      "source": [
        "## 3.3 Lastly, consider the boxplots you generated for the Digits dataset. Do you observe any outliers? If so, for what features? \n",
        "\n",
        "##Now consider the corresponding histograms. What sort of distribution do the second and forth features display? With that in mind, explain the outliers, or lack thereof, in terms of what you observe from the histograms"
      ]
    },
    {
      "cell_type": "markdown",
      "metadata": {
        "colab_type": "text",
        "id": "Tshrlv5iu15h"
      },
      "source": [
        "###Considering the Digits dataset boxplots, we can clearly observe outliers for features no.**2** and no.**4**.\n",
        "\n",
        "###Now, looking at the histograms, the second and fourth distribution features show distributions which is skewed to the left. Although the histogram shows left skewed distribution, we do see a spike on the left but after that, the data starts getting denser.\n",
        "\n",
        "\n"
      ]
    },
    {
      "cell_type": "markdown",
      "metadata": {
        "id": "hH9Jk8oHLgVa",
        "colab_type": "text"
      },
      "source": [
        "Lets take a look at the individual histograms for these 2 features with increased bin size."
      ]
    },
    {
      "cell_type": "code",
      "metadata": {
        "id": "Mkoh9hVzJ9w6",
        "colab_type": "code",
        "colab": {
          "base_uri": "https://localhost:8080/",
          "height": 265
        },
        "outputId": "31613e09-59b5-4d4c-d06d-634c15d1d923"
      },
      "source": [
        "feature_2_hist = pen_df['2'].hist(color='r', alpha=0.4, bins=20)"
      ],
      "execution_count": 75,
      "outputs": [
        {
          "output_type": "display_data",
          "data": {
            "image/png": "[encoded data removed]",
            "text/plain": [
              "<Figure size 432x288 with 1 Axes>"
            ]
          },
          "metadata": {
            "tags": []
          }
        }
      ]
    },
    {
      "cell_type": "code",
      "metadata": {
        "id": "cslQbQIeNqU-",
        "colab_type": "code",
        "colab": {
          "base_uri": "https://localhost:8080/",
          "height": 269
        },
        "outputId": "f42d623e-1804-4733-ed6a-435cb85e3446"
      },
      "source": [
        "feature_4_hist = pen_df['4'].hist(color='r', alpha=0.4, bins=20)"
      ],
      "execution_count": 76,
      "outputs": [
        {
          "output_type": "display_data",
          "data": {
            "image/png": "[encoded data removed]",
            "text/plain": [
              "<Figure size 432x288 with 1 Axes>"
            ]
          },
          "metadata": {
            "tags": []
          }
        }
      ]
    },
    {
      "cell_type": "markdown",
      "metadata": {
        "id": "tpG0PhUoOCZp",
        "colab_type": "text"
      },
      "source": [
        "We can clearly observe where the data starts getting denser after around 40 and 20 in features no.**2** and feature no.**4** respectively. Also, the outliers in the data are visibly clear."
      ]
    }
  ]
}