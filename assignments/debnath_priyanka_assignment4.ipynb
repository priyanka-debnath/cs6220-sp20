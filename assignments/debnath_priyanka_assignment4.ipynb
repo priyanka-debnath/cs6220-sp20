{
  "nbformat": 4,
  "nbformat_minor": 0,
  "metadata": {
    "colab": {
      "name": "debnath_priyanka_assignment4.ipynb",
      "provenance": [],
      "collapsed_sections": [
        "MlWOm6-LoghQ",
        "wePTnS2sjqkA",
        "4Gv0w1lOuUPm",
        "OcgdRZscuqq3",
        "mLNq2lnqxVnK",
        "wKctQRj-xxmY",
        "zJtrKR_i1SjN",
        "aUgFzHIY_kpR"
      ]
    },
    "kernelspec": {
      "name": "python3",
      "display_name": "Python 3"
    },
    "accelerator": "GPU"
  },
  "cells": [
    {
      "cell_type": "markdown",
      "metadata": {
        "id": "MlWOm6-LoghQ",
        "colab_type": "text"
      },
      "source": [
        "# Import dataset into the notebook directory"
      ]
    },
    {
      "cell_type": "markdown",
      "metadata": {
        "id": "Fmy91k99qTEJ",
        "colab_type": "text"
      },
      "source": [
        "Let's start with importing the groceries.csv dataset by cloning a local repository which has the copy of the above dataset. This helps in easy access throughout the notebook"
      ]
    },
    {
      "cell_type": "code",
      "metadata": {
        "id": "k_XmOJ6upu_A",
        "colab_type": "code",
        "outputId": "2e96db9a-57b8-4ede-cc99-30523296f5cd",
        "colab": {
          "base_uri": "https://localhost:8080/",
          "height": 136
        }
      },
      "source": [
        "!git clone https://github.com/priyanka-debnath/cs6220-sp20.git"
      ],
      "execution_count": 1,
      "outputs": [
        {
          "output_type": "stream",
          "text": [
            "Cloning into 'cs6220-sp20'...\n",
            "remote: Enumerating objects: 142, done.\u001b[K\n",
            "remote: Counting objects: 100% (142/142), done.\u001b[K\n",
            "remote: Compressing objects: 100% (136/136), done.\u001b[K\n",
            "remote: Total 142 (delta 6), reused 140 (delta 4), pack-reused 0\u001b[K\n",
            "Receiving objects: 100% (142/142), 8.08 MiB | 16.62 MiB/s, done.\n",
            "Resolving deltas: 100% (6/6), done.\n"
          ],
          "name": "stdout"
        }
      ]
    },
    {
      "cell_type": "markdown",
      "metadata": {
        "id": "Ud1PucHdssBI",
        "colab_type": "text"
      },
      "source": [
        "Now lets move the csv file to the working directory"
      ]
    },
    {
      "cell_type": "code",
      "metadata": {
        "id": "AUYQ08eWqcLg",
        "colab_type": "code",
        "colab": {}
      },
      "source": [
        "!mv '/content/cs6220-sp20/datasets/grocery.csv' '/content/'"
      ],
      "execution_count": 0,
      "outputs": []
    },
    {
      "cell_type": "code",
      "metadata": {
        "id": "ALS7jjmVkxBT",
        "colab_type": "code",
        "colab": {
          "base_uri": "https://localhost:8080/",
          "height": 136
        },
        "outputId": "30565385-e1d0-4531-abd9-98a145084568"
      },
      "source": [
        "!ls -la"
      ],
      "execution_count": 3,
      "outputs": [
        {
          "output_type": "stream",
          "text": [
            "total 520\n",
            "drwxr-xr-x 1 root root   4096 Feb  7 03:02 .\n",
            "drwxr-xr-x 1 root root   4096 Feb  6 17:39 ..\n",
            "drwxr-xr-x 1 root root   4096 Feb  5 18:37 .config\n",
            "drwxr-xr-x 5 root root   4096 Feb  7 03:02 cs6220-sp20\n",
            "-rw-r--r-- 1 root root 510676 Feb  7 03:02 grocery.csv\n",
            "drwxr-xr-x 1 root root   4096 Feb  5 18:37 sample_data\n"
          ],
          "name": "stdout"
        }
      ]
    },
    {
      "cell_type": "markdown",
      "metadata": {
        "id": "wePTnS2sjqkA",
        "colab_type": "text"
      },
      "source": [
        "# Part 1 [40pts]"
      ]
    },
    {
      "cell_type": "markdown",
      "metadata": {
        "id": "ViQrT1XGmOvQ",
        "colab_type": "text"
      },
      "source": [
        "##The dataset above contains thousands of transactions recorded from a grocery story. Each row in the dataset refers to a given transaction where the items purchased are separated by commas.\n",
        "##For example, on the second row we have a transaction with three items: {tropical fruit, yogurt, and coffee}. \n",
        "##Below is a helper function that allows us to quickly load that file into a format that can be easily processed in Python.\n",
        "\n",
        "Note that because we have thousands of transactions, it may be hard to find itemsets with high supports (e.g., 20%), so in order to see interesting results, make sure you experiment with lower min support parameters. Make sure to document your code and leave some commentary on the results you obtained, which you will further discuss on the Collaborative Activity for this lesson."
      ]
    },
    {
      "cell_type": "markdown",
      "metadata": {
        "id": "LHL-iSy2jqkF",
        "colab_type": "text"
      },
      "source": [
        "We begin by including the functions to generate frequent itemsets (via the Apriori algorithm) and resulting association rules:"
      ]
    },
    {
      "cell_type": "code",
      "metadata": {
        "id": "zsSkoemBjqkH",
        "colab_type": "code",
        "colab": {}
      },
      "source": [
        "# (c) 2016 Everaldo Aguiar & Reid Johnson\n",
        "#\n",
        "# Modified from:\n",
        "# Marcel Caraciolo (https://gist.github.com/marcelcaraciolo/1423287)\n",
        "#\n",
        "# Functions to compute and extract association rules from a given frequent itemset \n",
        "# generated by the Apriori algorithm.\n",
        "#\n",
        "# The Apriori algorithm is defined by Agrawal and Srikant in:\n",
        "# Fast algorithms for mining association rules\n",
        "# Proc. 20th int. conf. very large data bases, VLDB. Vol. 1215. 1994\n",
        "import csv\n",
        "import numpy as np\n",
        "\n",
        "def load_dataset(filename):\n",
        "    '''Loads an example of market basket transactions from a provided csv file.\n",
        "\n",
        "    Returns: A list (database) of lists (transactions). Each element of a transaction is \n",
        "    an item.\n",
        "    '''\n",
        "\n",
        "    with open(filename,'r') as dest_f:\n",
        "        data_iter = csv.reader(dest_f, delimiter = ',', quotechar = '\"')\n",
        "        data = [data for data in data_iter]\n",
        "        data_array = np.asarray(data)\n",
        "        \n",
        "    return data_array\n",
        "\n",
        "def apriori(dataset, min_support=0.5, verbose=False):\n",
        "    \"\"\"Implements the Apriori algorithm.\n",
        "\n",
        "    The Apriori algorithm will iteratively generate new candidate \n",
        "    k-itemsets using the frequent (k-1)-itemsets found in the previous \n",
        "    iteration.\n",
        "\n",
        "    Parameters\n",
        "    ----------\n",
        "    dataset : list\n",
        "        The dataset (a list of transactions) from which to generate \n",
        "        candidate itemsets.\n",
        "\n",
        "    min_support : float\n",
        "        The minimum support threshold. Defaults to 0.5.\n",
        "\n",
        "    Returns\n",
        "    -------\n",
        "    F : list\n",
        "        The list of frequent itemsets.\n",
        "\n",
        "    support_data : dict\n",
        "        The support data for all candidate itemsets.\n",
        "\n",
        "    References\n",
        "    ----------\n",
        "    .. [1] R. Agrawal, R. Srikant, \"Fast Algorithms for Mining Association \n",
        "           Rules\", 1994.\n",
        "\n",
        "    \"\"\"\n",
        "    C1 = create_candidates(dataset)\n",
        "    D = list(map(set, dataset))\n",
        "    F1, support_data = support_prune(D, C1, min_support, verbose=False) # prune candidate 1-itemsets\n",
        "    F = [F1] # list of frequent itemsets; initialized to frequent 1-itemsets\n",
        "    k = 2 # the itemset cardinality\n",
        "    while (len(F[k - 2]) > 0):\n",
        "        Ck = apriori_gen(F[k-2], k) # generate candidate itemsets\n",
        "        Fk, supK = support_prune(D, Ck, min_support) # prune candidate itemsets\n",
        "        support_data.update(supK) # update the support counts to reflect pruning\n",
        "        F.append(Fk) # add the pruned candidate itemsets to the list of frequent itemsets\n",
        "        k += 1\n",
        "\n",
        "    if verbose:\n",
        "        # Print a list of all the frequent itemsets.\n",
        "        for kset in F:\n",
        "            for item in kset:\n",
        "                print(\"\" \\\n",
        "                    + \"{\" \\\n",
        "                    + \"\".join(str(i) + \", \" for i in iter(item)).rstrip(', ') \\\n",
        "                    + \"}\" \\\n",
        "                    + \":  sup = \" + str(round(support_data[item], 3)))\n",
        "\n",
        "    return F, support_data\n",
        "\n",
        "def create_candidates(dataset, verbose=False):\n",
        "    \"\"\"Creates a list of candidate 1-itemsets from a list of transactions.\n",
        "\n",
        "    Parameters\n",
        "    ----------\n",
        "    dataset : list\n",
        "        The dataset (a list of transactions) from which to generate candidate \n",
        "        itemsets.\n",
        "\n",
        "    Returns\n",
        "    -------\n",
        "    The list of candidate itemsets (c1) passed as a frozenset (a set that is \n",
        "    immutable and hashable).\n",
        "    \"\"\"\n",
        "    c1 = [] # list of all items in the database of transactions\n",
        "    for transaction in dataset:\n",
        "        for item in transaction:\n",
        "            if not [item] in c1:\n",
        "                c1.append([item])\n",
        "    c1.sort()\n",
        "\n",
        "    if verbose:\n",
        "        # Print a list of all the candidate items.\n",
        "        print(\"\" \\\n",
        "            + \"{\" \\\n",
        "            + \"\".join(str(i[0]) + \", \" for i in iter(c1)).rstrip(', ') \\\n",
        "            + \"}\")\n",
        "\n",
        "    # Map c1 to a frozenset because it will be the key of a dictionary.\n",
        "    return list(map(frozenset, c1))\n",
        "\n",
        "def support_prune(dataset, candidates, min_support, verbose=False):\n",
        "    \"\"\"Returns all candidate itemsets that meet a minimum support threshold.\n",
        "\n",
        "    By the apriori principle, if an itemset is frequent, then all of its \n",
        "    subsets must also be frequent. As a result, we can perform support-based \n",
        "    pruning to systematically control the exponential growth of candidate \n",
        "    itemsets. Thus, itemsets that do not meet the minimum support level are \n",
        "    pruned from the input list of itemsets (dataset).\n",
        "\n",
        "    Parameters\n",
        "    ----------\n",
        "    dataset : list\n",
        "        The dataset (a list of transactions) from which to generate candidate \n",
        "        itemsets.\n",
        "\n",
        "    candidates : frozenset\n",
        "        The list of candidate itemsets.\n",
        "\n",
        "    min_support : float\n",
        "        The minimum support threshold.\n",
        "\n",
        "    Returns\n",
        "    -------\n",
        "    retlist : list\n",
        "        The list of frequent itemsets.\n",
        "\n",
        "    support_data : dict\n",
        "        The support data for all candidate itemsets.\n",
        "    \"\"\"\n",
        "    sscnt = {} # set for support counts\n",
        "    for tid in dataset:\n",
        "        for can in candidates:\n",
        "            if can.issubset(tid):\n",
        "                sscnt.setdefault(can, 0)\n",
        "                sscnt[can] += 1\n",
        "\n",
        "    num_items = float(len(dataset)) # total number of transactions in the dataset\n",
        "    retlist = [] # array for unpruned itemsets\n",
        "    support_data = {} # set for support data for corresponding itemsets\n",
        "    for key in sscnt:\n",
        "        # Calculate the support of itemset key.\n",
        "        support = sscnt[key] / num_items\n",
        "        if support >= min_support:\n",
        "            retlist.insert(0, key)\n",
        "        support_data[key] = support\n",
        "\n",
        "    # Print a list of the pruned itemsets.\n",
        "    if verbose:\n",
        "        for kset in retlist:\n",
        "            for item in kset:\n",
        "                print(\"{\" + str(item) + \"}\")\n",
        "        print(\"\")\n",
        "        for key in sscnt:\n",
        "            print(\"\" \\\n",
        "                + \"{\" \\\n",
        "                + \"\".join([str(i) + \", \" for i in iter(key)]).rstrip(', ') \\\n",
        "                + \"}\" \\\n",
        "                + \":  sup = \" + str(support_data[key]))\n",
        "\n",
        "    return retlist, support_data\n",
        "\n",
        "def apriori_gen(freq_sets, k):\n",
        "    \"\"\"Generates candidate itemsets (via the F_k-1 x F_k-1 method).\n",
        "\n",
        "    This operation generates new candidate k-itemsets based on the frequent \n",
        "    (k-1)-itemsets found in the previous iteration. The candidate generation \n",
        "    procedure merges a pair of frequent (k-1)-itemsets only if their first k-2 \n",
        "    items are identical.\n",
        "\n",
        "    Parameters\n",
        "    ----------\n",
        "    freq_sets : list\n",
        "        The list of frequent (k-1)-itemsets.\n",
        "\n",
        "    k : integer\n",
        "        The cardinality of the current itemsets being evaluated.\n",
        "\n",
        "    Returns\n",
        "    -------\n",
        "    retlist : list\n",
        "        The list of merged frequent itemsets.\n",
        "    \"\"\"\n",
        "    retList = [] # list of merged frequent itemsets\n",
        "    lenLk = len(freq_sets) # number of frequent itemsets\n",
        "    for i in range(lenLk):\n",
        "        for j in range(i+1, lenLk):\n",
        "            a=list(freq_sets[i])\n",
        "            b=list(freq_sets[j])\n",
        "            a.sort()\n",
        "            b.sort()\n",
        "            F1 = a[:k-2] # first k-2 items of freq_sets[i]\n",
        "            F2 = b[:k-2] # first k-2 items of freq_sets[j]\n",
        "\n",
        "            if F1 == F2: # if the first k-2 items are identical\n",
        "                # Merge the frequent itemsets.\n",
        "                retList.append(freq_sets[i] | freq_sets[j])\n",
        "\n",
        "    return retList\n",
        "\n",
        "def rules_from_conseq(freq_set, H, support_data, rules, min_confidence=0.5, verbose=False):\n",
        "    \"\"\"Generates a set of candidate rules.\n",
        "\n",
        "    Parameters\n",
        "    ----------\n",
        "    freq_set : frozenset\n",
        "        The complete list of frequent itemsets.\n",
        "\n",
        "    H : list\n",
        "        A list of frequent itemsets (of a particular length).\n",
        "\n",
        "    support_data : dict\n",
        "        The support data for all candidate itemsets.\n",
        "\n",
        "    rules : list\n",
        "        A potentially incomplete set of candidate rules above the minimum \n",
        "        confidence threshold.\n",
        "\n",
        "    min_confidence : float\n",
        "        The minimum confidence threshold. Defaults to 0.5.\n",
        "    \"\"\"\n",
        "    m = len(H[0])\n",
        "    if m == 1:\n",
        "        Hmp1 = calc_confidence(freq_set, H, support_data, rules, min_confidence, verbose)\n",
        "    if (len(freq_set) > (m+1)):\n",
        "        Hmp1 = apriori_gen(H, m+1) # generate candidate itemsets\n",
        "        Hmp1 = calc_confidence(freq_set, Hmp1, support_data, rules, min_confidence, verbose)\n",
        "        if len(Hmp1) > 1:\n",
        "            # If there are candidate rules above the minimum confidence \n",
        "            # threshold, recurse on the list of these candidate rules.\n",
        "            rules_from_conseq(freq_set, Hmp1, support_data, rules, min_confidence, verbose)\n",
        "\n",
        "def calc_confidence(freq_set, H, support_data, rules, min_confidence=0.5, verbose=False):\n",
        "    \"\"\"Evaluates the generated rules.\n",
        "\n",
        "    One measurement for quantifying the goodness of association rules is \n",
        "    confidence. The confidence for a rule 'P implies H' (P -> H) is defined as \n",
        "    the support for P and H divided by the support for P \n",
        "    (support (P|H) / support(P)), where the | symbol denotes the set union \n",
        "    (thus P|H means all the items in set P or in set H).\n",
        "\n",
        "    To calculate the confidence, we iterate through the frequent itemsets and \n",
        "    associated support data. For each frequent itemset, we divide the support \n",
        "    of the itemset by the support of the antecedent (left-hand-side of the \n",
        "    rule).\n",
        "\n",
        "    Parameters\n",
        "    ----------\n",
        "    freq_set : frozenset\n",
        "        The complete list of frequent itemsets.\n",
        "\n",
        "    H : list\n",
        "        A list of frequent itemsets (of a particular length).\n",
        "\n",
        "    min_support : float\n",
        "        The minimum support threshold.\n",
        "\n",
        "    rules : list\n",
        "        A potentially incomplete set of candidate rules above the minimum \n",
        "        confidence threshold.\n",
        "\n",
        "    min_confidence : float\n",
        "        The minimum confidence threshold. Defaults to 0.5.\n",
        "\n",
        "    Returns\n",
        "    -------\n",
        "    pruned_H : list\n",
        "        The list of candidate rules above the minimum confidence threshold.\n",
        "    \"\"\"\n",
        "    pruned_H = [] # list of candidate rules above the minimum confidence threshold\n",
        "    for conseq in H: # iterate over the frequent itemsets\n",
        "        conf = support_data[freq_set] / support_data[freq_set - conseq]\n",
        "        if conf >= min_confidence:\n",
        "            rules.append((freq_set - conseq, conseq, conf))\n",
        "            pruned_H.append(conseq)\n",
        "\n",
        "            if verbose:\n",
        "                print(\"\" \\\n",
        "                    + \"{\" \\\n",
        "                    + \"\".join([str(i) + \", \" for i in iter(freq_set-conseq)]).rstrip(', ') \\\n",
        "                    + \"}\" \\\n",
        "                    + \" ---> \" \\\n",
        "                    + \"{\" \\\n",
        "                    + \"\".join([str(i) + \", \" for i in iter(conseq)]).rstrip(', ') \\\n",
        "                    + \"}\" \\\n",
        "                    + \":  conf = \" + str(round(conf, 3)) \\\n",
        "                    + \", sup = \" + str(round(support_data[freq_set], 3)))\n",
        "\n",
        "    return pruned_H\n",
        "\n",
        "def generate_rules(F, support_data, min_confidence=0.5, verbose=True):\n",
        "    \"\"\"Generates a set of candidate rules from a list of frequent itemsets.\n",
        "\n",
        "    For each frequent itemset, we calculate the confidence of using a\n",
        "    particular item as the rule consequent (right-hand-side of the rule). By \n",
        "    testing and merging the remaining rules, we recursively create a list of \n",
        "    pruned rules.\n",
        "\n",
        "    Parameters\n",
        "    ----------\n",
        "    F : list\n",
        "        A list of frequent itemsets.\n",
        "\n",
        "    support_data : dict\n",
        "        The corresponding support data for the frequent itemsets (L).\n",
        "\n",
        "    min_confidence : float\n",
        "        The minimum confidence threshold. Defaults to 0.5.\n",
        "\n",
        "    Returns\n",
        "    -------\n",
        "    rules : list\n",
        "        The list of candidate rules above the minimum confidence threshold.\n",
        "    \"\"\"\n",
        "    rules = []\n",
        "    for i in range(1, len(F)):\n",
        "        for freq_set in F[i]:\n",
        "            H1 = [frozenset([itemset]) for itemset in freq_set]\n",
        "            if (i > 1):\n",
        "                rules_from_conseq(freq_set, H1, support_data, rules, min_confidence, verbose)\n",
        "            else:\n",
        "                calc_confidence(freq_set, H1, support_data, rules, min_confidence, verbose)\n",
        "\n",
        "    return rules"
      ],
      "execution_count": 0,
      "outputs": []
    },
    {
      "cell_type": "markdown",
      "metadata": {
        "id": "S98ee6BDjqkO",
        "colab_type": "text"
      },
      "source": [
        "### To load our dataset of grocery transactions, use the command below"
      ]
    },
    {
      "cell_type": "code",
      "metadata": {
        "id": "hmxpWWiEjqkP",
        "colab_type": "code",
        "colab": {}
      },
      "source": [
        "dataset = load_dataset('grocery.csv')\n",
        "D = list(map(set, dataset))"
      ],
      "execution_count": 0,
      "outputs": []
    },
    {
      "cell_type": "markdown",
      "metadata": {
        "id": "1f1eymMqjqkU",
        "colab_type": "text"
      },
      "source": [
        "### _dataset_ is now a ndarray containing each of the 9835 transactions"
      ]
    },
    {
      "cell_type": "code",
      "metadata": {
        "id": "_L3O0YtzjqkV",
        "colab_type": "code",
        "outputId": "fd22deee-7132-49ac-e890-0a0d68e1cf5b",
        "colab": {
          "base_uri": "https://localhost:8080/",
          "height": 34
        }
      },
      "source": [
        "type(dataset)"
      ],
      "execution_count": 6,
      "outputs": [
        {
          "output_type": "execute_result",
          "data": {
            "text/plain": [
              "numpy.ndarray"
            ]
          },
          "metadata": {
            "tags": []
          },
          "execution_count": 6
        }
      ]
    },
    {
      "cell_type": "code",
      "metadata": {
        "id": "fKZ6JqgDjqkc",
        "colab_type": "code",
        "outputId": "35d6a8ba-a0e4-40c1-c86a-7ee4386e5168",
        "colab": {
          "base_uri": "https://localhost:8080/",
          "height": 34
        }
      },
      "source": [
        "dataset.shape"
      ],
      "execution_count": 7,
      "outputs": [
        {
          "output_type": "execute_result",
          "data": {
            "text/plain": [
              "(9835,)"
            ]
          },
          "metadata": {
            "tags": []
          },
          "execution_count": 7
        }
      ]
    },
    {
      "cell_type": "code",
      "metadata": {
        "id": "Hqpf0UrCjqkh",
        "colab_type": "code",
        "outputId": "fa5f7e93-3e6b-4ebf-df9b-5e811b26f59e",
        "colab": {
          "base_uri": "https://localhost:8080/",
          "height": 34
        }
      },
      "source": [
        "dataset[0]"
      ],
      "execution_count": 8,
      "outputs": [
        {
          "output_type": "execute_result",
          "data": {
            "text/plain": [
              "['citrus fruit', 'semi-finished bread', 'margarine', 'ready soups']"
            ]
          },
          "metadata": {
            "tags": []
          },
          "execution_count": 8
        }
      ]
    },
    {
      "cell_type": "code",
      "metadata": {
        "id": "g5mfOrnJjqkl",
        "colab_type": "code",
        "outputId": "13ffac09-16b1-44e3-e544-bad2a30af22e",
        "colab": {
          "base_uri": "https://localhost:8080/",
          "height": 34
        }
      },
      "source": [
        "dataset[1]"
      ],
      "execution_count": 9,
      "outputs": [
        {
          "output_type": "execute_result",
          "data": {
            "text/plain": [
              "['tropical fruit', 'yogurt', 'coffee']"
            ]
          },
          "metadata": {
            "tags": []
          },
          "execution_count": 9
        }
      ]
    },
    {
      "cell_type": "markdown",
      "metadata": {
        "id": "5cvZgtgljqkp",
        "colab_type": "text"
      },
      "source": [
        "### _D_ Contains that dataset in a set format (which excludes duplicated items and sorts them)"
      ]
    },
    {
      "cell_type": "code",
      "metadata": {
        "id": "S-TUmJ53jqkq",
        "colab_type": "code",
        "outputId": "12416fdc-eb4e-4938-c9aa-f7bc70ad9d97",
        "colab": {
          "base_uri": "https://localhost:8080/",
          "height": 34
        }
      },
      "source": [
        "type(D[0])"
      ],
      "execution_count": 10,
      "outputs": [
        {
          "output_type": "execute_result",
          "data": {
            "text/plain": [
              "set"
            ]
          },
          "metadata": {
            "tags": []
          },
          "execution_count": 10
        }
      ]
    },
    {
      "cell_type": "code",
      "metadata": {
        "id": "rp2ls_Kljqku",
        "colab_type": "code",
        "outputId": "f081300f-9adb-4db6-f845-6a6a4b02b4f0",
        "colab": {
          "base_uri": "https://localhost:8080/",
          "height": 34
        }
      },
      "source": [
        "D[0]"
      ],
      "execution_count": 11,
      "outputs": [
        {
          "output_type": "execute_result",
          "data": {
            "text/plain": [
              "{'citrus fruit', 'margarine', 'ready soups', 'semi-finished bread'}"
            ]
          },
          "metadata": {
            "tags": []
          },
          "execution_count": 11
        }
      ]
    },
    {
      "cell_type": "markdown",
      "metadata": {
        "id": "ibsWci0nn9Gx",
        "colab_type": "text"
      },
      "source": [
        "##Generate Candidate Itemsets."
      ]
    },
    {
      "cell_type": "code",
      "metadata": {
        "id": "fpmd8p7BoIrl",
        "colab_type": "code",
        "colab": {
          "base_uri": "https://localhost:8080/",
          "height": 54
        },
        "outputId": "73219968-8eda-4b06-d7a3-59db14b50ce7"
      },
      "source": [
        "C1 = create_candidates(dataset, verbose=True)"
      ],
      "execution_count": 12,
      "outputs": [
        {
          "output_type": "stream",
          "text": [
            "{Instant food products, UHT-milk, abrasive cleaner, artif. sweetener, baby cosmetics, baby food, bags, baking powder, bathroom cleaner, beef, berries, beverages, bottled beer, bottled water, brandy, brown bread, butter, butter milk, cake bar, candles, candy, canned beer, canned fish, canned fruit, canned vegetables, cat food, cereals, chewing gum, chicken, chocolate, chocolate marshmallow, citrus fruit, cleaner, cling film/bags, cocoa drinks, coffee, condensed milk, cooking chocolate, cookware, cream, cream cheese , curd, curd cheese, decalcifier, dental care, dessert, detergent, dish cleaner, dishes, dog food, domestic eggs, female sanitary products, finished products, fish, flour, flower (seeds), flower soil/fertilizer, frankfurter, frozen chicken, frozen dessert, frozen fish, frozen fruits, frozen meals, frozen potato products, frozen vegetables, fruit/vegetable juice, grapes, hair spray, ham, hamburger meat, hard cheese, herbs, honey, house keeping products, hygiene articles, ice cream, instant coffee, jam, ketchup, kitchen towels, kitchen utensil, light bulbs, liqueur, liquor, liquor (appetizer), liver loaf, long life bakery product, make up remover, male cosmetics, margarine, mayonnaise, meat, meat spreads, misc. beverages, mustard, napkins, newspapers, nut snack, nuts/prunes, oil, onions, organic products, organic sausage, other vegetables, packaged fruit/vegetables, pasta, pastry, pet care, photo/film, pickled vegetables, pip fruit, popcorn, pork, pot plants, potato products, preservation products, processed cheese, prosecco, pudding powder, ready soups, red/blush wine, rice, roll products , rolls/buns, root vegetables, rubbing alcohol, rum, salad dressing, salt, salty snack, sauces, sausage, seasonal products, semi-finished bread, shopping bags, skin care, sliced cheese, snack products, soap, soda, soft cheese, softener, sound storage medium, soups, sparkling wine, specialty bar, specialty cheese, specialty chocolate, specialty fat, specialty vegetables, spices, spread cheese, sugar, sweet spreads, syrup, tea, tidbits, toilet cleaner, tropical fruit, turkey, vinegar, waffles, whipped/sour cream, whisky, white bread, white wine, whole milk, yogurt, zwieback}\n"
          ],
          "name": "stdout"
        }
      ]
    },
    {
      "cell_type": "markdown",
      "metadata": {
        "id": "1OGd2KyGpz4N",
        "colab_type": "text"
      },
      "source": [
        "##Select those that are frequent using Apriori function"
      ]
    },
    {
      "cell_type": "markdown",
      "metadata": {
        "id": "m-VCti_jrnHz",
        "colab_type": "text"
      },
      "source": [
        "###Generate the frequent itemsets  and association rules with minimum support of 3% and confidence of 40%"
      ]
    },
    {
      "cell_type": "code",
      "metadata": {
        "id": "Ptj6VchKp1pM",
        "colab_type": "code",
        "colab": {
          "base_uri": "https://localhost:8080/",
          "height": 1000
        },
        "outputId": "2dfdf1ef-aa95-4b5f-d666-e7b33b562fec"
      },
      "source": [
        "F, support_data = apriori(dataset, min_support=0.03, verbose=True)"
      ],
      "execution_count": 18,
      "outputs": [
        {
          "output_type": "stream",
          "text": [
            "{onions}:  sup = 0.031\n",
            "{specialty chocolate}:  sup = 0.03\n",
            "{frozen vegetables}:  sup = 0.048\n",
            "{domestic eggs}:  sup = 0.063\n",
            "{dessert}:  sup = 0.037\n",
            "{whipped/sour cream}:  sup = 0.072\n",
            "{pork}:  sup = 0.058\n",
            "{berries}:  sup = 0.033\n",
            "{napkins}:  sup = 0.052\n",
            "{hygiene articles}:  sup = 0.033\n",
            "{hamburger meat}:  sup = 0.033\n",
            "{shopping bags}:  sup = 0.099\n",
            "{brown bread}:  sup = 0.065\n",
            "{sausage}:  sup = 0.094\n",
            "{canned beer}:  sup = 0.078\n",
            "{waffles}:  sup = 0.038\n",
            "{salty snack}:  sup = 0.038\n",
            "{root vegetables}:  sup = 0.109\n",
            "{pastry}:  sup = 0.089\n",
            "{sugar}:  sup = 0.034\n",
            "{newspapers}:  sup = 0.08\n",
            "{fruit/vegetable juice}:  sup = 0.072\n",
            "{chicken}:  sup = 0.043\n",
            "{soda}:  sup = 0.174\n",
            "{frankfurter}:  sup = 0.059\n",
            "{beef}:  sup = 0.052\n",
            "{curd}:  sup = 0.053\n",
            "{white bread}:  sup = 0.042\n",
            "{chocolate}:  sup = 0.05\n",
            "{bottled water}:  sup = 0.111\n",
            "{bottled beer}:  sup = 0.081\n",
            "{UHT-milk}:  sup = 0.033\n",
            "{rolls/buns}:  sup = 0.184\n",
            "{butter}:  sup = 0.055\n",
            "{other vegetables}:  sup = 0.193\n",
            "{long life bakery product}:  sup = 0.037\n",
            "{pip fruit}:  sup = 0.076\n",
            "{cream cheese}:  sup = 0.04\n",
            "{whole milk}:  sup = 0.256\n",
            "{yogurt}:  sup = 0.14\n",
            "{tropical fruit}:  sup = 0.105\n",
            "{coffee}:  sup = 0.058\n",
            "{margarine}:  sup = 0.059\n",
            "{citrus fruit}:  sup = 0.083\n",
            "{other vegetables, yogurt}:  sup = 0.043\n",
            "{pip fruit, whole milk}:  sup = 0.03\n",
            "{whole milk, rolls/buns}:  sup = 0.057\n",
            "{yogurt, rolls/buns}:  sup = 0.034\n",
            "{whole milk, pastry}:  sup = 0.033\n",
            "{soda, whole milk}:  sup = 0.04\n",
            "{soda, other vegetables}:  sup = 0.033\n",
            "{whole milk, whipped/sour cream}:  sup = 0.032\n",
            "{root vegetables, whole milk}:  sup = 0.049\n",
            "{sausage, rolls/buns}:  sup = 0.031\n",
            "{root vegetables, other vegetables}:  sup = 0.047\n",
            "{soda, rolls/buns}:  sup = 0.038\n",
            "{whole milk, citrus fruit}:  sup = 0.031\n",
            "{whole milk, tropical fruit}:  sup = 0.042\n",
            "{whole milk, bottled water}:  sup = 0.034\n",
            "{other vegetables, tropical fruit}:  sup = 0.036\n",
            "{other vegetables, rolls/buns}:  sup = 0.043\n",
            "{whole milk, yogurt}:  sup = 0.056\n",
            "{whole milk, other vegetables}:  sup = 0.075\n"
          ],
          "name": "stdout"
        }
      ]
    },
    {
      "cell_type": "markdown",
      "metadata": {
        "id": "Cwe4h9ZxpO8A",
        "colab_type": "text"
      },
      "source": [
        "Generating association rules for the above itemset."
      ]
    },
    {
      "cell_type": "code",
      "metadata": {
        "id": "qDlNK98LpHVC",
        "colab_type": "code",
        "colab": {
          "base_uri": "https://localhost:8080/",
          "height": 102
        },
        "outputId": "75c28069-9e6d-4b1f-a9e3-5a5ea3d6c961"
      },
      "source": [
        "H = generate_rules(F, support_data, min_confidence=0.4, verbose=True)"
      ],
      "execution_count": 19,
      "outputs": [
        {
          "output_type": "stream",
          "text": [
            "{whipped/sour cream} ---> {whole milk}:  conf = 0.45, sup = 0.032\n",
            "{root vegetables} ---> {whole milk}:  conf = 0.449, sup = 0.049\n",
            "{root vegetables} ---> {other vegetables}:  conf = 0.435, sup = 0.047\n",
            "{tropical fruit} ---> {whole milk}:  conf = 0.403, sup = 0.042\n",
            "{yogurt} ---> {whole milk}:  conf = 0.402, sup = 0.056\n"
          ],
          "name": "stdout"
        }
      ]
    },
    {
      "cell_type": "markdown",
      "metadata": {
        "id": "Pyk4yNtywaVW",
        "colab_type": "text"
      },
      "source": [
        "The association rule of {root vegetables} ---> {other vegetables} is interesting because that usually consists of people's lunch."
      ]
    },
    {
      "cell_type": "markdown",
      "metadata": {
        "id": "4Gv0w1lOuUPm",
        "colab_type": "text"
      },
      "source": [
        "###Generate the frequent itemsets  and association rules with minimum support of 4% and confidence of 40%"
      ]
    },
    {
      "cell_type": "code",
      "metadata": {
        "id": "nXTgy6t5uWAS",
        "colab_type": "code",
        "colab": {
          "base_uri": "https://localhost:8080/",
          "height": 714
        },
        "outputId": "c0167fdb-f818-49e4-98dd-4225a2b39bac"
      },
      "source": [
        "F, support_data = apriori(dataset, min_support=0.04, verbose=True)"
      ],
      "execution_count": 24,
      "outputs": [
        {
          "output_type": "stream",
          "text": [
            "{frozen vegetables}:  sup = 0.048\n",
            "{domestic eggs}:  sup = 0.063\n",
            "{whipped/sour cream}:  sup = 0.072\n",
            "{pork}:  sup = 0.058\n",
            "{napkins}:  sup = 0.052\n",
            "{shopping bags}:  sup = 0.099\n",
            "{brown bread}:  sup = 0.065\n",
            "{sausage}:  sup = 0.094\n",
            "{canned beer}:  sup = 0.078\n",
            "{root vegetables}:  sup = 0.109\n",
            "{pastry}:  sup = 0.089\n",
            "{newspapers}:  sup = 0.08\n",
            "{fruit/vegetable juice}:  sup = 0.072\n",
            "{chicken}:  sup = 0.043\n",
            "{soda}:  sup = 0.174\n",
            "{frankfurter}:  sup = 0.059\n",
            "{beef}:  sup = 0.052\n",
            "{curd}:  sup = 0.053\n",
            "{white bread}:  sup = 0.042\n",
            "{chocolate}:  sup = 0.05\n",
            "{bottled water}:  sup = 0.111\n",
            "{bottled beer}:  sup = 0.081\n",
            "{rolls/buns}:  sup = 0.184\n",
            "{butter}:  sup = 0.055\n",
            "{other vegetables}:  sup = 0.193\n",
            "{pip fruit}:  sup = 0.076\n",
            "{whole milk}:  sup = 0.256\n",
            "{yogurt}:  sup = 0.14\n",
            "{tropical fruit}:  sup = 0.105\n",
            "{coffee}:  sup = 0.058\n",
            "{margarine}:  sup = 0.059\n",
            "{citrus fruit}:  sup = 0.083\n",
            "{other vegetables, yogurt}:  sup = 0.043\n",
            "{whole milk, rolls/buns}:  sup = 0.057\n",
            "{soda, whole milk}:  sup = 0.04\n",
            "{root vegetables, whole milk}:  sup = 0.049\n",
            "{root vegetables, other vegetables}:  sup = 0.047\n",
            "{whole milk, tropical fruit}:  sup = 0.042\n",
            "{other vegetables, rolls/buns}:  sup = 0.043\n",
            "{whole milk, yogurt}:  sup = 0.056\n",
            "{whole milk, other vegetables}:  sup = 0.075\n"
          ],
          "name": "stdout"
        }
      ]
    },
    {
      "cell_type": "markdown",
      "metadata": {
        "id": "kdtudp_XugRV",
        "colab_type": "text"
      },
      "source": [
        "Generating association rules for the above itemset."
      ]
    },
    {
      "cell_type": "code",
      "metadata": {
        "id": "gWsvsj4VuiF-",
        "colab_type": "code",
        "colab": {
          "base_uri": "https://localhost:8080/",
          "height": 85
        },
        "outputId": "e6786d39-e416-4460-9a21-625d997c5454"
      },
      "source": [
        "H = generate_rules(F, support_data, min_confidence=0.4, verbose=True)"
      ],
      "execution_count": 25,
      "outputs": [
        {
          "output_type": "stream",
          "text": [
            "{root vegetables} ---> {whole milk}:  conf = 0.449, sup = 0.049\n",
            "{root vegetables} ---> {other vegetables}:  conf = 0.435, sup = 0.047\n",
            "{tropical fruit} ---> {whole milk}:  conf = 0.403, sup = 0.042\n",
            "{yogurt} ---> {whole milk}:  conf = 0.402, sup = 0.056\n"
          ],
          "name": "stdout"
        }
      ]
    },
    {
      "cell_type": "markdown",
      "metadata": {
        "id": "vjx_fRjWwwZ1",
        "colab_type": "text"
      },
      "source": [
        "The association rule of {tropical fruit} ---> {whole milk} is interesting because custards and other esserts could make them a combination."
      ]
    },
    {
      "cell_type": "markdown",
      "metadata": {
        "id": "OcgdRZscuqq3",
        "colab_type": "text"
      },
      "source": [
        "###Generate the frequent itemsets  and association rules with minimum support of 5% and confidence of 40%"
      ]
    },
    {
      "cell_type": "code",
      "metadata": {
        "id": "4SCglNJWur-Q",
        "colab_type": "code",
        "colab": {
          "base_uri": "https://localhost:8080/",
          "height": 544
        },
        "outputId": "ff6a7882-5d60-4a33-fbe8-8d8aee3f1fe6"
      },
      "source": [
        "F, support_data = apriori(dataset, min_support=0.05, verbose=True)"
      ],
      "execution_count": 26,
      "outputs": [
        {
          "output_type": "stream",
          "text": [
            "{domestic eggs}:  sup = 0.063\n",
            "{whipped/sour cream}:  sup = 0.072\n",
            "{pork}:  sup = 0.058\n",
            "{napkins}:  sup = 0.052\n",
            "{shopping bags}:  sup = 0.099\n",
            "{brown bread}:  sup = 0.065\n",
            "{sausage}:  sup = 0.094\n",
            "{canned beer}:  sup = 0.078\n",
            "{root vegetables}:  sup = 0.109\n",
            "{pastry}:  sup = 0.089\n",
            "{newspapers}:  sup = 0.08\n",
            "{fruit/vegetable juice}:  sup = 0.072\n",
            "{soda}:  sup = 0.174\n",
            "{frankfurter}:  sup = 0.059\n",
            "{beef}:  sup = 0.052\n",
            "{curd}:  sup = 0.053\n",
            "{bottled water}:  sup = 0.111\n",
            "{bottled beer}:  sup = 0.081\n",
            "{rolls/buns}:  sup = 0.184\n",
            "{butter}:  sup = 0.055\n",
            "{other vegetables}:  sup = 0.193\n",
            "{pip fruit}:  sup = 0.076\n",
            "{whole milk}:  sup = 0.256\n",
            "{yogurt}:  sup = 0.14\n",
            "{tropical fruit}:  sup = 0.105\n",
            "{coffee}:  sup = 0.058\n",
            "{margarine}:  sup = 0.059\n",
            "{citrus fruit}:  sup = 0.083\n",
            "{whole milk, rolls/buns}:  sup = 0.057\n",
            "{whole milk, yogurt}:  sup = 0.056\n",
            "{whole milk, other vegetables}:  sup = 0.075\n"
          ],
          "name": "stdout"
        }
      ]
    },
    {
      "cell_type": "markdown",
      "metadata": {
        "id": "tZffZsunuw2i",
        "colab_type": "text"
      },
      "source": [
        "Generating association rules for the above itemset."
      ]
    },
    {
      "cell_type": "code",
      "metadata": {
        "id": "AybtKQOMu0L0",
        "colab_type": "code",
        "colab": {
          "base_uri": "https://localhost:8080/",
          "height": 34
        },
        "outputId": "fe225767-7aed-456d-bc45-76a55099da7d"
      },
      "source": [
        "H = generate_rules(F, support_data, min_confidence=0.4, verbose=True)"
      ],
      "execution_count": 27,
      "outputs": [
        {
          "output_type": "stream",
          "text": [
            "{yogurt} ---> {whole milk}:  conf = 0.402, sup = 0.056\n"
          ],
          "name": "stdout"
        }
      ]
    },
    {
      "cell_type": "markdown",
      "metadata": {
        "id": "lgaB2cOYw-kx",
        "colab_type": "text"
      },
      "source": [
        "The association rule of {yogurt} ---> {whole milk} is interesting because they go very well together and are almost interchangeable in meals."
      ]
    },
    {
      "cell_type": "markdown",
      "metadata": {
        "id": "mLNq2lnqxVnK",
        "colab_type": "text"
      },
      "source": [
        "# Part 2 [40pts]:"
      ]
    },
    {
      "cell_type": "markdown",
      "metadata": {
        "id": "dLEbe8_4xZ-0",
        "colab_type": "text"
      },
      "source": [
        "##Repeat the above process but this time use FP-growth. You may use the code provided here(https://goo.gl/Rv8KAa), or some other Python implementation that you might find online (just be sure to cite your sources)."
      ]
    },
    {
      "cell_type": "markdown",
      "metadata": {
        "id": "wKctQRj-xxmY",
        "colab_type": "text"
      },
      "source": [
        "###FP-growth"
      ]
    },
    {
      "cell_type": "code",
      "metadata": {
        "id": "HfLR8RwEyTli",
        "colab_type": "code",
        "colab": {}
      },
      "source": [
        "# (c) 2014 Reid Johnson\n",
        "#\n",
        "# Modified from:\n",
        "# Eric Naeseth <eric@naeseth.com>\n",
        "# (https://github.com/enaeseth/python-fp-growth/blob/master/fp_growth.py)\n",
        "#\n",
        "# A Python implementation of the FP-growth algorithm.\n",
        "\n",
        "from collections import defaultdict, namedtuple\n",
        "#from itertools import imap\n",
        "\n",
        "__author__ = 'Eric Naeseth <eric@naeseth.com>'\n",
        "__copyright__ = 'Copyright © 2009 Eric Naeseth'\n",
        "__license__ = 'MIT License'\n",
        "\n",
        "def fpgrowth(dataset, min_support=0.5, include_support=True, verbose=False):\n",
        "    \"\"\"Implements the FP-growth algorithm.\n",
        "\n",
        "    The `dataset` parameter can be any iterable of iterables of items.\n",
        "    `min_support` should be an integer specifying the minimum number of\n",
        "    occurrences of an itemset for it to be accepted.\n",
        "\n",
        "    Each item must be hashable (i.e., it must be valid as a member of a\n",
        "    dictionary or a set).\n",
        "\n",
        "    If `include_support` is true, yield (itemset, support) pairs instead of\n",
        "    just the itemsets.\n",
        "\n",
        "    Parameters\n",
        "    ----------\n",
        "    dataset : list\n",
        "        The dataset (a list of transactions) from which to generate \n",
        "        candidate itemsets.\n",
        "\n",
        "    min_support : float\n",
        "        The minimum support threshold. Defaults to 0.5.\n",
        "\n",
        "    include_support : bool\n",
        "        Include support in output (default=False).\n",
        "\n",
        "    References\n",
        "    ----------\n",
        "    .. [1] J. Han, J. Pei, Y. Yin, \"Mining Frequent Patterns without Candidate \n",
        "           Generation,\" 2000.\n",
        "\n",
        "    \"\"\"\n",
        "\n",
        "    F = []\n",
        "    support_data = {}\n",
        "    for k,v in find_frequent_itemsets(dataset, min_support=min_support, include_support=include_support, verbose=verbose):\n",
        "        F.append(frozenset(k))\n",
        "        support_data[frozenset(k)] = v\n",
        "\n",
        "    # Create one array with subarrays that hold all transactions of equal length.\n",
        "    def bucket_list(nested_list, sort=True):\n",
        "        bucket = defaultdict(list)\n",
        "        for sublist in nested_list:\n",
        "            bucket[len(sublist)].append(sublist)\n",
        "        return [v for k,v in sorted(bucket.items())] if sort else bucket.values()\n",
        "\n",
        "    F = bucket_list(F)\n",
        "    \n",
        "    return F, support_data\n",
        "\n",
        "def find_frequent_itemsets(dataset, min_support, include_support=False, verbose=False):\n",
        "    \"\"\"\n",
        "    Find frequent itemsets in the given transactions using FP-growth. This\n",
        "    function returns a generator instead of an eagerly-populated list of items.\n",
        "\n",
        "    The `dataset` parameter can be any iterable of iterables of items.\n",
        "    `min_support` should be an integer specifying the minimum number of\n",
        "    occurrences of an itemset for it to be accepted.\n",
        "\n",
        "    Each item must be hashable (i.e., it must be valid as a member of a\n",
        "    dictionary or a set).\n",
        "\n",
        "    If `include_support` is true, yield (itemset, support) pairs instead of\n",
        "    just the itemsets.\n",
        "\n",
        "    Parameters\n",
        "    ----------\n",
        "    dataset : list\n",
        "        The dataset (a list of transactions) from which to generate \n",
        "        candidate itemsets.\n",
        "\n",
        "    min_support : float\n",
        "        The minimum support threshold. Defaults to 0.5.\n",
        "\n",
        "    include_support : bool\n",
        "        Include support in output (default=False).\n",
        "\n",
        "    \"\"\"\n",
        "    items = defaultdict(lambda: 0) # mapping from items to their supports\n",
        "    processed_transactions = []\n",
        "\n",
        "    # Load the passed-in transactions and count the support that individual\n",
        "    # items have.\n",
        "    for transaction in dataset:\n",
        "        processed = []\n",
        "        for item in transaction:\n",
        "            items[item] += 1\n",
        "            processed.append(item)\n",
        "        processed_transactions.append(processed)\n",
        "\n",
        "    # Remove infrequent items from the item support dictionary.\n",
        "    items = dict((item, support) for item, support in items.items()\n",
        "        if support >= min_support)\n",
        "\n",
        "    # Build our FP-tree. Before any transactions can be added to the tree, they\n",
        "    # must be stripped of infrequent items and their surviving items must be\n",
        "    # sorted in decreasing order of frequency.\n",
        "    def clean_transaction(transaction):\n",
        "        #transaction = filter(lambda v: v in items, transaction)\n",
        "        transaction.sort(key=lambda v: items[v], reverse=True)\n",
        "        return transaction\n",
        "\n",
        "    master = FPTree()\n",
        "    for transaction in map(clean_transaction, processed_transactions):\n",
        "        master.add(transaction)\n",
        "\n",
        "    support_data = {}\n",
        "    def find_with_suffix(tree, suffix):\n",
        "        for item, nodes in tree.items():\n",
        "            support = float(sum(n.count for n in nodes)) / len(dataset)\n",
        "            if support >= min_support and item not in suffix:\n",
        "                # New winner!\n",
        "                found_set = [item] + suffix\n",
        "                support_data[frozenset(found_set)] = support\n",
        "                yield (found_set, support) if include_support else found_set\n",
        "\n",
        "                # Build a conditional tree and recursively search for frequent\n",
        "                # itemsets within it.\n",
        "                cond_tree = conditional_tree_from_paths(tree.prefix_paths(item),\n",
        "                    min_support)\n",
        "                for s in find_with_suffix(cond_tree, found_set):\n",
        "                    yield s # pass along the good news to our caller\n",
        "\n",
        "    if verbose:\n",
        "        # Print a list of all the frequent itemsets.\n",
        "        for itemset, support in find_with_suffix(master, []):\n",
        "            print(\"\" \\\n",
        "                + \"{\" \\\n",
        "                + \"\".join(str(i) + \", \" for i in iter(itemset)).rstrip(', ') \\\n",
        "                + \"}\" \\\n",
        "                + \":  sup = \" + str(round(support_data[frozenset(itemset)], 3)))\n",
        "\n",
        "    # Search for frequent itemsets, and yield the results we find.\n",
        "    for itemset in find_with_suffix(master, []):\n",
        "        yield itemset\n",
        "\n",
        "class FPTree(object):\n",
        "    \"\"\"\n",
        "    An FP tree.\n",
        "\n",
        "    This object may only store transaction items that are hashable (i.e., all\n",
        "    items must be valid as dictionary keys or set members).\n",
        "    \"\"\"\n",
        "\n",
        "    Route = namedtuple('Route', 'head tail')\n",
        "\n",
        "    def __init__(self):\n",
        "        # The root node of the tree.\n",
        "        self._root = FPNode(self, None, None)\n",
        "\n",
        "        # A dictionary mapping items to the head and tail of a path of\n",
        "        # \"neighbors\" that will hit every node containing that item.\n",
        "        self._routes = {}\n",
        "\n",
        "    @property\n",
        "    def root(self):\n",
        "        \"\"\"The root node of the tree.\"\"\"\n",
        "        return self._root\n",
        "\n",
        "    def add(self, transaction):\n",
        "        \"\"\"\n",
        "        Adds a transaction to the tree.\n",
        "        \"\"\"\n",
        "\n",
        "        point = self._root\n",
        "\n",
        "        for item in transaction:\n",
        "            next_point = point.search(item)\n",
        "            if next_point:\n",
        "                # There is already a node in this tree for the current\n",
        "                # transaction item; reuse it.\n",
        "                next_point.increment()\n",
        "            else:\n",
        "                # Create a new point and add it as a child of the point we're\n",
        "                # currently looking at.\n",
        "                next_point = FPNode(self, item)\n",
        "                point.add(next_point)\n",
        "\n",
        "                # Update the route of nodes that contain this item to include\n",
        "                # our new node.\n",
        "                self._update_route(next_point)\n",
        "\n",
        "            point = next_point\n",
        "\n",
        "    def _update_route(self, point):\n",
        "        \"\"\"Add the given node to the route through all nodes for its item.\"\"\"\n",
        "        assert self is point.tree\n",
        "\n",
        "        try:\n",
        "            route = self._routes[point.item]\n",
        "            route[1].neighbor = point # route[1] is the tail\n",
        "            self._routes[point.item] = self.Route(route[0], point)\n",
        "        except KeyError:\n",
        "            # First node for this item; start a new route.\n",
        "            self._routes[point.item] = self.Route(point, point)\n",
        "\n",
        "    def items(self):\n",
        "        \"\"\"\n",
        "        Generate one 2-tuples for each item represented in the tree. The first\n",
        "        element of the tuple is the item itself, and the second element is a\n",
        "        generator that will yield the nodes in the tree that belong to the item.\n",
        "        \"\"\"\n",
        "        for item in self._routes.keys():\n",
        "            yield (item, self.nodes(item))\n",
        "\n",
        "            \n",
        "    def nodes(self, item):\n",
        "        \"\"\"\n",
        "        Generates the sequence of nodes that contain the given item.\n",
        "        \"\"\"\n",
        "\n",
        "        try:\n",
        "            node = self._routes[item][0]\n",
        "        except KeyError:\n",
        "            return\n",
        "\n",
        "        while node:\n",
        "            yield node\n",
        "            node = node.neighbor\n",
        "\n",
        "    def prefix_paths(self, item):\n",
        "        \"\"\"Generates the prefix paths that end with the given item.\"\"\"\n",
        "\n",
        "        def collect_path(node):\n",
        "            path = []\n",
        "            while node and not node.root:\n",
        "                path.append(node)\n",
        "                node = node.parent\n",
        "            path.reverse()\n",
        "            return path\n",
        "\n",
        "        return (collect_path(node) for node in self.nodes(item))\n",
        "\n",
        "    def inspect(self):\n",
        "        print(\"Tree:\")\n",
        "        self.root.inspect(1)\n",
        "\n",
        "        print(\"\")\n",
        "        print(\"Routes:\")\n",
        "        for item, nodes in self.items():\n",
        "            print(\"  %r\" % item)\n",
        "            for node in nodes:\n",
        "                print(\"    %r\" % node)\n",
        "\n",
        "    def _removed(self, node):\n",
        "        \"\"\"Called when `node` is removed from the tree; performs cleanup.\"\"\"\n",
        "\n",
        "        head, tail = self._routes[node.item]\n",
        "        if node is head:\n",
        "            if node is tail or not node.neighbor:\n",
        "                # It was the sole node.\n",
        "                del self._routes[node.item]\n",
        "            else:\n",
        "                self._routes[node.item] = self.Route(node.neighbor, tail)\n",
        "        else:\n",
        "            for n in self.nodes(node.item):\n",
        "                if n.neighbor is node:\n",
        "                    n.neighbor = node.neighbor # skip over\n",
        "                    if node is tail:\n",
        "                        self._routes[node.item] = self.Route(head, n)\n",
        "                    break\n",
        "\n",
        "def conditional_tree_from_paths(paths, min_support):\n",
        "    \"\"\"Builds a conditional FP-tree from the given prefix paths.\"\"\"\n",
        "    tree = FPTree()\n",
        "    condition_item = None\n",
        "    items = set()\n",
        "\n",
        "    # Import the nodes in the paths into the new tree. Only the counts of the\n",
        "    # leaf notes matter; the remaining counts will be reconstructed from the\n",
        "    # leaf counts.\n",
        "    for path in paths:\n",
        "        if condition_item is None:\n",
        "            condition_item = path[-1].item\n",
        "\n",
        "        point = tree.root\n",
        "        for node in path:\n",
        "            next_point = point.search(node.item)\n",
        "            if not next_point:\n",
        "                # Add a new node to the tree.\n",
        "                items.add(node.item)\n",
        "                count = node.count if node.item == condition_item else 0\n",
        "                next_point = FPNode(tree, node.item, count)\n",
        "                point.add(next_point)\n",
        "                tree._update_route(next_point)\n",
        "            point = next_point\n",
        "\n",
        "    assert condition_item is not None\n",
        "\n",
        "    # Calculate the counts of the non-leaf nodes.\n",
        "    for path in tree.prefix_paths(condition_item):\n",
        "        count = path[-1].count\n",
        "        for node in reversed(path[:-1]):\n",
        "            node._count += count\n",
        "\n",
        "    # Eliminate the nodes for any items that are no longer frequent.\n",
        "    for item in items:\n",
        "        support = sum(n.count for n in tree.nodes(item))\n",
        "        if support < min_support:\n",
        "            # Doesn't make the cut anymore\n",
        "            for node in tree.nodes(item):\n",
        "                if node.parent is not None:\n",
        "                    node.parent.remove(node)\n",
        "\n",
        "    # Finally, remove the nodes corresponding to the item for which this\n",
        "    # conditional tree was generated.\n",
        "    for node in tree.nodes(condition_item):\n",
        "        if node.parent is not None: # the node might already be an orphan\n",
        "            node.parent.remove(node)\n",
        "\n",
        "    return tree\n",
        "\n",
        "class FPNode(object):\n",
        "    \"\"\"A node in an FP tree.\"\"\"\n",
        "\n",
        "    def __init__(self, tree, item, count=1):\n",
        "        self._tree = tree\n",
        "        self._item = item\n",
        "        self._count = count\n",
        "        self._parent = None\n",
        "        self._children = {}\n",
        "        self._neighbor = None\n",
        "\n",
        "    def add(self, child):\n",
        "        \"\"\"Adds the given FPNode `child` as a child of this node.\"\"\"\n",
        "\n",
        "        if not isinstance(child, FPNode):\n",
        "            raise TypeError(\"Can only add other FPNodes as children\")\n",
        "\n",
        "        if not child.item in self._children:\n",
        "            self._children[child.item] = child\n",
        "            child.parent = self\n",
        "\n",
        "    def search(self, item):\n",
        "        \"\"\"\n",
        "        Checks to see if this node contains a child node for the given item.\n",
        "        If so, that node is returned; otherwise, `None` is returned.\n",
        "        \"\"\"\n",
        "\n",
        "        try:\n",
        "            return self._children[item]\n",
        "        except KeyError:\n",
        "            return None\n",
        "\n",
        "    def remove(self, child):\n",
        "        try:\n",
        "            if self._children[child.item] is child:\n",
        "                del self._children[child.item]\n",
        "                child.parent = None\n",
        "                self._tree._removed(child)\n",
        "                for sub_child in child.children:\n",
        "                    try:\n",
        "                        # Merger case: we already have a child for that item, so\n",
        "                        # add the sub-child's count to our child's count.\n",
        "                        self._children[sub_child.item]._count += sub_child.count\n",
        "                        sub_child.parent = None # it's an orphan now\n",
        "                    except KeyError:\n",
        "                        # Turns out we don't actually have a child, so just add\n",
        "                        # the sub-child as our own child.\n",
        "                        self.add(sub_child)\n",
        "                child._children = {}\n",
        "            else:\n",
        "                raise ValueError(\"that node is not a child of this node\")\n",
        "        except KeyError:\n",
        "            raise ValueError(\"that node is not a child of this node\")\n",
        "\n",
        "    def __contains__(self, item):\n",
        "        return item in self._children\n",
        "\n",
        "    @property\n",
        "    def tree(self):\n",
        "        \"\"\"The tree in which this node appears.\"\"\"\n",
        "        return self._tree\n",
        "\n",
        "    @property\n",
        "    def item(self):\n",
        "        \"\"\"The item contained in this node.\"\"\"\n",
        "        return self._item\n",
        "\n",
        "    @property\n",
        "    def count(self):\n",
        "        \"\"\"The count associated with this node's item.\"\"\"\n",
        "        return self._count\n",
        "\n",
        "    def increment(self):\n",
        "        \"\"\"Increments the count associated with this node's item.\"\"\"\n",
        "        if self._count is None:\n",
        "            raise ValueError(\"Root nodes have no associated count.\")\n",
        "        self._count += 1\n",
        "\n",
        "    @property\n",
        "    def root(self):\n",
        "        \"\"\"True if this node is the root of a tree; false if otherwise.\"\"\"\n",
        "        return self._item is None and self._count is None\n",
        "\n",
        "    @property\n",
        "    def leaf(self):\n",
        "        \"\"\"True if this node is a leaf in the tree; false if otherwise.\"\"\"\n",
        "        return len(self._children) == 0\n",
        "\n",
        "    def parent():\n",
        "        doc = \"The node's parent.\"\n",
        "        def fget(self):\n",
        "            return self._parent\n",
        "        def fset(self, value):\n",
        "            if value is not None and not isinstance(value, FPNode):\n",
        "                raise TypeError(\"A node must have an FPNode as a parent.\")\n",
        "            if value and value.tree is not self.tree:\n",
        "                raise ValueError(\"Cannot have a parent from another tree.\")\n",
        "            self._parent = value\n",
        "        return locals()\n",
        "    parent = property(**parent())\n",
        "\n",
        "    def neighbor():\n",
        "        doc = \"\"\"\n",
        "        The node's neighbor; the one with the same value that is \"to the right\"\n",
        "        of it in the tree.\n",
        "        \"\"\"\n",
        "        def fget(self):\n",
        "            return self._neighbor\n",
        "        def fset(self, value):\n",
        "            if value is not None and not isinstance(value, FPNode):\n",
        "                raise TypeError(\"A node must have an FPNode as a neighbor.\")\n",
        "            if value and value.tree is not self.tree:\n",
        "                raise ValueError(\"Cannot have a neighbor from another tree.\")\n",
        "            self._neighbor = value\n",
        "        return locals()\n",
        "    neighbor = property(**neighbor())\n",
        "\n",
        "    @property\n",
        "    def children(self):\n",
        "        \"\"\"The nodes that are children of this node.\"\"\"\n",
        "        return tuple(self._children.values())\n",
        "        \n",
        "    def inspect(self, depth=0):\n",
        "        print(('  ' * depth) + repr(self))\n",
        "        for child in self.children:\n",
        "            child.inspect(depth + 1)\n",
        "\n",
        "    def __repr__(self):\n",
        "        if self.root:\n",
        "            return \"<%s (root)>\" % type(self).__name__\n",
        "        return \"<%s %r (%r)>\" % (type(self).__name__, self.item, self.count)\n",
        "\n",
        "def rules_from_conseq(freq_set, H, support_data, rules, min_confidence=0.5, verbose=False):\n",
        "    \"\"\"Generates a set of candidate rules.\n",
        "\n",
        "    Parameters\n",
        "    ----------\n",
        "    freq_set : frozenset\n",
        "        The complete list of frequent itemsets.\n",
        "\n",
        "    H : list\n",
        "        A list of frequent itemsets (of a particular length).\n",
        "\n",
        "    support_data : dict\n",
        "        The support data for all candidate itemsets.\n",
        "\n",
        "    rules : list\n",
        "        A potentially incomplete set of candidate rules above the minimum \n",
        "        confidence threshold.\n",
        "\n",
        "    min_confidence : float\n",
        "        The minimum confidence threshold. Defaults to 0.5.\n",
        "    \"\"\"\n",
        "    m = len(H[0])\n",
        "    if m == 1:\n",
        "        Hmp1 = calc_confidence(freq_set, H, support_data, rules, min_confidence, verbose)\n",
        "    if (len(freq_set) > (m+1)):\n",
        "        Hmp1 = apriori_gen(H, m+1) # generate candidate itemsets\n",
        "        Hmp1 = calc_confidence(freq_set, Hmp1,  support_data, rules, min_confidence, verbose)\n",
        "        if len(Hmp1) > 1:\n",
        "            # If there are candidate rules above the minimum confidence \n",
        "            # threshold, recurse on the list of these candidate rules.\n",
        "            rules_from_conseq(freq_set, Hmp1, support_data, rules, min_confidence, verbose)\n",
        "\n",
        "def calc_confidence(freq_set, H, support_data, rules, min_confidence=0.5, verbose=False):\n",
        "    \"\"\"Evaluates the generated rules.\n",
        "\n",
        "    One measurement for quantifying the goodness of association rules is \n",
        "    confidence. The confidence for a rule 'P implies H' (P -> H) is defined as \n",
        "    the support for P and H divided by the support for P \n",
        "    (support (P|H) / support(P)), where the | symbol denotes the set union \n",
        "    (thus P|H means all the items in set P or in set H).\n",
        "\n",
        "    To calculate the confidence, we iterate through the frequent itemsets and \n",
        "    associated support data. For each frequent itemset, we divide the support \n",
        "    of the itemset by the support of the antecedent (left-hand-side of the \n",
        "    rule).\n",
        "\n",
        "    Parameters\n",
        "    ----------\n",
        "    freq_set : frozenset\n",
        "        The complete list of frequent itemsets.\n",
        "\n",
        "    H : list\n",
        "        A list of frequent itemsets (of a particular length).\n",
        "\n",
        "    min_support : float\n",
        "        The minimum support threshold.\n",
        "\n",
        "    rules : list\n",
        "        A potentially incomplete set of candidate rules above the minimum \n",
        "        confidence threshold.\n",
        "\n",
        "    min_confidence : float\n",
        "        The minimum confidence threshold. Defaults to 0.5.\n",
        "\n",
        "    Returns\n",
        "    -------\n",
        "    pruned_H : list\n",
        "        The list of candidate rules above the minimum confidence threshold.\n",
        "    \"\"\"\n",
        "    pruned_H = [] # list of candidate rules above the minimum confidence threshold\n",
        "    for conseq in H: # iterate over the frequent itemsets\n",
        "        conf = support_data[freq_set] / support_data[freq_set - conseq]\n",
        "        if conf >= min_confidence:\n",
        "            rules.append((freq_set - conseq, conseq, conf))\n",
        "            pruned_H.append(conseq)\n",
        "\n",
        "            if verbose:\n",
        "                print(\"\" \\\n",
        "                    + \"{\" \\\n",
        "                    + \"\".join([str(i) + \", \" for i in iter(freq_set-conseq)]).rstrip(', ') \\\n",
        "                    + \"}\" \\\n",
        "                    + \" ---> \" \\\n",
        "                    + \"{\" \\\n",
        "                    + \"\".join([str(i) + \", \" for i in iter(conseq)]).rstrip(', ') \\\n",
        "                    + \"}\" \\\n",
        "                    + \":  conf = \" + str(round(conf, 3)) \\\n",
        "                    + \", sup = \" + str(round(support_data[freq_set], 3)))\n",
        "\n",
        "    return pruned_H\n",
        "\n",
        "def generate_rules(F, support_data, min_confidence=0.5, verbose=True):\n",
        "    \"\"\"Generates a set of candidate rules from a list of frequent itemsets.\n",
        "\n",
        "    For each frequent itemset, we calculate the confidence of using a\n",
        "    particular item as the rule consequent (right-hand-side of the rule). By \n",
        "    testing and merging the remaining rules, we recursively create a list of \n",
        "    pruned rules.\n",
        "\n",
        "    Parameters\n",
        "    ----------\n",
        "    F : list\n",
        "        A list of frequent itemsets.\n",
        "\n",
        "    support_data : dict\n",
        "        The corresponding support data for the frequent itemsets (L).\n",
        "\n",
        "    min_confidence : float\n",
        "        The minimum confidence threshold. Defaults to 0.5.\n",
        "\n",
        "    Returns\n",
        "    -------\n",
        "    rules : list\n",
        "        The list of candidate rules above the minimum confidence threshold.\n",
        "    \"\"\"\n",
        "    rules = []\n",
        "    for i in range(1, len(F)):\n",
        "        for freq_set in F[i]:\n",
        "            H1 = [frozenset([item]) for item in freq_set]\n",
        "            if (i > 1):\n",
        "                rules_from_conseq(freq_set, H1, support_data, rules, min_confidence, verbose)\n",
        "            else:\n",
        "                calc_confidence(freq_set, H1, support_data, rules, min_confidence, verbose)\n",
        "\n",
        "    return rules"
      ],
      "execution_count": 0,
      "outputs": []
    },
    {
      "cell_type": "markdown",
      "metadata": {
        "id": "iXyZKrh71kwE",
        "colab_type": "text"
      },
      "source": [
        "##Select those that are frequent using FP-Growth function"
      ]
    },
    {
      "cell_type": "markdown",
      "metadata": {
        "colab_type": "text",
        "id": "QQkg8v5C1Si8"
      },
      "source": [
        "###Generate the frequent itemsets  and association rules with minimum support of 3% and confidence of 40%"
      ]
    },
    {
      "cell_type": "code",
      "metadata": {
        "colab_type": "code",
        "outputId": "7fa93241-a11d-469a-a0ff-b0ef2ce11dad",
        "id": "nghr5-Pi1Si-",
        "colab": {
          "base_uri": "https://localhost:8080/",
          "height": 1000
        }
      },
      "source": [
        "F, support_data = fpgrowth(dataset, min_support=0.03, verbose=True)"
      ],
      "execution_count": 30,
      "outputs": [
        {
          "output_type": "stream",
          "text": [
            "{citrus fruit}:  sup = 0.083\n",
            "{whole milk, citrus fruit}:  sup = 0.031\n",
            "{margarine}:  sup = 0.059\n",
            "{yogurt}:  sup = 0.14\n",
            "{whole milk, yogurt}:  sup = 0.056\n",
            "{rolls/buns, yogurt}:  sup = 0.034\n",
            "{other vegetables, yogurt}:  sup = 0.043\n",
            "{tropical fruit}:  sup = 0.105\n",
            "{other vegetables, tropical fruit}:  sup = 0.036\n",
            "{whole milk, tropical fruit}:  sup = 0.042\n",
            "{coffee}:  sup = 0.058\n",
            "{whole milk}:  sup = 0.256\n",
            "{pip fruit}:  sup = 0.076\n",
            "{whole milk, pip fruit}:  sup = 0.03\n",
            "{cream cheese}:  sup = 0.04\n",
            "{other vegetables}:  sup = 0.193\n",
            "{whole milk, other vegetables}:  sup = 0.075\n",
            "{long life bakery product}:  sup = 0.037\n",
            "{butter}:  sup = 0.055\n",
            "{rolls/buns}:  sup = 0.184\n",
            "{other vegetables, rolls/buns}:  sup = 0.043\n",
            "{whole milk, rolls/buns}:  sup = 0.057\n",
            "{bottled beer}:  sup = 0.081\n",
            "{UHT-milk}:  sup = 0.033\n",
            "{bottled water}:  sup = 0.111\n",
            "{whole milk, bottled water}:  sup = 0.034\n",
            "{chocolate}:  sup = 0.05\n",
            "{white bread}:  sup = 0.042\n",
            "{curd}:  sup = 0.053\n",
            "{beef}:  sup = 0.052\n",
            "{soda}:  sup = 0.174\n",
            "{rolls/buns, soda}:  sup = 0.038\n",
            "{whole milk, soda}:  sup = 0.04\n",
            "{other vegetables, soda}:  sup = 0.033\n",
            "{frankfurter}:  sup = 0.059\n",
            "{chicken}:  sup = 0.043\n",
            "{newspapers}:  sup = 0.08\n",
            "{fruit/vegetable juice}:  sup = 0.072\n",
            "{sugar}:  sup = 0.034\n",
            "{pastry}:  sup = 0.089\n",
            "{whole milk, pastry}:  sup = 0.033\n",
            "{root vegetables}:  sup = 0.109\n",
            "{other vegetables, root vegetables}:  sup = 0.047\n",
            "{whole milk, root vegetables}:  sup = 0.049\n",
            "{waffles}:  sup = 0.038\n",
            "{salty snack}:  sup = 0.038\n",
            "{canned beer}:  sup = 0.078\n",
            "{sausage}:  sup = 0.094\n",
            "{rolls/buns, sausage}:  sup = 0.031\n",
            "{shopping bags}:  sup = 0.099\n",
            "{brown bread}:  sup = 0.065\n",
            "{napkins}:  sup = 0.052\n",
            "{hamburger meat}:  sup = 0.033\n",
            "{hygiene articles}:  sup = 0.033\n",
            "{whipped/sour cream}:  sup = 0.072\n",
            "{whole milk, whipped/sour cream}:  sup = 0.032\n",
            "{pork}:  sup = 0.058\n",
            "{berries}:  sup = 0.033\n",
            "{dessert}:  sup = 0.037\n",
            "{domestic eggs}:  sup = 0.063\n",
            "{frozen vegetables}:  sup = 0.048\n",
            "{specialty chocolate}:  sup = 0.03\n",
            "{onions}:  sup = 0.031\n"
          ],
          "name": "stdout"
        }
      ]
    },
    {
      "cell_type": "markdown",
      "metadata": {
        "colab_type": "text",
        "id": "5Y04K_hj1SjF"
      },
      "source": [
        "Generating association rules for the above itemset."
      ]
    },
    {
      "cell_type": "code",
      "metadata": {
        "colab_type": "code",
        "outputId": "75c28069-9e6d-4b1f-a9e3-5a5ea3d6c961",
        "id": "gEkj9eaS1SjG",
        "colab": {
          "base_uri": "https://localhost:8080/",
          "height": 102
        }
      },
      "source": [
        "H = generate_rules(F, support_data, min_confidence=0.4, verbose=True)"
      ],
      "execution_count": 0,
      "outputs": [
        {
          "output_type": "stream",
          "text": [
            "{whipped/sour cream} ---> {whole milk}:  conf = 0.45, sup = 0.032\n",
            "{root vegetables} ---> {whole milk}:  conf = 0.449, sup = 0.049\n",
            "{root vegetables} ---> {other vegetables}:  conf = 0.435, sup = 0.047\n",
            "{tropical fruit} ---> {whole milk}:  conf = 0.403, sup = 0.042\n",
            "{yogurt} ---> {whole milk}:  conf = 0.402, sup = 0.056\n"
          ],
          "name": "stdout"
        }
      ]
    },
    {
      "cell_type": "markdown",
      "metadata": {
        "colab_type": "text",
        "id": "axQTDgLl1SjM"
      },
      "source": [
        "The association rule of {root vegetables} ---> {other vegetables} is interesting because that usually consists of people's lunch."
      ]
    },
    {
      "cell_type": "markdown",
      "metadata": {
        "colab_type": "text",
        "id": "zJtrKR_i1SjN"
      },
      "source": [
        "###Generate the frequent itemsets  and association rules with minimum support of 4% and confidence of 40%"
      ]
    },
    {
      "cell_type": "code",
      "metadata": {
        "colab_type": "code",
        "outputId": "95f80c26-f74c-412b-b460-6f43825a5835",
        "id": "_hZvrmN31SjO",
        "colab": {
          "base_uri": "https://localhost:8080/",
          "height": 714
        }
      },
      "source": [
        "F, support_data = fpgrowth(dataset, min_support=0.04, verbose=True)"
      ],
      "execution_count": 31,
      "outputs": [
        {
          "output_type": "stream",
          "text": [
            "{citrus fruit}:  sup = 0.083\n",
            "{margarine}:  sup = 0.059\n",
            "{yogurt}:  sup = 0.14\n",
            "{whole milk, yogurt}:  sup = 0.056\n",
            "{other vegetables, yogurt}:  sup = 0.043\n",
            "{tropical fruit}:  sup = 0.105\n",
            "{whole milk, tropical fruit}:  sup = 0.042\n",
            "{coffee}:  sup = 0.058\n",
            "{whole milk}:  sup = 0.256\n",
            "{pip fruit}:  sup = 0.076\n",
            "{other vegetables}:  sup = 0.193\n",
            "{whole milk, other vegetables}:  sup = 0.075\n",
            "{butter}:  sup = 0.055\n",
            "{rolls/buns}:  sup = 0.184\n",
            "{other vegetables, rolls/buns}:  sup = 0.043\n",
            "{whole milk, rolls/buns}:  sup = 0.057\n",
            "{bottled beer}:  sup = 0.081\n",
            "{bottled water}:  sup = 0.111\n",
            "{chocolate}:  sup = 0.05\n",
            "{white bread}:  sup = 0.042\n",
            "{curd}:  sup = 0.053\n",
            "{beef}:  sup = 0.052\n",
            "{soda}:  sup = 0.174\n",
            "{whole milk, soda}:  sup = 0.04\n",
            "{frankfurter}:  sup = 0.059\n",
            "{chicken}:  sup = 0.043\n",
            "{newspapers}:  sup = 0.08\n",
            "{fruit/vegetable juice}:  sup = 0.072\n",
            "{pastry}:  sup = 0.089\n",
            "{root vegetables}:  sup = 0.109\n",
            "{other vegetables, root vegetables}:  sup = 0.047\n",
            "{whole milk, root vegetables}:  sup = 0.049\n",
            "{canned beer}:  sup = 0.078\n",
            "{sausage}:  sup = 0.094\n",
            "{shopping bags}:  sup = 0.099\n",
            "{brown bread}:  sup = 0.065\n",
            "{napkins}:  sup = 0.052\n",
            "{whipped/sour cream}:  sup = 0.072\n",
            "{pork}:  sup = 0.058\n",
            "{domestic eggs}:  sup = 0.063\n",
            "{frozen vegetables}:  sup = 0.048\n"
          ],
          "name": "stdout"
        }
      ]
    },
    {
      "cell_type": "markdown",
      "metadata": {
        "colab_type": "text",
        "id": "ZprrP9fa1SjR"
      },
      "source": [
        "Generating association rules for the above itemset."
      ]
    },
    {
      "cell_type": "code",
      "metadata": {
        "colab_type": "code",
        "outputId": "e6786d39-e416-4460-9a21-625d997c5454",
        "id": "AoDKwbTf1SjS",
        "colab": {
          "base_uri": "https://localhost:8080/",
          "height": 85
        }
      },
      "source": [
        "H = generate_rules(F, support_data, min_confidence=0.4, verbose=True)"
      ],
      "execution_count": 0,
      "outputs": [
        {
          "output_type": "stream",
          "text": [
            "{root vegetables} ---> {whole milk}:  conf = 0.449, sup = 0.049\n",
            "{root vegetables} ---> {other vegetables}:  conf = 0.435, sup = 0.047\n",
            "{tropical fruit} ---> {whole milk}:  conf = 0.403, sup = 0.042\n",
            "{yogurt} ---> {whole milk}:  conf = 0.402, sup = 0.056\n"
          ],
          "name": "stdout"
        }
      ]
    },
    {
      "cell_type": "markdown",
      "metadata": {
        "colab_type": "text",
        "id": "5rydYz6d1SjX"
      },
      "source": [
        "The association rule of {tropical fruit} ---> {whole milk} is interesting because custards and other esserts could make them a combination."
      ]
    },
    {
      "cell_type": "markdown",
      "metadata": {
        "colab_type": "text",
        "id": "_qSyelZf1SjY"
      },
      "source": [
        "###Generate the frequent itemsets  and association rules with minimum support of 5% and confidence of 40%"
      ]
    },
    {
      "cell_type": "code",
      "metadata": {
        "colab_type": "code",
        "outputId": "5ce23eb7-cde5-4ebe-b968-36e079ff5ef7",
        "id": "v731XypL1SjZ",
        "colab": {
          "base_uri": "https://localhost:8080/",
          "height": 544
        }
      },
      "source": [
        "F, support_data = fpgrowth(dataset, min_support=0.05, verbose=True)"
      ],
      "execution_count": 32,
      "outputs": [
        {
          "output_type": "stream",
          "text": [
            "{citrus fruit}:  sup = 0.083\n",
            "{margarine}:  sup = 0.059\n",
            "{yogurt}:  sup = 0.14\n",
            "{whole milk, yogurt}:  sup = 0.056\n",
            "{tropical fruit}:  sup = 0.105\n",
            "{coffee}:  sup = 0.058\n",
            "{whole milk}:  sup = 0.256\n",
            "{pip fruit}:  sup = 0.076\n",
            "{other vegetables}:  sup = 0.193\n",
            "{whole milk, other vegetables}:  sup = 0.075\n",
            "{butter}:  sup = 0.055\n",
            "{rolls/buns}:  sup = 0.184\n",
            "{whole milk, rolls/buns}:  sup = 0.057\n",
            "{bottled beer}:  sup = 0.081\n",
            "{bottled water}:  sup = 0.111\n",
            "{curd}:  sup = 0.053\n",
            "{beef}:  sup = 0.052\n",
            "{soda}:  sup = 0.174\n",
            "{frankfurter}:  sup = 0.059\n",
            "{newspapers}:  sup = 0.08\n",
            "{fruit/vegetable juice}:  sup = 0.072\n",
            "{pastry}:  sup = 0.089\n",
            "{root vegetables}:  sup = 0.109\n",
            "{canned beer}:  sup = 0.078\n",
            "{sausage}:  sup = 0.094\n",
            "{shopping bags}:  sup = 0.099\n",
            "{brown bread}:  sup = 0.065\n",
            "{napkins}:  sup = 0.052\n",
            "{whipped/sour cream}:  sup = 0.072\n",
            "{pork}:  sup = 0.058\n",
            "{domestic eggs}:  sup = 0.063\n"
          ],
          "name": "stdout"
        }
      ]
    },
    {
      "cell_type": "markdown",
      "metadata": {
        "colab_type": "text",
        "id": "0DVT6tTW1Sjd"
      },
      "source": [
        "Generating association rules for the above itemset."
      ]
    },
    {
      "cell_type": "code",
      "metadata": {
        "colab_type": "code",
        "outputId": "fe225767-7aed-456d-bc45-76a55099da7d",
        "id": "SPmbiDva1Sje",
        "colab": {
          "base_uri": "https://localhost:8080/",
          "height": 34
        }
      },
      "source": [
        "H = generate_rules(F, support_data, min_confidence=0.4, verbose=True)"
      ],
      "execution_count": 0,
      "outputs": [
        {
          "output_type": "stream",
          "text": [
            "{yogurt} ---> {whole milk}:  conf = 0.402, sup = 0.056\n"
          ],
          "name": "stdout"
        }
      ]
    },
    {
      "cell_type": "markdown",
      "metadata": {
        "colab_type": "text",
        "id": "Q7ZLBSkS1Sji"
      },
      "source": [
        "The association rule of {yogurt} ---> {whole milk} is interesting because they go very well together and are almost interchangeable in meals."
      ]
    },
    {
      "cell_type": "markdown",
      "metadata": {
        "id": "HDZxZG-L2IRJ",
        "colab_type": "text"
      },
      "source": [
        "We see that the results of listing association rules using Apriori and FPgrowth functions are both same for the frequent itemset for a given set of minimum support and confidence."
      ]
    },
    {
      "cell_type": "markdown",
      "metadata": {
        "id": "aUgFzHIY_kpR",
        "colab_type": "text"
      },
      "source": [
        "#Part 3 [20pts]"
      ]
    },
    {
      "cell_type": "markdown",
      "metadata": {
        "id": "XstQMD9I_qXk",
        "colab_type": "text"
      },
      "source": [
        "##Write two short paragraphs describing the following:\n",
        "1. How could this exercise directly impact the day-to-day business of a grocery store?\n",
        "2. What are other potential applications for association rules?"
      ]
    },
    {
      "cell_type": "markdown",
      "metadata": {
        "id": "94MG2iDJ_tKA",
        "colab_type": "text"
      },
      "source": [
        "1. Association rules can play a pivotal part in setting successful business trends for grocery stores. \n",
        "\n",
        "They strongly suggest that customers hav buying pattern in which they shop for their groceries and utilizing these patterns to arrange items in the store might be extremely beneficial for the grocery profits. For instance, if an association rule tells us that eggs and milk are bought together as they form the most common breakfast in many households, keeping them together would definitely increase the chances of people buying milk buying eggs too resulting in profit for the grocery store\n",
        "\n",
        "2. Some other potential applications of association rules are outlined below:\n",
        "\n",
        " a. Census Data- Association rules can come in handy to predict trends of a particular demographic, for example how likely it is for people working in a specific industry to earn within a specific range of salary , which in turn could associate with different standard of living quotients.\n",
        "\n",
        " b. Medical Diagnoses- Association rules could help in grouping symptoms together to understand how likely it is for someone with a set of symptoms to be affected by a particular illness and this could also lead to help prevent some people falling sick if they show some early associated symptoms."
      ]
    }
  ]
}