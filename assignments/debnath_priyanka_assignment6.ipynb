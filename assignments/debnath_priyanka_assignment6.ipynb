{
  "nbformat": 4,
  "nbformat_minor": 0,
  "metadata": {
    "colab": {
      "name": "debnath_priyanka_assignment6.ipynb",
      "provenance": [],
      "collapsed_sections": []
    },
    "kernelspec": {
      "name": "python3",
      "display_name": "Python 3"
    },
    "accelerator": "GPU"
  },
  "cells": [
    {
      "cell_type": "markdown",
      "metadata": {
        "id": "otlj7SUY7ZSG",
        "colab_type": "text"
      },
      "source": [
        "# Helper Function"
      ]
    },
    {
      "cell_type": "code",
      "metadata": {
        "id": "JrsTRP-Q7csN",
        "colab_type": "code",
        "colab": {
          "base_uri": "https://localhost:8080/",
          "height": 34
        },
        "outputId": "39c5c5ef-8868-4626-8ec5-b2e42e539cf6"
      },
      "source": [
        "%pylab inline\n",
        "\n",
        "# (c) 2014 Reid Johnson and Everaldo Aguiar\n",
        "#\n",
        "# Functions to work with continuous data and linear regression models.\n",
        "\n",
        "import matplotlib.pyplot as pl\n",
        "import pandas as pd\n",
        "\n",
        "def pairs(data):\n",
        "    \"\"\"Generates and shows a pairwise scatterplot of the dataset features.\n",
        "\n",
        "    A figure with nxn scatterplots is generated, where n is the number of features. The features are\n",
        "    defined as the all columns excluding the final column, which is defined as the class.\n",
        "\n",
        "    Args:\n",
        "      data (array): A dataset.\n",
        "\n",
        "    \"\"\"\n",
        "    i = 1\n",
        "\n",
        "    # Divide columns into features and class.\n",
        "    features = list(data.columns)\n",
        "    classes = features[-1] # create class column\n",
        "    del features[-1] # delete class column from feature vector\n",
        "\n",
        "    # Generate an nxn subplot figure, where n is the number of features.\n",
        "    figure = pl.figure(figsize=(5*(len(data.columns)-1), 4*(len(data.columns)-1)))\n",
        "    for col1 in data[features]:\n",
        "        for col2 in data[features]:\n",
        "            ax = pl.subplot(len(data.columns)-1, len(data.columns)-1, i)\n",
        "            if col1 == col2:\n",
        "                ax.text(2.5, 4.5, col1, style='normal', fontsize=20)\n",
        "                ax.axis([0, 10, 0, 10])\n",
        "                pl.xticks([]), pl.yticks([])\n",
        "            else:\n",
        "                for name in data[classes]:\n",
        "                    cond = data[classes] == name\n",
        "                    ax.plot(data[col2][cond], data[col1][cond], linestyle='none', marker='o', label=name)\n",
        "                #t = plt.title(name)\n",
        "            i += 1\n",
        "\n",
        "    pl.show()"
      ],
      "execution_count": 16,
      "outputs": [
        {
          "output_type": "stream",
          "text": [
            "Populating the interactive namespace from numpy and matplotlib\n"
          ],
          "name": "stdout"
        }
      ]
    },
    {
      "cell_type": "markdown",
      "metadata": {
        "id": "X2FiIfLc-Z9_",
        "colab_type": "text"
      },
      "source": [
        "#Loading the dataset"
      ]
    },
    {
      "cell_type": "code",
      "metadata": {
        "id": "o3TqVBst-c8t",
        "colab_type": "code",
        "colab": {}
      },
      "source": [
        "import pandas as pd\n",
        "\n",
        "fileURL = 'http://archive.ics.uci.edu/ml/machine-learning-databases/iris/iris.data'\n",
        "iris = pd.read_csv(fileURL, names=['Sepal Length', 'Sepal Width',\n",
        "                                   'Petal Length', 'Petal Width', \n",
        "                                   'Species'], header=None)\n",
        "iris = iris.dropna()"
      ],
      "execution_count": 0,
      "outputs": []
    },
    {
      "cell_type": "markdown",
      "metadata": {
        "id": "zmOJWr9t_o4y",
        "colab_type": "text"
      },
      "source": [
        "#Assignment"
      ]
    },
    {
      "cell_type": "markdown",
      "metadata": {
        "id": "UCmVJBZk-1F_",
        "colab_type": "text"
      },
      "source": [
        "##ScatterPlot"
      ]
    },
    {
      "cell_type": "markdown",
      "metadata": {
        "id": "jSNuAtRx-6t9",
        "colab_type": "text"
      },
      "source": [
        "###A scatterplot matrix of scatterplots, with one scatterplot for each pairwise combination of features."
      ]
    },
    {
      "cell_type": "code",
      "metadata": {
        "id": "FzOtT8R1-92X",
        "colab_type": "code",
        "colab": {
          "base_uri": "https://localhost:8080/",
          "height": 918
        },
        "outputId": "498a393c-04f0-4cd1-d777-c04df99459b6"
      },
      "source": [
        "pairs(iris)"
      ],
      "execution_count": 18,
      "outputs": [
        {
          "output_type": "display_data",
          "data": {
            "image/png": "[encoded data removed]",
            "text/plain": [
              "<Figure size 1440x1152 with 16 Axes>"
            ]
          },
          "metadata": {
            "tags": []
          }
        }
      ]
    },
    {
      "cell_type": "markdown",
      "metadata": {
        "id": "9bsuXcJt_gDC",
        "colab_type": "text"
      },
      "source": [
        "##Linear Regression Models"
      ]
    },
    {
      "cell_type": "markdown",
      "metadata": {
        "id": "8pm6Xol-_xp6",
        "colab_type": "text"
      },
      "source": [
        "###A plot of the linear regression models generated on each pairwise combination of features, with corresponding model statistics."
      ]
    },
    {
      "cell_type": "code",
      "metadata": {
        "id": "NPZZ210f_2tl",
        "colab_type": "code",
        "colab": {}
      },
      "source": [
        "# Code source: Jaques Grobler\n",
        "# License: BSD 3 clause\n",
        "\n",
        "from sklearn import linear_model\n",
        "from sklearn.model_selection import train_test_split\n",
        "\n",
        "def plot_linear_regression_model_statistics(feature1, feature2, feature3):\n",
        "    iris_X = None\n",
        "    if (feature3):\n",
        "        iris_X = iris.as_matrix([feature1, feature3])\n",
        "    else:\n",
        "        iris_X = iris.as_matrix([feature1])\n",
        "        \n",
        "    iris_Y = iris.as_matrix([feature2])\n",
        "    \n",
        "    iris_X_train, iris_X_test, iris_Y_train, iris_Y_test = train_test_split(iris_X, iris_Y, test_size=0.33, random_state=42)\n",
        "    \n",
        "    # Create Linear regression object\n",
        "    regr = linear_model.LinearRegression()\n",
        "    \n",
        "    # Train the model using the training sets\n",
        "    regr.fit(iris_X_train, iris_Y_train)\n",
        "    \n",
        "    # The coefficients\n",
        "    print('Coefficients: \\n', regr.coef_)\n",
        "    # The mean squared error\n",
        "    print(\"Mean squared error: %.2f\"\n",
        "          % np.mean((regr.predict(iris_X_test) - iris_Y_test) ** 2))\n",
        "    # Explained variance score: 1 is perfect prediction\n",
        "    print('Variance score: %.2f' % regr.score(iris_X_test, iris_Y_test))\n",
        "\n",
        "    # Plot outputs\n",
        "    if (feature3 == None):\n",
        "        plt.scatter(iris_X_test, iris_Y_test,  color='orange')\n",
        "        plt.plot(iris_X_test, regr.predict(iris_X_test), color='blue',\n",
        "                 linewidth=3)\n",
        "\n",
        "        plt.xticks(())\n",
        "        plt.yticks(())\n",
        "\n",
        "        plt.show()"
      ],
      "execution_count": 0,
      "outputs": []
    },
    {
      "cell_type": "markdown",
      "metadata": {
        "id": "tdANXCxBCfkT",
        "colab_type": "text"
      },
      "source": [
        "####Sepal Length to Sepal Width"
      ]
    },
    {
      "cell_type": "code",
      "metadata": {
        "id": "IKAkXXwOCy5Y",
        "colab_type": "code",
        "colab": {
          "base_uri": "https://localhost:8080/",
          "height": 388
        },
        "outputId": "fff27d79-f576-4f2a-9999-7b4f97ca28e1"
      },
      "source": [
        "plot_linear_regression_model_statistics('Sepal Length', 'Sepal Width', None)"
      ],
      "execution_count": 20,
      "outputs": [
        {
          "output_type": "stream",
          "text": [
            "Coefficients: \n",
            " [[-0.02444726]]\n",
            "Mean squared error: 0.22\n",
            "Variance score: -0.08\n"
          ],
          "name": "stdout"
        },
        {
          "output_type": "stream",
          "text": [
            "/usr/local/lib/python3.6/dist-packages/ipykernel_launcher.py:10: FutureWarning: Method .as_matrix will be removed in a future version. Use .values instead.\n",
            "  # Remove the CWD from sys.path while we load stuff.\n",
            "/usr/local/lib/python3.6/dist-packages/ipykernel_launcher.py:12: FutureWarning: Method .as_matrix will be removed in a future version. Use .values instead.\n",
            "  if sys.path[0] == '':\n"
          ],
          "name": "stderr"
        },
        {
          "output_type": "display_data",
          "data": {
            "image/png": "[encoded data removed]",
            "text/plain": [
              "<Figure size 432x288 with 1 Axes>"
            ]
          },
          "metadata": {
            "tags": []
          }
        }
      ]
    },
    {
      "cell_type": "markdown",
      "metadata": {
        "colab_type": "text",
        "id": "Qxf2vxmeDvtV"
      },
      "source": [
        "####Sepal Length to Petal Width"
      ]
    },
    {
      "cell_type": "code",
      "metadata": {
        "colab_type": "code",
        "outputId": "e2c653b7-33eb-485d-8f6c-3a2a1b5c9545",
        "id": "-bnTjSiODvtY",
        "colab": {
          "base_uri": "https://localhost:8080/",
          "height": 388
        }
      },
      "source": [
        "plot_linear_regression_model_statistics('Sepal Length', 'Petal Width', None)"
      ],
      "execution_count": 21,
      "outputs": [
        {
          "output_type": "stream",
          "text": [
            "Coefficients: \n",
            " [[0.7104469]]\n",
            "Mean squared error: 0.17\n",
            "Variance score: 0.73\n"
          ],
          "name": "stdout"
        },
        {
          "output_type": "stream",
          "text": [
            "/usr/local/lib/python3.6/dist-packages/ipykernel_launcher.py:10: FutureWarning: Method .as_matrix will be removed in a future version. Use .values instead.\n",
            "  # Remove the CWD from sys.path while we load stuff.\n",
            "/usr/local/lib/python3.6/dist-packages/ipykernel_launcher.py:12: FutureWarning: Method .as_matrix will be removed in a future version. Use .values instead.\n",
            "  if sys.path[0] == '':\n"
          ],
          "name": "stderr"
        },
        {
          "output_type": "display_data",
          "data": {
            "image/png": "[encoded data removed]",
            "text/plain": [
              "<Figure size 432x288 with 1 Axes>"
            ]
          },
          "metadata": {
            "tags": []
          }
        }
      ]
    },
    {
      "cell_type": "markdown",
      "metadata": {
        "colab_type": "text",
        "id": "qlzG09lQDhyB"
      },
      "source": [
        "####Sepal Length to Petal Length"
      ]
    },
    {
      "cell_type": "code",
      "metadata": {
        "colab_type": "code",
        "outputId": "0426ae83-76f5-41a7-9c8b-c78417371fe4",
        "id": "WufpJ__KDhyE",
        "colab": {
          "base_uri": "https://localhost:8080/",
          "height": 388
        }
      },
      "source": [
        "plot_linear_regression_model_statistics('Sepal Length', 'Petal Length', None)"
      ],
      "execution_count": 22,
      "outputs": [
        {
          "output_type": "stream",
          "text": [
            "Coefficients: \n",
            " [[1.79648272]]\n",
            "Mean squared error: 0.77\n",
            "Variance score: 0.77\n"
          ],
          "name": "stdout"
        },
        {
          "output_type": "stream",
          "text": [
            "/usr/local/lib/python3.6/dist-packages/ipykernel_launcher.py:10: FutureWarning: Method .as_matrix will be removed in a future version. Use .values instead.\n",
            "  # Remove the CWD from sys.path while we load stuff.\n",
            "/usr/local/lib/python3.6/dist-packages/ipykernel_launcher.py:12: FutureWarning: Method .as_matrix will be removed in a future version. Use .values instead.\n",
            "  if sys.path[0] == '':\n"
          ],
          "name": "stderr"
        },
        {
          "output_type": "display_data",
          "data": {
            "image/png": "[encoded data removed]",
            "text/plain": [
              "<Figure size 432x288 with 1 Axes>"
            ]
          },
          "metadata": {
            "tags": []
          }
        }
      ]
    },
    {
      "cell_type": "markdown",
      "metadata": {
        "colab_type": "text",
        "id": "PB-4KVLeE9ip"
      },
      "source": [
        "####Petal Length to Sepal Length"
      ]
    },
    {
      "cell_type": "code",
      "metadata": {
        "colab_type": "code",
        "outputId": "60859ad0-c15d-4581-d8aa-6ad4c3beef91",
        "id": "X3UQGfZ4E9is",
        "colab": {
          "base_uri": "https://localhost:8080/",
          "height": 388
        }
      },
      "source": [
        "plot_linear_regression_model_statistics('Petal Length', 'Sepal Length', None)"
      ],
      "execution_count": 23,
      "outputs": [
        {
          "output_type": "stream",
          "text": [
            "Coefficients: \n",
            " [[0.41657395]]\n",
            "Mean squared error: 0.15\n",
            "Variance score: 0.77\n"
          ],
          "name": "stdout"
        },
        {
          "output_type": "stream",
          "text": [
            "/usr/local/lib/python3.6/dist-packages/ipykernel_launcher.py:10: FutureWarning: Method .as_matrix will be removed in a future version. Use .values instead.\n",
            "  # Remove the CWD from sys.path while we load stuff.\n",
            "/usr/local/lib/python3.6/dist-packages/ipykernel_launcher.py:12: FutureWarning: Method .as_matrix will be removed in a future version. Use .values instead.\n",
            "  if sys.path[0] == '':\n"
          ],
          "name": "stderr"
        },
        {
          "output_type": "display_data",
          "data": {
            "image/png": "[encoded data removed]",
            "text/plain": [
              "<Figure size 432x288 with 1 Axes>"
            ]
          },
          "metadata": {
            "tags": []
          }
        }
      ]
    },
    {
      "cell_type": "markdown",
      "metadata": {
        "colab_type": "text",
        "id": "u0g7wU_BFKrj"
      },
      "source": [
        "####Petal Length to Sepal Width"
      ]
    },
    {
      "cell_type": "code",
      "metadata": {
        "colab_type": "code",
        "outputId": "47dc8753-9bc9-4c24-c0dc-ad7b54ba1896",
        "id": "W4w6yELRFKrl",
        "colab": {
          "base_uri": "https://localhost:8080/",
          "height": 388
        }
      },
      "source": [
        "plot_linear_regression_model_statistics('Petal Length', 'Sepal Width', None)"
      ],
      "execution_count": 24,
      "outputs": [
        {
          "output_type": "stream",
          "text": [
            "Coefficients: \n",
            " [[-0.08552093]]\n",
            "Mean squared error: 0.17\n",
            "Variance score: 0.16\n"
          ],
          "name": "stdout"
        },
        {
          "output_type": "stream",
          "text": [
            "/usr/local/lib/python3.6/dist-packages/ipykernel_launcher.py:10: FutureWarning: Method .as_matrix will be removed in a future version. Use .values instead.\n",
            "  # Remove the CWD from sys.path while we load stuff.\n",
            "/usr/local/lib/python3.6/dist-packages/ipykernel_launcher.py:12: FutureWarning: Method .as_matrix will be removed in a future version. Use .values instead.\n",
            "  if sys.path[0] == '':\n"
          ],
          "name": "stderr"
        },
        {
          "output_type": "display_data",
          "data": {
            "image/png": "[encoded data removed]",
            "text/plain": [
              "<Figure size 432x288 with 1 Axes>"
            ]
          },
          "metadata": {
            "tags": []
          }
        }
      ]
    },
    {
      "cell_type": "markdown",
      "metadata": {
        "colab_type": "text",
        "id": "zldVQgTaFSNX"
      },
      "source": [
        "####Petal Length to Petal Width"
      ]
    },
    {
      "cell_type": "code",
      "metadata": {
        "colab_type": "code",
        "outputId": "3ae8f4d6-566b-411a-fa24-f2df44f53b9c",
        "id": "3K68DEhJFSNZ",
        "colab": {
          "base_uri": "https://localhost:8080/",
          "height": 388
        }
      },
      "source": [
        "plot_linear_regression_model_statistics('Petal Length', 'Petal Width', None)"
      ],
      "execution_count": 25,
      "outputs": [
        {
          "output_type": "stream",
          "text": [
            "Coefficients: \n",
            " [[0.41350253]]\n",
            "Mean squared error: 0.04\n",
            "Variance score: 0.94\n"
          ],
          "name": "stdout"
        },
        {
          "output_type": "stream",
          "text": [
            "/usr/local/lib/python3.6/dist-packages/ipykernel_launcher.py:10: FutureWarning: Method .as_matrix will be removed in a future version. Use .values instead.\n",
            "  # Remove the CWD from sys.path while we load stuff.\n",
            "/usr/local/lib/python3.6/dist-packages/ipykernel_launcher.py:12: FutureWarning: Method .as_matrix will be removed in a future version. Use .values instead.\n",
            "  if sys.path[0] == '':\n"
          ],
          "name": "stderr"
        },
        {
          "output_type": "display_data",
          "data": {
            "image/png": "[encoded data removed]",
            "text/plain": [
              "<Figure size 432x288 with 1 Axes>"
            ]
          },
          "metadata": {
            "tags": []
          }
        }
      ]
    },
    {
      "cell_type": "markdown",
      "metadata": {
        "colab_type": "text",
        "id": "owSu0IIXFltV"
      },
      "source": [
        "####Petal Width to Sepal Width"
      ]
    },
    {
      "cell_type": "code",
      "metadata": {
        "colab_type": "code",
        "outputId": "2654da75-4072-48a4-d408-38a0bd2610cc",
        "id": "fX_SIOK7FltX",
        "colab": {
          "base_uri": "https://localhost:8080/",
          "height": 388
        }
      },
      "source": [
        "plot_linear_regression_model_statistics('Petal Width', 'Sepal Width', None)"
      ],
      "execution_count": 26,
      "outputs": [
        {
          "output_type": "stream",
          "text": [
            "Coefficients: \n",
            " [[-0.16239304]]\n",
            "Mean squared error: 0.18\n",
            "Variance score: 0.09\n"
          ],
          "name": "stdout"
        },
        {
          "output_type": "stream",
          "text": [
            "/usr/local/lib/python3.6/dist-packages/ipykernel_launcher.py:10: FutureWarning: Method .as_matrix will be removed in a future version. Use .values instead.\n",
            "  # Remove the CWD from sys.path while we load stuff.\n",
            "/usr/local/lib/python3.6/dist-packages/ipykernel_launcher.py:12: FutureWarning: Method .as_matrix will be removed in a future version. Use .values instead.\n",
            "  if sys.path[0] == '':\n"
          ],
          "name": "stderr"
        },
        {
          "output_type": "display_data",
          "data": {
            "image/png": "[encoded data removed]",
            "text/plain": [
              "<Figure size 432x288 with 1 Axes>"
            ]
          },
          "metadata": {
            "tags": []
          }
        }
      ]
    },
    {
      "cell_type": "markdown",
      "metadata": {
        "colab_type": "text",
        "id": "mEBYGU0cFu9F"
      },
      "source": [
        "####Petal Width to Sepal Length"
      ]
    },
    {
      "cell_type": "code",
      "metadata": {
        "colab_type": "code",
        "outputId": "e15eeb8f-607a-4ce6-c5fe-e8213fa91b6a",
        "id": "y4BbXdQnFu9H",
        "colab": {
          "base_uri": "https://localhost:8080/",
          "height": 388
        }
      },
      "source": [
        "plot_linear_regression_model_statistics('Petal Width', 'Sepal Length', None)"
      ],
      "execution_count": 27,
      "outputs": [
        {
          "output_type": "stream",
          "text": [
            "Coefficients: \n",
            " [[0.88457601]]\n",
            "Mean squared error: 0.17\n",
            "Variance score: 0.74\n"
          ],
          "name": "stdout"
        },
        {
          "output_type": "stream",
          "text": [
            "/usr/local/lib/python3.6/dist-packages/ipykernel_launcher.py:10: FutureWarning: Method .as_matrix will be removed in a future version. Use .values instead.\n",
            "  # Remove the CWD from sys.path while we load stuff.\n",
            "/usr/local/lib/python3.6/dist-packages/ipykernel_launcher.py:12: FutureWarning: Method .as_matrix will be removed in a future version. Use .values instead.\n",
            "  if sys.path[0] == '':\n"
          ],
          "name": "stderr"
        },
        {
          "output_type": "display_data",
          "data": {
            "image/png": "[encoded data removed]",
            "text/plain": [
              "<Figure size 432x288 with 1 Axes>"
            ]
          },
          "metadata": {
            "tags": []
          }
        }
      ]
    },
    {
      "cell_type": "markdown",
      "metadata": {
        "colab_type": "text",
        "id": "ZBkhs7osF41c"
      },
      "source": [
        "####Petal Width to Petal Length"
      ]
    },
    {
      "cell_type": "code",
      "metadata": {
        "colab_type": "code",
        "outputId": "8370a1d9-5ed2-48cc-c65c-6e8cd93039d8",
        "id": "5bjIv5UTF41e",
        "colab": {
          "base_uri": "https://localhost:8080/",
          "height": 388
        }
      },
      "source": [
        "plot_linear_regression_model_statistics('Petal Width', 'Petal Length', None)"
      ],
      "execution_count": 28,
      "outputs": [
        {
          "output_type": "stream",
          "text": [
            "Coefficients: \n",
            " [[2.22030508]]\n",
            "Mean squared error: 0.19\n",
            "Variance score: 0.94\n"
          ],
          "name": "stdout"
        },
        {
          "output_type": "stream",
          "text": [
            "/usr/local/lib/python3.6/dist-packages/ipykernel_launcher.py:10: FutureWarning: Method .as_matrix will be removed in a future version. Use .values instead.\n",
            "  # Remove the CWD from sys.path while we load stuff.\n",
            "/usr/local/lib/python3.6/dist-packages/ipykernel_launcher.py:12: FutureWarning: Method .as_matrix will be removed in a future version. Use .values instead.\n",
            "  if sys.path[0] == '':\n"
          ],
          "name": "stderr"
        },
        {
          "output_type": "display_data",
          "data": {
            "image/png": "[encoded data removed]",
            "text/plain": [
              "<Figure size 432x288 with 1 Axes>"
            ]
          },
          "metadata": {
            "tags": []
          }
        }
      ]
    },
    {
      "cell_type": "markdown",
      "metadata": {
        "colab_type": "text",
        "id": "8JSqwOnqEB3w"
      },
      "source": [
        "####Sepal Width to Sepal Length"
      ]
    },
    {
      "cell_type": "code",
      "metadata": {
        "colab_type": "code",
        "outputId": "2e2b0e82-92c8-49ee-edd7-960d12282b8f",
        "id": "ByUK1VZREB3z",
        "colab": {
          "base_uri": "https://localhost:8080/",
          "height": 388
        }
      },
      "source": [
        "plot_linear_regression_model_statistics('Sepal Width', 'Sepal Length', None)"
      ],
      "execution_count": 29,
      "outputs": [
        {
          "output_type": "stream",
          "text": [
            "Coefficients: \n",
            " [[-0.09856213]]\n",
            "Mean squared error: 0.65\n",
            "Variance score: 0.01\n"
          ],
          "name": "stdout"
        },
        {
          "output_type": "stream",
          "text": [
            "/usr/local/lib/python3.6/dist-packages/ipykernel_launcher.py:10: FutureWarning: Method .as_matrix will be removed in a future version. Use .values instead.\n",
            "  # Remove the CWD from sys.path while we load stuff.\n",
            "/usr/local/lib/python3.6/dist-packages/ipykernel_launcher.py:12: FutureWarning: Method .as_matrix will be removed in a future version. Use .values instead.\n",
            "  if sys.path[0] == '':\n"
          ],
          "name": "stderr"
        },
        {
          "output_type": "display_data",
          "data": {
            "image/png": "[encoded data removed]",
            "text/plain": [
              "<Figure size 432x288 with 1 Axes>"
            ]
          },
          "metadata": {
            "tags": []
          }
        }
      ]
    },
    {
      "cell_type": "markdown",
      "metadata": {
        "colab_type": "text",
        "id": "RaLllKzMEkuI"
      },
      "source": [
        "####Sepal Width to Petal Length"
      ]
    },
    {
      "cell_type": "code",
      "metadata": {
        "colab_type": "code",
        "outputId": "4509f2f1-4f32-4e45-bc2d-9295a3ebefed",
        "id": "nXAy6LIjEkuL",
        "colab": {
          "base_uri": "https://localhost:8080/",
          "height": 388
        }
      },
      "source": [
        "plot_linear_regression_model_statistics('Sepal Width', 'Petal Length', None)"
      ],
      "execution_count": 30,
      "outputs": [
        {
          "output_type": "stream",
          "text": [
            "Coefficients: \n",
            " [[-1.48690507]]\n",
            "Mean squared error: 2.46\n",
            "Variance score: 0.25\n"
          ],
          "name": "stdout"
        },
        {
          "output_type": "stream",
          "text": [
            "/usr/local/lib/python3.6/dist-packages/ipykernel_launcher.py:10: FutureWarning: Method .as_matrix will be removed in a future version. Use .values instead.\n",
            "  # Remove the CWD from sys.path while we load stuff.\n",
            "/usr/local/lib/python3.6/dist-packages/ipykernel_launcher.py:12: FutureWarning: Method .as_matrix will be removed in a future version. Use .values instead.\n",
            "  if sys.path[0] == '':\n"
          ],
          "name": "stderr"
        },
        {
          "output_type": "display_data",
          "data": {
            "image/png": "[encoded data removed]",
            "text/plain": [
              "<Figure size 432x288 with 1 Axes>"
            ]
          },
          "metadata": {
            "tags": []
          }
        }
      ]
    },
    {
      "cell_type": "markdown",
      "metadata": {
        "colab_type": "text",
        "id": "ZY4A0OJeEynQ"
      },
      "source": [
        "####Sepal Width to Petal Width"
      ]
    },
    {
      "cell_type": "code",
      "metadata": {
        "colab_type": "code",
        "outputId": "e050f999-a57d-4423-d7a6-7ca78e9b3855",
        "id": "senxjUdYEynS",
        "colab": {
          "base_uri": "https://localhost:8080/",
          "height": 388
        }
      },
      "source": [
        "plot_linear_regression_model_statistics('Sepal Width', 'Petal Width', None)"
      ],
      "execution_count": 31,
      "outputs": [
        {
          "output_type": "stream",
          "text": [
            "Coefficients: \n",
            " [[-0.52582806]]\n",
            "Mean squared error: 0.51\n",
            "Variance score: 0.19\n"
          ],
          "name": "stdout"
        },
        {
          "output_type": "stream",
          "text": [
            "/usr/local/lib/python3.6/dist-packages/ipykernel_launcher.py:10: FutureWarning: Method .as_matrix will be removed in a future version. Use .values instead.\n",
            "  # Remove the CWD from sys.path while we load stuff.\n",
            "/usr/local/lib/python3.6/dist-packages/ipykernel_launcher.py:12: FutureWarning: Method .as_matrix will be removed in a future version. Use .values instead.\n",
            "  if sys.path[0] == '':\n"
          ],
          "name": "stderr"
        },
        {
          "output_type": "display_data",
          "data": {
            "image/png": "[encoded data removed]",
            "text/plain": [
              "<Figure size 432x288 with 1 Axes>"
            ]
          },
          "metadata": {
            "tags": []
          }
        }
      ]
    },
    {
      "cell_type": "markdown",
      "metadata": {
        "id": "IYxYTzWGHUEE",
        "colab_type": "text"
      },
      "source": [
        "###A plot of the best overall linear regression model you were able to generate using any combination of features (including the use of multiple features used in combination to predict a single feature), with corresponding model statistics."
      ]
    },
    {
      "cell_type": "code",
      "metadata": {
        "id": "cE6-NvVYgSMO",
        "colab_type": "code",
        "colab": {
          "base_uri": "https://localhost:8080/",
          "height": 153
        },
        "outputId": "0418f61c-39ab-4e45-82c5-4506be7f4c39"
      },
      "source": [
        "plot_linear_regression_model_statistics('Sepal Width', 'Petal Width', 'Petal Length')"
      ],
      "execution_count": 32,
      "outputs": [
        {
          "output_type": "stream",
          "text": [
            "Coefficients: \n",
            " [[0.10197872 0.42222385]]\n",
            "Mean squared error: 0.03\n",
            "Variance score: 0.94\n"
          ],
          "name": "stdout"
        },
        {
          "output_type": "stream",
          "text": [
            "/usr/local/lib/python3.6/dist-packages/ipykernel_launcher.py:8: FutureWarning: Method .as_matrix will be removed in a future version. Use .values instead.\n",
            "  \n",
            "/usr/local/lib/python3.6/dist-packages/ipykernel_launcher.py:12: FutureWarning: Method .as_matrix will be removed in a future version. Use .values instead.\n",
            "  if sys.path[0] == '':\n"
          ],
          "name": "stderr"
        }
      ]
    },
    {
      "cell_type": "markdown",
      "metadata": {
        "id": "g86KbtKbr0-g",
        "colab_type": "text"
      },
      "source": [
        "Here, we can see that the best overall linear regression model was for Sepal Width, Petal Width to Petal Length with the Coefficients: [[0.10197872 0.42222385]], a very little Mean squared error of 0.03 and a Variance score of 0.94"
      ]
    },
    {
      "cell_type": "markdown",
      "metadata": {
        "collapsed": true,
        "id": "mEB0fcOj1sYi",
        "colab_type": "text"
      },
      "source": [
        "## Conceptual Questions\n",
        "\n"
      ]
    },
    {
      "cell_type": "markdown",
      "metadata": {
        "id": "0_TJIPEOuzC1",
        "colab_type": "text"
      },
      "source": [
        "###Based upon the linear models you generated, which pair of features appear to be most predictive for one another? Note that you can answer this question based upon the output provided for the linear models."
      ]
    },
    {
      "cell_type": "markdown",
      "metadata": {
        "id": "mbhgBieRu6G1",
        "colab_type": "text"
      },
      "source": [
        "Based upon the linear regression models generated, we can distinctly infer the prediction of 'Petal Width' from 'Petal Length' involves the least Mean Squared error(0.04) and the Varience is very close to 1(0.94). The same can be inferred from the plot of the regression model."
      ]
    },
    {
      "cell_type": "markdown",
      "metadata": {
        "colab_type": "text",
        "id": "m1sN99hUu9xK"
      },
      "source": [
        "###Suppose you tried to generate a classification model on this dataset, but only after removing the feature that you were best able to predict based upon other features. How would removing this feature affect the classification performance?"
      ]
    },
    {
      "cell_type": "markdown",
      "metadata": {
        "colab_type": "text",
        "id": "EKGKkRyWu9xO"
      },
      "source": [
        "The best predictable feature is that of the Petal Width. This implies that given the Petal Length or Sepal Width and Petal Length for a species, the Petal Width was predicted with the least Mean Squared error and Varience close to 1. This feature seems important because without it, the statistics point towards a decrease in the accuracy of the regression models. From the above generated regression plot, we can therefor infer, for each pairwise feature without the Petal Width feature included, the prediction of 'Petal Length' to 'Sepal Length' with a Mean Squared Error of 0.15 and Varience of 0.77 would be the next best. Thus the Petal Width feature is the most important because it affects the model accuracy if its not included."
      ]
    }
  ]
}