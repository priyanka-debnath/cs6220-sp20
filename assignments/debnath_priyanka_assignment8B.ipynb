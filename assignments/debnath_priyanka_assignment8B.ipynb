{
  "nbformat": 4,
  "nbformat_minor": 0,
  "metadata": {
    "colab": {
      "name": "debnath_priyanka_assignment8B.ipynb",
      "provenance": [],
      "collapsed_sections": []
    },
    "kernelspec": {
      "name": "python3",
      "display_name": "Python 3"
    },
    "accelerator": "GPU"
  },
  "cells": [
    {
      "cell_type": "markdown",
      "metadata": {
        "id": "otlj7SUY7ZSG",
        "colab_type": "text"
      },
      "source": [
        "# Revisit the solution you submitted to assignment 8A (the previous assignment), repeating the classification experiment that was carried out. If you used a dataset that had multiple classes, you may choose a different (binary) dataset, or you can manipulate your dataset, forcing it to be binary."
      ]
    },
    {
      "cell_type": "markdown",
      "metadata": {
        "id": "y0oOMQwQb712",
        "colab_type": "text"
      },
      "source": [
        "### Lets start by loading the dataset."
      ]
    },
    {
      "cell_type": "code",
      "metadata": {
        "id": "8E8Q-yBi3jq2",
        "colab_type": "code",
        "colab": {}
      },
      "source": [
        "import pandas as pd\n",
        "\n",
        "fileURL = 'http://archive.ics.uci.edu/ml/machine-learning-databases/haberman/haberman.data'\n",
        "data = pd.read_csv(fileURL, names=['Age', 'YearOfSurgery', 'NumOfAxillaryNodes', 'Class'], header=None)"
      ],
      "execution_count": 0,
      "outputs": []
    },
    {
      "cell_type": "code",
      "metadata": {
        "id": "dvJHxW87cjnn",
        "colab_type": "code",
        "outputId": "c82cfe94-7298-4456-ff97-b0be1f46034c",
        "colab": {
          "base_uri": "https://localhost:8080/",
          "height": 204
        }
      },
      "source": [
        "data.head()"
      ],
      "execution_count": 2,
      "outputs": [
        {
          "output_type": "execute_result",
          "data": {
            "text/html": [
              "<div>\n",
              "<style scoped>\n",
              "    .dataframe tbody tr th:only-of-type {\n",
              "        vertical-align: middle;\n",
              "    }\n",
              "\n",
              "    .dataframe tbody tr th {\n",
              "        vertical-align: top;\n",
              "    }\n",
              "\n",
              "    .dataframe thead th {\n",
              "        text-align: right;\n",
              "    }\n",
              "</style>\n",
              "<table border=\"1\" class=\"dataframe\">\n",
              "  <thead>\n",
              "    <tr style=\"text-align: right;\">\n",
              "      <th></th>\n",
              "      <th>Age</th>\n",
              "      <th>YearOfSurgery</th>\n",
              "      <th>NumOfAxillaryNodes</th>\n",
              "      <th>Class</th>\n",
              "    </tr>\n",
              "  </thead>\n",
              "  <tbody>\n",
              "    <tr>\n",
              "      <th>0</th>\n",
              "      <td>30</td>\n",
              "      <td>64</td>\n",
              "      <td>1</td>\n",
              "      <td>1</td>\n",
              "    </tr>\n",
              "    <tr>\n",
              "      <th>1</th>\n",
              "      <td>30</td>\n",
              "      <td>62</td>\n",
              "      <td>3</td>\n",
              "      <td>1</td>\n",
              "    </tr>\n",
              "    <tr>\n",
              "      <th>2</th>\n",
              "      <td>30</td>\n",
              "      <td>65</td>\n",
              "      <td>0</td>\n",
              "      <td>1</td>\n",
              "    </tr>\n",
              "    <tr>\n",
              "      <th>3</th>\n",
              "      <td>31</td>\n",
              "      <td>59</td>\n",
              "      <td>2</td>\n",
              "      <td>1</td>\n",
              "    </tr>\n",
              "    <tr>\n",
              "      <th>4</th>\n",
              "      <td>31</td>\n",
              "      <td>65</td>\n",
              "      <td>4</td>\n",
              "      <td>1</td>\n",
              "    </tr>\n",
              "  </tbody>\n",
              "</table>\n",
              "</div>"
            ],
            "text/plain": [
              "   Age  YearOfSurgery  NumOfAxillaryNodes  Class\n",
              "0   30             64                   1      1\n",
              "1   30             62                   3      1\n",
              "2   30             65                   0      1\n",
              "3   31             59                   2      1\n",
              "4   31             65                   4      1"
            ]
          },
          "metadata": {
            "tags": []
          },
          "execution_count": 2
        }
      ]
    },
    {
      "cell_type": "markdown",
      "metadata": {
        "id": "GZxaw_Xf4GCV",
        "colab_type": "text"
      },
      "source": [
        "### Since we are to consider a binary dataset, selecting 2 features for the decision tree."
      ]
    },
    {
      "cell_type": "code",
      "metadata": {
        "id": "QWDJ_b2C4tVX",
        "colab_type": "code",
        "colab": {
          "base_uri": "https://localhost:8080/",
          "height": 51
        },
        "outputId": "766a2381-bcb4-4d23-8cd6-6d9b8da5c707"
      },
      "source": [
        "from sklearn.model_selection import train_test_split\n",
        "\n",
        "X = data.as_matrix(['Age', 'NumOfAxillaryNodes'])\n",
        "Y = data['Class'].values.tolist()\n",
        "\n",
        "X_train, X_test, Y_train, Y_test = train_test_split(X, Y, test_size=0.33, random_state=42)"
      ],
      "execution_count": 4,
      "outputs": [
        {
          "output_type": "stream",
          "text": [
            "/usr/local/lib/python3.6/dist-packages/ipykernel_launcher.py:3: FutureWarning: Method .as_matrix will be removed in a future version. Use .values instead.\n",
            "  This is separate from the ipykernel package so we can avoid doing imports until\n"
          ],
          "name": "stderr"
        }
      ]
    },
    {
      "cell_type": "markdown",
      "metadata": {
        "id": "ZQ8K4ugt5mbj",
        "colab_type": "text"
      },
      "source": [
        "# Retrain your model using the above suggestions (be sure to split your data into train/test where appropriate)."
      ]
    },
    {
      "cell_type": "markdown",
      "metadata": {
        "id": "wNlk0Khf5p4z",
        "colab_type": "text"
      },
      "source": [
        "Let's train the supervised learning model using scikit-learn’s DecisionTreeClassifier"
      ]
    },
    {
      "cell_type": "code",
      "metadata": {
        "id": "ksEMC7PHc7Uq",
        "colab_type": "code",
        "colab": {}
      },
      "source": [
        "from sklearn import tree\n",
        "\n",
        "decTreeClf = tree.DecisionTreeClassifier()\n",
        "decTreeClf = decTreeClf.fit(X_train, Y_train)"
      ],
      "execution_count": 0,
      "outputs": []
    },
    {
      "cell_type": "code",
      "metadata": {
        "id": "LgdaV85u5_T1",
        "colab_type": "code",
        "colab": {}
      },
      "source": [
        "Y_predict = decTreeClf.predict(X_test)\n",
        "Y_predict_proba = decTreeClf.predict_proba(X_test)\n",
        "Y_predict_proba = Y_predict_proba[:,0]"
      ],
      "execution_count": 0,
      "outputs": []
    },
    {
      "cell_type": "markdown",
      "metadata": {
        "id": "RzQipV6WdBKv",
        "colab_type": "text"
      },
      "source": [
        "# Deliver a notebook containing a detailed evaluation report listing the metrics listed below, along with your commentary to each."
      ]
    },
    {
      "cell_type": "markdown",
      "metadata": {
        "id": "UCzjLISx6muG",
        "colab_type": "text"
      },
      "source": [
        "### The accuracy of your model on the test data"
      ]
    },
    {
      "cell_type": "code",
      "metadata": {
        "id": "8NPgvwY39o_A",
        "colab_type": "code",
        "colab": {
          "base_uri": "https://localhost:8080/",
          "height": 34
        },
        "outputId": "9104d54e-d810-4ba5-9e5e-cc1d1d0d07d5"
      },
      "source": [
        "from sklearn.metrics import accuracy_score\n",
        "\n",
        "accuracy_score(Y_test, Y_predict)"
      ],
      "execution_count": 8,
      "outputs": [
        {
          "output_type": "execute_result",
          "data": {
            "text/plain": [
              "0.7425742574257426"
            ]
          },
          "metadata": {
            "tags": []
          },
          "execution_count": 8
        }
      ]
    },
    {
      "cell_type": "markdown",
      "metadata": {
        "id": "y8NA96C0Civk",
        "colab_type": "text"
      },
      "source": [
        "Lets see what is the surgery survival count."
      ]
    },
    {
      "cell_type": "code",
      "metadata": {
        "id": "lZysMG_J9xr_",
        "colab_type": "code",
        "colab": {
          "base_uri": "https://localhost:8080/",
          "height": 34
        },
        "outputId": "0ddb8b3e-7d59-4c5e-e48b-f17f4b8c2141"
      },
      "source": [
        "Y_test.count(1)"
      ],
      "execution_count": 16,
      "outputs": [
        {
          "output_type": "execute_result",
          "data": {
            "text/plain": [
              "74"
            ]
          },
          "metadata": {
            "tags": []
          },
          "execution_count": 16
        }
      ]
    },
    {
      "cell_type": "markdown",
      "metadata": {
        "id": "kEOGbC-XCqas",
        "colab_type": "text"
      },
      "source": [
        "And now lets see how many people did not survive the surgery."
      ]
    },
    {
      "cell_type": "code",
      "metadata": {
        "id": "NrPjagpDCfFI",
        "colab_type": "code",
        "colab": {
          "base_uri": "https://localhost:8080/",
          "height": 34
        },
        "outputId": "a85db96b-6de3-4ef1-ddd0-5e8b9392cea9"
      },
      "source": [
        "Y_test.count(2)"
      ],
      "execution_count": 17,
      "outputs": [
        {
          "output_type": "execute_result",
          "data": {
            "text/plain": [
              "27"
            ]
          },
          "metadata": {
            "tags": []
          },
          "execution_count": 17
        }
      ]
    },
    {
      "cell_type": "markdown",
      "metadata": {
        "id": "t6FSZ3SgCx6t",
        "colab_type": "text"
      },
      "source": [
        "#### **Evaluation Comment**\n",
        "\n",
        "The accuracy_score function computes the accuracy as a fraction as shown above(normalize=True by default). If the entire set of predicted labels for a sample strictly match with the true set of labels, then the subset accuracy is 1.0; otherwise it is 0.0.\n",
        "\n",
        "We see that the given accuracy_score function gives us the result as a floating point. The computed accuracy is **0.71**. \n",
        "\n",
        "This can be considered a good accuracy since it is closer to 1., which means 100%. Thus, it can be said about the trained model that it could predict the correct result (survived/did not survive) about 71% of the time. \n",
        "\n",
        "A point worth noting is that since we have fewer instances of patients who did not survive, i.e. 27, this number is fairly less that the count of people who did survive which is 74. Hence, accuracy may not be the most correct evaluation of our model at hand."
      ]
    },
    {
      "cell_type": "markdown",
      "metadata": {
        "colab_type": "text",
        "id": "htDGncs-C5W3"
      },
      "source": [
        "### The precision and recall values"
      ]
    },
    {
      "cell_type": "code",
      "metadata": {
        "id": "VTzKL6UfDeyY",
        "colab_type": "code",
        "colab": {
          "base_uri": "https://localhost:8080/",
          "height": 34
        },
        "outputId": "0f471a69-a5c1-4439-9fea-8e444650d34c"
      },
      "source": [
        "from sklearn.metrics import precision_score\n",
        "\n",
        "precision = precision_score(Y_test, Y_predict, average='binary', pos_label=1)\n",
        "precision"
      ],
      "execution_count": 21,
      "outputs": [
        {
          "output_type": "execute_result",
          "data": {
            "text/plain": [
              "0.7727272727272727"
            ]
          },
          "metadata": {
            "tags": []
          },
          "execution_count": 21
        }
      ]
    },
    {
      "cell_type": "code",
      "metadata": {
        "id": "4QazItbPDYkY",
        "colab_type": "code",
        "colab": {
          "base_uri": "https://localhost:8080/",
          "height": 34
        },
        "outputId": "1734ef24-84c4-47b6-a16e-167e495e1687"
      },
      "source": [
        "from sklearn.metrics import recall_score\n",
        "\n",
        "recall = recall_score(Y_test, Y_predict, average='binary', pos_label=1)\n",
        "recall"
      ],
      "execution_count": 20,
      "outputs": [
        {
          "output_type": "execute_result",
          "data": {
            "text/plain": [
              "0.918918918918919"
            ]
          },
          "metadata": {
            "tags": []
          },
          "execution_count": 20
        }
      ]
    },
    {
      "cell_type": "markdown",
      "metadata": {
        "id": "9dDt7xn0K4B7",
        "colab_type": "text"
      },
      "source": [
        "#### **Evaluation Comment**\n",
        "\n",
        "As we know, precision is calculated as TP / TP + FP and recall as TP / TP + FN.\n",
        "\n",
        "Hence, we can say following:\n",
        "\n",
        "*   precision is inversely proportional to false positive\n",
        "*   recall is inversely proportional to false negatives\n",
        "\n",
        "Ideally, in order to have low false positives and negatives, we need to have high precision and recall values. \n",
        "With given model at hand, we can say that the precision of **0.77** and recall of **0.91** are pretty good values for the classifier."
      ]
    },
    {
      "cell_type": "markdown",
      "metadata": {
        "colab_type": "text",
        "id": "DtBlgat8EkVu"
      },
      "source": [
        "### A classification report (scikit-learn has a function that can create this for you)"
      ]
    },
    {
      "cell_type": "code",
      "metadata": {
        "colab_type": "code",
        "outputId": "1c114958-832f-496f-f411-bfefa2a8a822",
        "id": "Imh_7pZiEkVz",
        "colab": {
          "base_uri": "https://localhost:8080/",
          "height": 170
        }
      },
      "source": [
        "from sklearn.metrics import classification_report\n",
        "import numpy as np\n",
        "\n",
        "target_names = ['Survived', 'Died']\n",
        "print(classification_report(Y_test, decTreeClf.predict(X_test), target_names=target_names))"
      ],
      "execution_count": 23,
      "outputs": [
        {
          "output_type": "stream",
          "text": [
            "              precision    recall  f1-score   support\n",
            "\n",
            "    Survived       0.77      0.92      0.84        74\n",
            "        Died       0.54      0.26      0.35        27\n",
            "\n",
            "    accuracy                           0.74       101\n",
            "   macro avg       0.66      0.59      0.59       101\n",
            "weighted avg       0.71      0.74      0.71       101\n",
            "\n"
          ],
          "name": "stdout"
        }
      ]
    },
    {
      "cell_type": "markdown",
      "metadata": {
        "id": "zF1a1N_vMf2Y",
        "colab_type": "text"
      },
      "source": [
        "#### **Evaluation Comment**\n",
        "\n",
        "From sklearn's metric, the classification report function results in a tabular format of results, which include metrics to correctly evaluate the classifier. \n",
        "\n",
        "Values for Precision, Recall and F1-score look good for survival cases compared to death cases. This could be because of fewer instances of No Survival cases in the model. Hence, this classifier is a moderately good when it comes to making predictions correctly."
      ]
    },
    {
      "cell_type": "markdown",
      "metadata": {
        "colab_type": "text",
        "id": "73Tc0Ta7E4gD"
      },
      "source": [
        "### The confusion matrix for this experiment"
      ]
    },
    {
      "cell_type": "code",
      "metadata": {
        "colab_type": "code",
        "outputId": "78f0255a-e2cf-47f4-c6da-0c3137e2e143",
        "id": "1V7pdTC8E4gF",
        "colab": {
          "base_uri": "https://localhost:8080/",
          "height": 51
        }
      },
      "source": [
        "from sklearn.metrics import confusion_matrix\n",
        "\n",
        "confusion_matrix(Y_test, Y_predict, labels=[1,2])"
      ],
      "execution_count": 25,
      "outputs": [
        {
          "output_type": "execute_result",
          "data": {
            "text/plain": [
              "array([[68,  6],\n",
              "       [20,  7]])"
            ]
          },
          "metadata": {
            "tags": []
          },
          "execution_count": 25
        }
      ]
    },
    {
      "cell_type": "markdown",
      "metadata": {
        "id": "JqA_i-OSONpa",
        "colab_type": "text"
      },
      "source": [
        "#### **Evaluation Comment**\n",
        "\n",
        "If we reference the sklearn documentation for binary classification, \n",
        "\n",
        "*   matrix[0][0] holds true negative value - **68**\n",
        "*   matrix[1][0] holds false negative value - **20**\n",
        "*   matrix[0][1] holds false positive value - **6**\n",
        "*   matrix[1][1] holds true positive value - **7**\n",
        "\n",
        "From the confusion matrix above, we can see that the model correctly predicted the correct class for 75 instances out of the 101 test instances. i.e TN = 68 and TP = 7.\n",
        "For incorrect class prediction, we see that we have 26 such predictions out of 101 instances, i.e FN = 20 and FP = 6.\n",
        "\n",
        "We also see that total number of people who survived = TN + FP = 74 and the total number of people who did not survive = TP + FN = 27 which is inline with our earlier evaluation."
      ]
    },
    {
      "cell_type": "markdown",
      "metadata": {
        "colab_type": "text",
        "id": "k8DfalEEFJmO"
      },
      "source": [
        "### An ROC curve"
      ]
    },
    {
      "cell_type": "code",
      "metadata": {
        "colab_type": "code",
        "outputId": "cf278cfb-cb33-492e-c910-1e93d7aec1a3",
        "id": "-OWj-YUlFJmQ",
        "colab": {
          "base_uri": "https://localhost:8080/",
          "height": 282
        }
      },
      "source": [
        "%pylab inline\n",
        "from sklearn.metrics import roc_curve, auc\n",
        "import matplotlib.pyplot as plt\n",
        "\n",
        "fpr, tpr, threshold = roc_curve(Y_test, Y_predict_proba, pos_label=1)\n",
        "\n",
        "plt.plot(fpr, tpr)\n",
        "plt.show() "
      ],
      "execution_count": 28,
      "outputs": [
        {
          "output_type": "stream",
          "text": [
            "Populating the interactive namespace from numpy and matplotlib\n"
          ],
          "name": "stdout"
        },
        {
          "output_type": "display_data",
          "data": {
            "image/png": "[encoded data removed]",
            "text/plain": [
              "<Figure size 432x288 with 1 Axes>"
            ]
          },
          "metadata": {
            "tags": []
          }
        }
      ]
    },
    {
      "cell_type": "code",
      "metadata": {
        "id": "2jLPq3NGHmhI",
        "colab_type": "code",
        "colab": {
          "base_uri": "https://localhost:8080/",
          "height": 34
        },
        "outputId": "43051323-60a1-433e-8f88-295dd42707e6"
      },
      "source": [
        "roc_auc = auc(fpr, tpr)\n",
        "roc_auc"
      ],
      "execution_count": 29,
      "outputs": [
        {
          "output_type": "execute_result",
          "data": {
            "text/plain": [
              "0.5690690690690691"
            ]
          },
          "metadata": {
            "tags": []
          },
          "execution_count": 29
        }
      ]
    },
    {
      "cell_type": "markdown",
      "metadata": {
        "id": "sCQVxHgmWlgx",
        "colab_type": "text"
      },
      "source": [
        "#### **Evaluation Comment**\n",
        "\n",
        "We can clearly make the inference that the ROC curve generated above gives a moderately good performance. The area under curve is **0.57** which is just slightly over 50%\n",
        "\n",
        "As we know, the X-axis in an ROC curve denoted the FPR and the Y-axis denotes the TPR. At point (0,1), it would be the ideal model where the TPR would be 100% TPR and FPR to be 0%."
      ]
    },
    {
      "cell_type": "markdown",
      "metadata": {
        "colab_type": "text",
        "id": "jMEHrT4OGUcL"
      },
      "source": [
        "### A Precision/Recall curve"
      ]
    },
    {
      "cell_type": "code",
      "metadata": {
        "colab_type": "code",
        "outputId": "59ab5f34-80a7-4f26-bea4-84599cf60037",
        "id": "93iRJoSWGUcO",
        "colab": {
          "base_uri": "https://localhost:8080/",
          "height": 265
        }
      },
      "source": [
        "from sklearn.metrics import precision_recall_curve\n",
        "\n",
        "precision, recall, thresholds = precision_recall_curve(Y_test, Y_predict_proba, pos_label=1)\n",
        "\n",
        "plt.plot(precision, recall)\n",
        "plt.show() "
      ],
      "execution_count": 27,
      "outputs": [
        {
          "output_type": "display_data",
          "data": {
            "image/png": "[encoded data removed]",
            "text/plain": [
              "<Figure size 432x288 with 1 Axes>"
            ]
          },
          "metadata": {
            "tags": []
          }
        }
      ]
    },
    {
      "cell_type": "code",
      "metadata": {
        "id": "CZ5XlT4KIC_M",
        "colab_type": "code",
        "colab": {
          "base_uri": "https://localhost:8080/",
          "height": 34
        },
        "outputId": "0e25d81b-dfd2-4414-d50d-8768ad4c6fc5"
      },
      "source": [
        "from sklearn.metrics import average_precision_score\n",
        "\n",
        "average_precision = average_precision_score(Y_test, Y_predict)\n",
        "average_precision"
      ],
      "execution_count": 31,
      "outputs": [
        {
          "output_type": "execute_result",
          "data": {
            "text/plain": [
              "0.7106893641547106"
            ]
          },
          "metadata": {
            "tags": []
          },
          "execution_count": 31
        }
      ]
    },
    {
      "cell_type": "markdown",
      "metadata": {
        "id": "Q3v2IyAFXuNR",
        "colab_type": "text"
      },
      "source": [
        "#### **Evaluation Comment**\n",
        "\n",
        "It is not always possible to have high values for both precision and recall. Here, point (1,1) is the ideal model. The curve is the graphical representation of these two metrics. We do see a steady slope in this relationship.\n",
        "\n",
        "So, from the graph we can conclude that, our model is fairly good at making predictions but there is a big room for improvement."
      ]
    }
  ]
}